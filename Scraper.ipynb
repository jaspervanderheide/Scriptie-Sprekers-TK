{
 "cells": [
  {
   "cell_type": "code",
   "execution_count": 1,
   "metadata": {},
   "outputs": [],
   "source": [
    "%matplotlib inline\n",
    "from os import listdir, path\n",
    "from requests import get\n",
    "import urllib3\n",
    "from lxml import etree\n",
    "import pandas as pd\n",
    "import warnings\n",
    "from tqdm import tqdm\n",
    "import itertools\n",
    "warnings.filterwarnings('ignore')\n",
    "urllib3.disable_warnings(urllib3.exceptions.InsecureRequestWarning)"
   ]
  },
  {
   "cell_type": "code",
   "execution_count": 2,
   "metadata": {},
   "outputs": [
    {
     "name": "stderr",
     "output_type": "stream",
     "text": [
      "  0%|                                                                                            | 0/7 [00:00<?, ?it/s]\n"
     ]
    },
    {
     "ename": "NameError",
     "evalue": "name 'assembly' is not defined",
     "output_type": "error",
     "traceback": [
      "\u001b[1;31m---------------------------------------------------------------------------\u001b[0m",
      "\u001b[1;31mNameError\u001b[0m                                 Traceback (most recent call last)",
      "\u001b[1;32m<ipython-input-2-de7570134972>\u001b[0m in \u001b[0;36m<module>\u001b[1;34m()\u001b[0m\n\u001b[0;32m      3\u001b[0m     \u001b[0mi\u001b[0m\u001b[1;33m=\u001b[0m\u001b[1;36m0\u001b[0m\u001b[1;33m\u001b[0m\u001b[0m\n\u001b[0;32m      4\u001b[0m     \u001b[1;32mwhile\u001b[0m \u001b[0mstop\u001b[0m \u001b[1;33m==\u001b[0m \u001b[1;32mFalse\u001b[0m\u001b[1;33m:\u001b[0m\u001b[1;33m\u001b[0m\u001b[0m\n\u001b[1;32m----> 5\u001b[1;33m         \u001b[0massembly\u001b[0m \u001b[1;33m+=\u001b[0m \u001b[1;36m1\u001b[0m\u001b[1;33m\u001b[0m\u001b[0m\n\u001b[0m\u001b[0;32m      6\u001b[0m         \u001b[1;32mfor\u001b[0m \u001b[0mdebate\u001b[0m \u001b[1;32min\u001b[0m \u001b[0mrange\u001b[0m\u001b[1;33m(\u001b[0m\u001b[1;36m1\u001b[0m\u001b[1;33m,\u001b[0m \u001b[1;36m200\u001b[0m\u001b[1;33m)\u001b[0m\u001b[1;33m:\u001b[0m\u001b[1;33m\u001b[0m\u001b[0m\n\u001b[0;32m      7\u001b[0m             \u001b[0mfile\u001b[0m \u001b[1;33m=\u001b[0m \u001b[1;34m\"h-tk-%s-%s-%s\"\u001b[0m \u001b[1;33m%\u001b[0m\u001b[1;33m(\u001b[0m\u001b[0mstr\u001b[0m\u001b[1;33m(\u001b[0m\u001b[0myear\u001b[0m\u001b[1;33m)\u001b[0m\u001b[1;33m+\u001b[0m\u001b[0mstr\u001b[0m\u001b[1;33m(\u001b[0m\u001b[0myear\u001b[0m\u001b[1;33m+\u001b[0m\u001b[1;36m1\u001b[0m\u001b[1;33m)\u001b[0m\u001b[1;33m,\u001b[0m \u001b[0mstr\u001b[0m\u001b[1;33m(\u001b[0m\u001b[0massembly\u001b[0m\u001b[1;33m)\u001b[0m\u001b[1;33m,\u001b[0m \u001b[0mstr\u001b[0m\u001b[1;33m(\u001b[0m\u001b[0mdebate\u001b[0m\u001b[1;33m)\u001b[0m\u001b[1;33m)\u001b[0m\u001b[1;33m\u001b[0m\u001b[0m\n",
      "\u001b[1;31mNameError\u001b[0m: name 'assembly' is not defined"
     ]
    }
   ],
   "source": [
    "for year in tqdm(range(2011, 2018)):\n",
    "    stop = False\n",
    "    assemblyNr = 0\n",
    "    while stop == False:\n",
    "        assemblyNr += 1\n",
    "        for debateNr in range(1, 200):\n",
    "            file = \"h-tk-%s-%s-%s\" %(str(year)+str(year+1), str(assemblyNr), str(debateNr))\n",
    "            if not path.isfile('HandelingenTK/%s.xml' %file):\n",
    "                url = \"https://zoek.officielebekendmakingen.nl/%s\" %file\n",
    "                resp = get(url + \".xml\", verify=False, allow_redirects=False)\n",
    "                if resp.status_code == 200:\n",
    "                    hand_file = open('HandelingenTK/%s.xml' %file, 'wb')\n",
    "                    hand_file.write(resp.content)\n",
    "                    hand_file.close()\n",
    "                    resp = get(url+\"/metadata.xml\", verify=False, \\\n",
    "                                                        allow_redirects=False)\n",
    "                    meta_file = open('HandelingenTKmeta/%smetadata.xml' %file, 'wb')\n",
    "                    meta_file.write(resp.content)\n",
    "                    meta_file.close()    \n",
    "                elif debateNr == 1:\n",
    "                    stop = True\n",
    "                    break\n",
    "                else:\n",
    "                    break"
   ]
  },
  {
   "cell_type": "code",
   "execution_count": null,
   "metadata": {},
   "outputs": [],
   "source": [
    "enddict = {}\n",
    "i = 0\n",
    "for file in listdir('HandelingenTK/'):\n",
    "    context = etree.iterparse('HandelingenTK/' + file,  tag='spreekbeurt')\n",
    "    mainSpeaker = None\n",
    "    for _, elem in context:\n",
    "        if elem.get('nieuw') == 'ja':\n",
    "            speechCategory = \"Main Speech\"\n",
    "            mainSpeaker = elem.findtext('spreker/naam/achternaam')\n",
    "        elif elem.findtext('spreker/naam/achternaam') == mainSpeaker:\n",
    "            speechCategory = \"Response\"\n",
    "        else:\n",
    "            speechCategory = \"Interruption\"\n",
    "        surname = elem.findtext('spreker/naam/achternaam')\n",
    "        party = elem.findtext('spreker/politiek')\n",
    "        text = ' '.join(elem.find('tekst').itertext())\n",
    "        enddict[i] = [surname, party, text, file, speechCategory]\n",
    "        del surname, party, text, speechCategory\n",
    "        i += 1\n",
    "df = pd.DataFrame.from_dict(enddict, orient='index')\n",
    "df = df.rename(columns={0:'surname', 1:'party', 2:'text', 3:'file', 4:'speech category'})"
   ]
  },
  {
   "cell_type": "code",
   "execution_count": null,
   "metadata": {},
   "outputs": [],
   "source": [
    "enddict = {}\n",
    "for file in listdir('HandelingenTKmeta'):\n",
    "    tags = []\n",
    "    datum = None\n",
    "    context = etree.iterparse('HandelingenTKmeta/' + file,  tag='metadata')\n",
    "    for _, elem in context:\n",
    "        if elem.get('name') == \"OVERHEIDop.datumVergadering\":\n",
    "            datum = elem.get('content')\n",
    "        elif elem.get('name') == \"OVERHEID.category\":\n",
    "            tags.append(elem.get('content'))\n",
    "        enddict[file[:-12]+'.xml'] = [datum, tags]\n",
    "df2 = pd.DataFrame.from_dict(enddict, orient='index')\n",
    "df2 = df2.rename(columns={0:'date', 1:'tags'})"
   ]
  },
  {
   "cell_type": "code",
   "execution_count": null,
   "metadata": {},
   "outputs": [],
   "source": [
    "combineddf = df.join(df2, on='file')\n",
    "combineddf = combineddf.dropna()\n",
    "#https://stackoverflow.com/questions/29370057/select-dataframe-rows-between-two-dates\n",
    "combineddf['date'] = pd.to_datetime(combineddf['date'])\n",
    "mask = (combineddf['date'] > '2012-11-05') & (combineddf['date'] <= '2017-03-23')\n",
    "combineddf = combineddf.loc[mask]\n",
    "combineddf = combineddf[combineddf['party'].isin(['50PLUS', 'CDA','ChristenUnie','D66','GroenLinks','PVV','PvdA','PvdD','SGP','SP','VVD'])]\n",
    "combineddf.to_csv(\"Handelingen.csv\")\n",
    "combineddf.head(5)"
   ]
  },
  {
   "cell_type": "code",
   "execution_count": null,
   "metadata": {},
   "outputs": [],
   "source": []
  }
 ],
 "metadata": {
  "kernelspec": {
   "display_name": "Python 3",
   "language": "python",
   "name": "python3"
  },
  "language_info": {
   "codemirror_mode": {
    "name": "ipython",
    "version": 3
   },
   "file_extension": ".py",
   "mimetype": "text/x-python",
   "name": "python",
   "nbconvert_exporter": "python",
   "pygments_lexer": "ipython3",
   "version": "3.6.4"
  }
 },
 "nbformat": 4,
 "nbformat_minor": 2
}
