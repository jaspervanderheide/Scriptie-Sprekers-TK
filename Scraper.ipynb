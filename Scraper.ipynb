{
 "cells": [
  {
   "cell_type": "code",
   "execution_count": 3,
   "metadata": {},
   "outputs": [],
   "source": [
    "%matplotlib inline\n",
    "import os\n",
    "import time\n",
    "import requests\n",
    "import urllib3\n",
    "from tqdm import tqdm\n",
    "from lxml import etree\n",
    "import pandas as pd\n",
    "import matplotlib.pyplot as plt\n",
    "from collections import Counter, defaultdict\n",
    "import numpy as np\n",
    "import seaborn as sn\n",
    "import warnings\n",
    "import itertools\n",
    "warnings.filterwarnings('ignore')\n",
    "urllib3.disable_warnings(urllib3.exceptions.InsecureRequestWarning)"
   ]
  },
  {
   "cell_type": "code",
   "execution_count": null,
   "metadata": {},
   "outputs": [
    {
     "name": "stderr",
     "output_type": "stream",
     "text": [
      " 19%|███████████████▉                                                                  | 19/98 [12:40<52:41, 40.02s/it]"
     ]
    }
   ],
   "source": [
    "year = \"20172018\"\n",
    "for i in tqdm(range(1, 99)):\n",
    "    for j in range(1, 99):\n",
    "        file = \"h-tk-%s-%s-%s\" %(year, str(i), str(j))\n",
    "        url = \"https://zoek.officielebekendmakingen.nl/%s\" %file\n",
    "        resp = requests.get(url + \".xml\", verify=False, allow_redirects=False)\n",
    "        if resp.status_code == 200:\n",
    "            hand_file = open('HandelingenTK/%s.xml' %file, 'wb')\n",
    "            hand_file.write(resp.content)\n",
    "            hand_file.close()\n",
    "            resp = requests.get(url+\"/metadata.xml\", verify=False, \\\n",
    "                                                allow_redirects=False)\n",
    "            meta_file = open('HandelingenTKmeta/meta%s.xml' %file, 'wb')\n",
    "            meta_file.write(resp.content)\n",
    "            meta_file.close()    \n",
    "        else:\n",
    "            break"
   ]
  },
  {
   "cell_type": "code",
   "execution_count": null,
   "metadata": {},
   "outputs": [],
   "source": [
    "enddict = {}\n",
    "i = 0\n",
    "for file in tqdm(os.listdir('HandelingenTK/')):\n",
    "    context = etree.iterparse('HandelingenTK/' + file,  tag='spreekbeurt')\n",
    "    for _, elem in context:\n",
    "        surname = elem.findtext('spreker/naam/achternaam')\n",
    "        party = elem.findtext('spreker/politiek')\n",
    "        text = ' '.join([elem2.findtext('al') for elem2 \\\n",
    "                         in elem.findall('tekst/al-groep') \\\n",
    "                          if elem2.findtext('al') is not None])\n",
    "        enddict[i] = [surname, party, text, file]\n",
    "        i += 1\n",
    "df = pd.DataFrame.from_dict(enddict, orient='index')\n",
    "df = df.rename(columns={0:'achternaam', 1:'partij', 2:'tekst', 3:'file'})\n",
    "df.to_csv"
   ]
  },
  {
   "cell_type": "code",
   "execution_count": null,
   "metadata": {},
   "outputs": [],
   "source": []
  }
 ],
 "metadata": {
  "kernelspec": {
   "display_name": "Python 3",
   "language": "python",
   "name": "python3"
  },
  "language_info": {
   "codemirror_mode": {
    "name": "ipython",
    "version": 3
   },
   "file_extension": ".py",
   "mimetype": "text/x-python",
   "name": "python",
   "nbconvert_exporter": "python",
   "pygments_lexer": "ipython3",
   "version": "3.6.4"
  }
 },
 "nbformat": 4,
 "nbformat_minor": 2
}
