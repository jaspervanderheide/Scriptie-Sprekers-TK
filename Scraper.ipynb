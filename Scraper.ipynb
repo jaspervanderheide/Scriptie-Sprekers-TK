{
 "cells": [
  {
   "cell_type": "code",
   "execution_count": 1,
   "metadata": {},
   "outputs": [],
   "source": [
    "%matplotlib inline\n",
    "from os import listdir, path\n",
    "from requests import get\n",
    "import urllib3\n",
    "from lxml import etree\n",
    "import pandas as pd\n",
    "import warnings\n",
    "from tqdm import tqdm\n",
    "import itertools\n",
    "warnings.filterwarnings('ignore')\n",
    "urllib3.disable_warnings(urllib3.exceptions.InsecureRequestWarning)"
   ]
  },
  {
   "cell_type": "code",
   "execution_count": null,
   "metadata": {},
   "outputs": [],
   "source": [
    "#Data Rutte2\n",
    "for year in tqdm(range(2011, 2018)):\n",
    "    endOfAssembly = False\n",
    "    assemblyNr = 0\n",
    "    while endOfAssembly == False:\n",
    "        assemblyNr += 1\n",
    "        for debateNr in range(1, 200):\n",
    "            file = \"h-tk-%s-%s-%s\" %(str(year)+str(year+1), str(assemblyNr), str(debateNr))\n",
    "            if not path.isfile('HandelingenTK/%s.xml' %file):\n",
    "                url = \"https://zoek.officielebekendmakingen.nl/%s\" %file\n",
    "                resp = get(url + \".xml\", verify=False, allow_redirects=False)\n",
    "                if resp.status_code == 200:\n",
    "                    # Download the Handelingen file\n",
    "                    hand_file = open('HandelingenTK/%s.xml' %file, 'wb')\n",
    "                    hand_file.write(resp.content)\n",
    "                    hand_file.close()\n",
    "                    resp = get(url+\"/metadata.xml\", verify=False, \\\n",
    "                                                        allow_redirects=False)\n",
    "                    # Download the corresponding meta file\n",
    "                    meta_file = open('HandelingenTKmeta/%smetadata.xml' %file, 'wb')\n",
    "                    meta_file.write(resp.content)\n",
    "                    meta_file.close()    \n",
    "                elif debateNr == 1:\n",
    "                    endOfAssembly = True\n",
    "                    break\n",
    "                else:\n",
    "                    break"
   ]
  },
  {
   "cell_type": "code",
   "execution_count": null,
   "metadata": {},
   "outputs": [
    {
     "name": "stderr",
     "output_type": "stream",
     "text": [
      "  0%|                                                                                            | 0/5 [00:00<?, ?it/s]"
     ]
    }
   ],
   "source": [
    "#Data Balkenende\n",
    "for year in tqdm(range(2006, 2011)):\n",
    "    for i in range(1,10000):\n",
    "        for j in range(i,i+100):\n",
    "            file = \"h-tk-%s-%s-%s\" %(str(year)+str(year+1), str(i), str(j))\n",
    "            if not path.isfile('HandelingenTK/%s.xml' %file):\n",
    "                url = \"https://zoek.officielebekendmakingen.nl/%s\" %file\n",
    "                resp = get(url + \".xml\", verify=False, allow_redirects=False)\n",
    "                if resp.status_code == 200:\n",
    "                    # Download the Handelingen file\n",
    "                    hand_file = open('HandelingenTK/%s.xml' %file, 'wb')\n",
    "                    hand_file.write(resp.content)\n",
    "                    hand_file.close()\n",
    "                    resp = get(url+\"/metadata.xml\", verify=False, \\\n",
    "                                                        allow_redirects=False)\n",
    "                    # Download the corresponding meta file\n",
    "                    meta_file = open('HandelingenTKmeta/%smetadata.xml' %file, 'wb')\n",
    "                    meta_file.write(resp.content)\n",
    "                    meta_file.close()    "
   ]
  },
  {
   "cell_type": "code",
   "execution_count": null,
   "metadata": {},
   "outputs": [],
   "source": [
    "enddict = {}\n",
    "index = 0\n",
    "for file in listdir('HandelingenTK/'):\n",
    "    context = etree.iterparse('HandelingenTK/' + file,  tag='spreekbeurt')\n",
    "    mainSpeaker = None\n",
    "    for _, elem in context:\n",
    "        if elem.get('nieuw') == 'ja':\n",
    "            speechCategory = \"Main Speech\"\n",
    "            mainSpeaker = elem.findtext('spreker/naam/achternaam')\n",
    "        elif elem.findtext('spreker/naam/achternaam') == mainSpeaker:\n",
    "            speechCategory = \"Response\"\n",
    "        else:\n",
    "            speechCategory = \"Interruption\"\n",
    "        surname = elem.findtext('spreker/naam/achternaam')\n",
    "        party = elem.findtext('spreker/politiek')\n",
    "        text = ' '.join(elem.find('tekst').itertext())\n",
    "        enddict[index] = [surname, party, text, file, speechCategory]\n",
    "        del surname, party, text, speechCategory\n",
    "        index += 1\n",
    "df = pd.DataFrame.from_dict(enddict, orient='index')\n",
    "df = df.rename(columns={0:'surname', 1:'party', 2:'text', 3:'file', 4:'speech category'})\n",
    "df.head(5)"
   ]
  },
  {
   "cell_type": "code",
   "execution_count": null,
   "metadata": {},
   "outputs": [],
   "source": [
    "metaDict = {}\n",
    "for file in listdir('HandelingenTKmeta'):\n",
    "    tags = []\n",
    "    date = None\n",
    "    context = etree.iterparse('HandelingenTKmeta/' + file,  tag='metadata')\n",
    "    for _, elem in context:\n",
    "        if elem.get('name') == \"OVERHEIDop.datumVergadering\":\n",
    "            date = elem.get('content')\n",
    "        elif elem.get('name') == \"OVERHEID.category\":\n",
    "            tags.append(elem.get('content'))\n",
    "        metaDict[file[:-12] + '.xml'] = [date, tags]\n",
    "metaDF = pd.DataFrame.from_dict(metaDict, orient='index')\n",
    "metaDF = metaDF.rename(columns={0:'date', 1:'tags'})\n",
    "metaDF.head(5)"
   ]
  },
  {
   "cell_type": "code",
   "execution_count": null,
   "metadata": {},
   "outputs": [],
   "source": [
    "rutte2DF = df.join(metaDF, on='file')\n",
    "rutte2DF = rutte2DF.dropna()\n",
    "#https://stackoverflow.com/questions/29370057/select-dataframe-rows-between-two-dates\n",
    "rutte2DF['date'] = pd.to_datetime(rutte2DF['date'])\n",
    "mask = (rutte2DF['date'] > '2012-11-05') & (rutte2DF['date'] <= '2017-03-23')\n",
    "rutte2DF = rutte2DF.loc[mask]\n",
    "rutte2DF = rutte2DF[rutte2DF['party'].isin(['50PLUS', 'CDA', 'ChristenUnie', 'D66', 'GroenLinks', 'PVV', 'PvdA', 'PvdD', 'SGP', 'SP', 'VVD'])]\n",
    "rutte2DF.to_csv(\"HandelingenRutte2.csv\")\n",
    "rutte2DF.head(5)"
   ]
  },
  {
   "cell_type": "code",
   "execution_count": null,
   "metadata": {},
   "outputs": [],
   "source": [
    "balkenende4DF = df.join(metaDF, on='file')\n",
    "print(balkenende4DF.head(5))\n",
    "balkenende4DF = balkenende4DF.dropna()\n",
    "#https://stackoverflow.com/questions/29370057/select-dataframe-rows-between-two-dates\n",
    "balkenende4DF['date'] = pd.to_datetime(balkenende4DF['date'])\n",
    "mask = (balkenende4DF['date'] > '2007-02-22') & (balkenende4DF['date'] <= '2010-02-20')\n",
    "balkenende4DF = balkenende4DF.loc[mask]\n",
    "#combineddf = combineddf[combineddf['party'].isin(['50PLUS', 'CDA', 'ChristenUnie', 'D66', 'GroenLinks', 'PVV', 'PvdA', 'PvdD', 'SGP', 'SP', 'VVD'])]\n",
    "balkenende4DF.to_csv(\"HandelingenBalkenende4.csv\")\n",
    "balkenende4DF.head(5)"
   ]
  },
  {
   "cell_type": "code",
   "execution_count": null,
   "metadata": {},
   "outputs": [],
   "source": []
  }
 ],
 "metadata": {
  "kernelspec": {
   "display_name": "Python 3",
   "language": "python",
   "name": "python3"
  },
  "language_info": {
   "codemirror_mode": {
    "name": "ipython",
    "version": 3
   },
   "file_extension": ".py",
   "mimetype": "text/x-python",
   "name": "python",
   "nbconvert_exporter": "python",
   "pygments_lexer": "ipython3",
   "version": "3.6.4"
  }
 },
 "nbformat": 4,
 "nbformat_minor": 2
}
