{
 "cells": [
  {
   "cell_type": "code",
   "execution_count": 1,
   "metadata": {},
   "outputs": [],
   "source": [
    "%matplotlib inline\n",
    "import os\n",
    "import time\n",
    "import requests\n",
    "import urllib3\n",
    "from tqdm import tqdm\n",
    "from lxml import etree\n",
    "import pandas as pd\n",
    "import matplotlib.pyplot as plt\n",
    "from collections import Counter, defaultdict\n",
    "from nltk import word_tokenize\n",
    "from nltk.corpus import stopwords\n",
    "from nltk.stem.snowball import SnowballStemmer\n",
    "from sklearn.feature_extraction.text import CountVectorizer, TfidfTransformer\n",
    "from sklearn.pipeline import Pipeline\n",
    "from sklearn.naive_bayes import MultinomialNB\n",
    "from sklearn.linear_model import SGDClassifier\n",
    "from sklearn.neural_network import MLPClassifier\n",
    "from sklearn.neighbors import KNeighborsClassifier\n",
    "from sklearn.metrics import classification_report, precision_recall_fscore_support, confusion_matrix\n",
    "import numpy as np\n",
    "import seaborn as sn\n",
    "import warnings\n",
    "import itertools\n",
    "warnings.filterwarnings('ignore')\n",
    "urllib3.disable_warnings(urllib3.exceptions.InsecureRequestWarning)"
   ]
  },
  {
   "cell_type": "code",
   "execution_count": null,
   "metadata": {},
   "outputs": [
    {
     "name": "stderr",
     "output_type": "stream",
     "text": [
      "  0%|                                                                                           | 0/98 [00:00<?, ?it/s]"
     ]
    }
   ],
   "source": [
    "year = \"20162017\"\n",
    "for i in tqdm(range(1, 99)):\n",
    "    for j in range(1, 99):\n",
    "        file = \"h-tk-%s-%s-%s\" %(year, str(i), str(j))\n",
    "        url = \"https://zoek.officielebekendmakingen.nl/%s\" %file\n",
    "        resp = requests.get(url + \".xml\", verify=False, allow_redirects=False)\n",
    "        if resp.status_code == 200:\n",
    "            hand_file = open('HandelingenTK/%s.xml' %file, 'wb')\n",
    "            hand_file.write(resp.content)\n",
    "            hand_file.close()\n",
    "            resp = requests.get(url+\"/metadata.xml\", verify=False, \\\n",
    "                                                allow_redirects=False)\n",
    "            meta_file = open('HandelingenTKmeta/meta%s.xml' %file, 'wb')\n",
    "            meta_file.write(resp.content)\n",
    "            meta_file.close()    \n",
    "        else:\n",
    "            break"
   ]
  },
  {
   "cell_type": "code",
   "execution_count": null,
   "metadata": {},
   "outputs": [],
   "source": []
  }
 ],
 "metadata": {
  "kernelspec": {
   "display_name": "Python 3",
   "language": "python",
   "name": "python3"
  },
  "language_info": {
   "codemirror_mode": {
    "name": "ipython",
    "version": 3
   },
   "file_extension": ".py",
   "mimetype": "text/x-python",
   "name": "python",
   "nbconvert_exporter": "python",
   "pygments_lexer": "ipython3",
   "version": "3.6.4"
  }
 },
 "nbformat": 4,
 "nbformat_minor": 2
}
