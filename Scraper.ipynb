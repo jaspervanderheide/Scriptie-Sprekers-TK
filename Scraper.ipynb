{
 "cells": [
  {
   "cell_type": "code",
   "execution_count": 1,
   "metadata": {},
   "outputs": [],
   "source": [
    "%matplotlib inline\n",
    "from os import listdir, path\n",
    "from requests import get\n",
    "import urllib3\n",
    "from tqdm import tqdm\n",
    "from lxml import etree\n",
    "import pandas as pd\n",
    "import warnings\n",
    "import itertools\n",
    "warnings.filterwarnings('ignore')\n",
    "urllib3.disable_warnings(urllib3.exceptions.InsecureRequestWarning)"
   ]
  },
  {
   "cell_type": "code",
   "execution_count": 2,
   "metadata": {},
   "outputs": [
    {
     "name": "stderr",
     "output_type": "stream",
     "text": [
      "100%|█████████████████████████████████████████████████████████████████████████████████| 24/24 [54:22<00:00, 135.96s/it]\n"
     ]
    }
   ],
   "source": [
    "for year in tqdm(range(1994, 2018)):\n",
    "    stop = False\n",
    "    i=0\n",
    "    while stop == False:\n",
    "        i+=1\n",
    "        for j in range(1, 200):\n",
    "            file = \"h-tk-%s-%s-%s\" %(str(year)+str(year+1), str(i), str(j))\n",
    "            if not path.isfile('HandelingenTK/%s.xml' %file):\n",
    "                url = \"https://zoek.officielebekendmakingen.nl/%s\" %file\n",
    "                resp = get(url + \".xml\", verify=False, allow_redirects=False)\n",
    "                if resp.status_code == 200:\n",
    "                    hand_file = open('HandelingenTK/%s.xml' %file, 'wb')\n",
    "                    hand_file.write(resp.content)\n",
    "                    hand_file.close()\n",
    "                    resp = get(url+\"/metadata.xml\", verify=False, \\\n",
    "                                                        allow_redirects=False)\n",
    "                    meta_file = open('HandelingenTKmeta/%smetadata.xml' %file, 'wb')\n",
    "                    meta_file.write(resp.content)\n",
    "                    meta_file.close()    \n",
    "                elif j==1:\n",
    "                    stop = True\n",
    "                    break\n",
    "                else:\n",
    "                    break"
   ]
  },
  {
   "cell_type": "code",
   "execution_count": 3,
   "metadata": {},
   "outputs": [
    {
     "name": "stderr",
     "output_type": "stream",
     "text": [
      "100%|███████████████████████████████████████████████████████████████████████████| 14230/14230 [00:33<00:00, 418.72it/s]\n"
     ]
    }
   ],
   "source": [
    "enddict = {}\n",
    "i = 0\n",
    "for file in tqdm(listdir('HandelingenTK/')):\n",
    "    context = etree.iterparse('HandelingenTK/' + file,  tag='spreekbeurt')\n",
    "    for _, elem in context:\n",
    "        \n",
    "        surname = elem.findtext('spreker/naam/achternaam')\n",
    "        party = elem.findtext('spreker/politiek')\n",
    "        text = ' '.join([elem2.findtext('al') for elem2 \\\n",
    "                         in elem.findall('tekst/al-groep') \\\n",
    "                          if elem2.findtext('al') is not None])\n",
    "        enddict[i] = [surname, party, text, file]\n",
    "        del surname, party, text\n",
    "        i += 1\n",
    "df = pd.DataFrame.from_dict(enddict, orient='index')\n",
    "df = df.rename(columns={0:'achternaam', 1:'partij', 2:'tekst', 3:'file'})"
   ]
  },
  {
   "cell_type": "code",
   "execution_count": 4,
   "metadata": {},
   "outputs": [
    {
     "name": "stderr",
     "output_type": "stream",
     "text": [
      "100%|██████████████████████████████████████████████████████████████████████████| 14227/14227 [00:08<00:00, 1637.62it/s]\n"
     ]
    }
   ],
   "source": [
    "enddict = {}\n",
    "for file in tqdm(listdir('HandelingenTKmeta')):\n",
    "    tags = []\n",
    "    datum = None\n",
    "    context = etree.iterparse('HandelingenTKmeta/' + file,  tag='metadata')\n",
    "    for _, elem in context:\n",
    "        if elem.get('name') == \"OVERHEIDop.datumVergadering\":\n",
    "            datum = elem.get('content')\n",
    "        elif elem.get('name') == \"OVERHEID.category\":\n",
    "            tags.append(elem.get('content'))\n",
    "        enddict[file[:-12]+'.xml'] = [datum, tags]\n",
    "df2 = pd.DataFrame.from_dict(enddict, orient='index')\n",
    "df2 = df2.rename(columns={0:'datum', 1:'tags'})"
   ]
  },
  {
   "cell_type": "code",
   "execution_count": 5,
   "metadata": {},
   "outputs": [
    {
     "data": {
      "text/html": [
       "<div>\n",
       "<style scoped>\n",
       "    .dataframe tbody tr th:only-of-type {\n",
       "        vertical-align: middle;\n",
       "    }\n",
       "\n",
       "    .dataframe tbody tr th {\n",
       "        vertical-align: top;\n",
       "    }\n",
       "\n",
       "    .dataframe thead th {\n",
       "        text-align: right;\n",
       "    }\n",
       "</style>\n",
       "<table border=\"1\" class=\"dataframe\">\n",
       "  <thead>\n",
       "    <tr style=\"text-align: right;\">\n",
       "      <th></th>\n",
       "      <th>achternaam</th>\n",
       "      <th>partij</th>\n",
       "      <th>tekst</th>\n",
       "      <th>file</th>\n",
       "      <th>datum</th>\n",
       "      <th>tags</th>\n",
       "    </tr>\n",
       "  </thead>\n",
       "  <tbody>\n",
       "    <tr>\n",
       "      <th>0</th>\n",
       "      <td>voorzitter</td>\n",
       "      <td>None</td>\n",
       "      <td></td>\n",
       "      <td>h-tk-20102011-100-1.xml</td>\n",
       "      <td>2011-06-30</td>\n",
       "      <td>[Bestuur | Parlement]</td>\n",
       "    </tr>\n",
       "    <tr>\n",
       "      <th>1</th>\n",
       "      <td>voorzitter</td>\n",
       "      <td>None</td>\n",
       "      <td></td>\n",
       "      <td>h-tk-20102011-100-10.xml</td>\n",
       "      <td>2011-06-30</td>\n",
       "      <td>[Recht | Strafrecht]</td>\n",
       "    </tr>\n",
       "    <tr>\n",
       "      <th>2</th>\n",
       "      <td>voorzitter</td>\n",
       "      <td>None</td>\n",
       "      <td></td>\n",
       "      <td>h-tk-20102011-100-10.xml</td>\n",
       "      <td>2011-06-30</td>\n",
       "      <td>[Recht | Strafrecht]</td>\n",
       "    </tr>\n",
       "    <tr>\n",
       "      <th>3</th>\n",
       "      <td>voorzitter</td>\n",
       "      <td>None</td>\n",
       "      <td></td>\n",
       "      <td>h-tk-20102011-100-10.xml</td>\n",
       "      <td>2011-06-30</td>\n",
       "      <td>[Recht | Strafrecht]</td>\n",
       "    </tr>\n",
       "    <tr>\n",
       "      <th>4</th>\n",
       "      <td>voorzitter</td>\n",
       "      <td>None</td>\n",
       "      <td></td>\n",
       "      <td>h-tk-20102011-100-11.xml</td>\n",
       "      <td>2011-06-30</td>\n",
       "      <td>[Recht | Strafrecht]</td>\n",
       "    </tr>\n",
       "  </tbody>\n",
       "</table>\n",
       "</div>"
      ],
      "text/plain": [
       "   achternaam partij tekst                      file       datum  \\\n",
       "0  voorzitter   None         h-tk-20102011-100-1.xml  2011-06-30   \n",
       "1  voorzitter   None        h-tk-20102011-100-10.xml  2011-06-30   \n",
       "2  voorzitter   None        h-tk-20102011-100-10.xml  2011-06-30   \n",
       "3  voorzitter   None        h-tk-20102011-100-10.xml  2011-06-30   \n",
       "4  voorzitter   None        h-tk-20102011-100-11.xml  2011-06-30   \n",
       "\n",
       "                    tags  \n",
       "0  [Bestuur | Parlement]  \n",
       "1   [Recht | Strafrecht]  \n",
       "2   [Recht | Strafrecht]  \n",
       "3   [Recht | Strafrecht]  \n",
       "4   [Recht | Strafrecht]  "
      ]
     },
     "execution_count": 5,
     "metadata": {},
     "output_type": "execute_result"
    }
   ],
   "source": [
    "combineddf = df.join(df2, on='file')\n",
    "combineddf.to_csv(\"Handelingen.csv\")\n",
    "combineddf.head(5)"
   ]
  },
  {
   "cell_type": "code",
   "execution_count": null,
   "metadata": {},
   "outputs": [],
   "source": []
  }
 ],
 "metadata": {
  "kernelspec": {
   "display_name": "Python 3",
   "language": "python",
   "name": "python3"
  },
  "language_info": {
   "codemirror_mode": {
    "name": "ipython",
    "version": 3
   },
   "file_extension": ".py",
   "mimetype": "text/x-python",
   "name": "python",
   "nbconvert_exporter": "python",
   "pygments_lexer": "ipython3",
   "version": "3.6.4"
  }
 },
 "nbformat": 4,
 "nbformat_minor": 2
}
