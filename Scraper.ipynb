{
 "cells": [
  {
   "cell_type": "code",
   "execution_count": 1,
   "metadata": {},
   "outputs": [],
   "source": [
    "%matplotlib inline\n",
    "from os import listdir, path\n",
    "from requests import get\n",
    "import urllib3\n",
    "from tqdm import tqdm\n",
    "from lxml import etree\n",
    "import pandas as pd\n",
    "import warnings\n",
    "import itertools\n",
    "warnings.filterwarnings('ignore')\n",
    "urllib3.disable_warnings(urllib3.exceptions.InsecureRequestWarning)"
   ]
  },
  {
   "cell_type": "code",
   "execution_count": null,
   "metadata": {},
   "outputs": [
    {
     "name": "stderr",
     "output_type": "stream",
     "text": [
      "100%|████████████████████████████████████████████████████████████████████████████████| 199/199 [01:34<00:00,  2.11it/s]\n",
      "100%|████████████████████████████████████████████████████████████████████████████████| 199/199 [01:29<00:00,  2.22it/s]\n",
      "100%|████████████████████████████████████████████████████████████████████████████████| 199/199 [01:30<00:00,  2.19it/s]\n",
      "100%|████████████████████████████████████████████████████████████████████████████████| 199/199 [01:49<00:00,  1.82it/s]\n",
      "100%|████████████████████████████████████████████████████████████████████████████████| 199/199 [01:58<00:00,  1.68it/s]\n",
      "100%|████████████████████████████████████████████████████████████████████████████████| 199/199 [01:32<00:00,  2.16it/s]\n",
      "100%|████████████████████████████████████████████████████████████████████████████████| 199/199 [01:32<00:00,  2.15it/s]\n",
      "100%|████████████████████████████████████████████████████████████████████████████████| 199/199 [01:38<00:00,  2.03it/s]\n",
      "100%|████████████████████████████████████████████████████████████████████████████████| 199/199 [01:32<00:00,  2.15it/s]\n",
      "100%|████████████████████████████████████████████████████████████████████████████████| 199/199 [01:32<00:00,  2.14it/s]\n",
      "100%|████████████████████████████████████████████████████████████████████████████████| 199/199 [01:37<00:00,  2.04it/s]\n",
      "100%|████████████████████████████████████████████████████████████████████████████████| 199/199 [01:34<00:00,  2.10it/s]\n",
      "100%|████████████████████████████████████████████████████████████████████████████████| 199/199 [01:31<00:00,  2.18it/s]\n",
      "100%|████████████████████████████████████████████████████████████████████████████████| 199/199 [01:41<00:00,  1.97it/s]\n",
      "100%|████████████████████████████████████████████████████████████████████████████████| 199/199 [01:44<00:00,  1.90it/s]\n",
      "100%|████████████████████████████████████████████████████████████████████████████████| 199/199 [01:36<00:00,  2.06it/s]\n",
      "100%|████████████████████████████████████████████████████████████████████████████████| 199/199 [05:00<00:00,  1.51s/it]\n",
      "100%|████████████████████████████████████████████████████████████████████████████████| 199/199 [09:18<00:00,  2.80s/it]\n",
      "100%|████████████████████████████████████████████████████████████████████████████████| 199/199 [18:13<00:00,  5.49s/it]\n",
      "100%|████████████████████████████████████████████████████████████████████████████████| 199/199 [47:03<00:00, 14.19s/it]\n",
      "100%|████████████████████████████████████████████████████████████████████████████████| 199/199 [48:05<00:00, 14.50s/it]\n",
      "100%|████████████████████████████████████████████████████████████████████████████████| 199/199 [59:19<00:00, 17.89s/it]\n",
      "  2%|█▏                                                                                | 3/199 [00:33<35:59, 11.02s/it]"
     ]
    }
   ],
   "source": [
    "for year in range(1994, 2018):\n",
    "    for i in tqdm(range(1, 200)):\n",
    "        for j in range(1, 200):\n",
    "            file = \"h-tk-%s-%s-%s\" %(str(year)+str(year+1), str(i), str(j))\n",
    "            if not path.isfile('HandelingenTK/%s.xml' %file):\n",
    "                url = \"https://zoek.officielebekendmakingen.nl/%s\" %file\n",
    "                resp = get(url + \".xml\", verify=False, allow_redirects=False)\n",
    "                if resp.status_code == 200:\n",
    "                    hand_file = open('HandelingenTK/%s.xml' %file, 'wb')\n",
    "                    hand_file.write(resp.content)\n",
    "                    hand_file.close()\n",
    "                    resp = requests.get(url+\"/metadata.xml\", verify=False, \\\n",
    "                                                        allow_redirects=False)\n",
    "                    meta_file = open('HandelingenTKmeta/%smetadata.xml' %file, 'wb')\n",
    "                    meta_file.write(resp.content)\n",
    "                    meta_file.close()    \n",
    "                else:\n",
    "                    break"
   ]
  },
  {
   "cell_type": "code",
   "execution_count": null,
   "metadata": {},
   "outputs": [],
   "source": [
    "enddict = {}\n",
    "i = 0\n",
    "for file in tqdm(listdir('HandelingenTK/')):\n",
    "    context = etree.iterparse('HandelingenTK/' + file,  tag='spreekbeurt')\n",
    "    for _, elem in context:\n",
    "        del surname, party, text\n",
    "        surname = elem.findtext('spreker/naam/achternaam')\n",
    "        party = elem.findtext('spreker/politiek')\n",
    "        text = ' '.join([elem2.findtext('al') for elem2 \\\n",
    "                         in elem.findall('tekst/al-groep') \\\n",
    "                          if elem2.findtext('al') is not None])\n",
    "        enddict[i] = [surname, party, text, file]\n",
    "        i += 1\n",
    "df = pd.DataFrame.from_dict(enddict, orient='index')\n",
    "df = df.rename(columns={0:'achternaam', 1:'partij', 2:'tekst', 3:'file'})"
   ]
  },
  {
   "cell_type": "code",
   "execution_count": null,
   "metadata": {},
   "outputs": [],
   "source": [
    "enddict = {}\n",
    "for file in tqdm(listdir('HandelingenTKmeta')):\n",
    "    tags = []\n",
    "    datum = None\n",
    "    context = etree.iterparse('HandelingenTKmeta/' + file,  tag='metadata')\n",
    "    for _, elem in context:\n",
    "        if elem.get('name') == \"OVERHEIDop.datumVergadering\":\n",
    "            datum = elem.get('content')\n",
    "        elif elem.get('name') == \"OVERHEID.category\":\n",
    "            tags.append(elem.get('content'))\n",
    "        enddict[file[:-12]+'.xml'] = [datum, tags]\n",
    "df2 = pd.DataFrame.from_dict(enddict, orient='index')\n",
    "df2 = df2.rename(columns={0:'datum', 1:'tags'})"
   ]
  },
  {
   "cell_type": "code",
   "execution_count": null,
   "metadata": {},
   "outputs": [],
   "source": [
    "combineddf = df.join(df2, on='file')\n",
    "combineddf.to_csv(\"Handelingen.csv\")"
   ]
  },
  {
   "cell_type": "code",
   "execution_count": null,
   "metadata": {},
   "outputs": [],
   "source": []
  }
 ],
 "metadata": {
  "kernelspec": {
   "display_name": "Python 3",
   "language": "python",
   "name": "python3"
  },
  "language_info": {
   "codemirror_mode": {
    "name": "ipython",
    "version": 3
   },
   "file_extension": ".py",
   "mimetype": "text/x-python",
   "name": "python",
   "nbconvert_exporter": "python",
   "pygments_lexer": "ipython3",
   "version": "3.6.4"
  }
 },
 "nbformat": 4,
 "nbformat_minor": 2
}
