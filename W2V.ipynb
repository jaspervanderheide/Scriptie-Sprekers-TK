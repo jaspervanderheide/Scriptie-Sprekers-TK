{
 "cells": [
  {
   "cell_type": "code",
   "execution_count": 15,
   "metadata": {},
   "outputs": [],
   "source": [
    "import warnings\n",
    "warnings.filterwarnings('ignore')\n",
    "import pandas as pd\n",
    "import numpy as np\n",
    "from sklearn.feature_extraction.text import CountVectorizer, TfidfTransformer\n",
    "from sklearn.pipeline import Pipeline\n",
    "from sklearn.naive_bayes import MultinomialNB\n",
    "from sklearn.linear_model import SGDClassifier\n",
    "from sklearn.neural_network import MLPClassifier\n",
    "from sklearn.neighbors import KNeighborsClassifier\n",
    "from sklearn.metrics import classification_report, precision_recall_fscore_support, confusion_matrix\n",
    "from nltk.stem.snowball import SnowballStemmer\n",
    "from sklearn.grid_search import GridSearchCV\n",
    "from sklearn.svm import SVC\n",
    "from sklearn import datasets\n",
    "from nltk import word_tokenize\n",
    "from gensim.sklearn_api.w2vmodel import W2VTransformer\n",
    "from gensim.sklearn_api.d2vmodel import D2VTransformer\n",
    "from nltk.corpus import stopwords\n",
    "\n",
    "from nltk.tokenize import RegexpTokenizer\n",
    "\n",
    "tokenizer = RegexpTokenizer(r'\\w+')"
   ]
  },
  {
   "cell_type": "code",
   "execution_count": 16,
   "metadata": {},
   "outputs": [
    {
     "name": "stdout",
     "output_type": "stream",
     "text": [
      "Wall time: 4min 56s\n"
     ]
    }
   ],
   "source": [
    "%%time\n",
    "df = pd.read_csv(\"Handelingen.csv\", index_col=0)\n",
    "Partij = df.partij\n",
    "sbs = SnowballStemmer(\"dutch\")\n",
    "Tekst = df.tekst.apply(lambda x: [sbs.stem(t) for t in tokenizer.tokenize(x)])\n",
    "del df"
   ]
  },
  {
   "cell_type": "code",
   "execution_count": 25,
   "metadata": {},
   "outputs": [],
   "source": [
    "w=D2VTransformer().fit_transform(list(Tekst[100:]))"
   ]
  },
  {
   "cell_type": "code",
   "execution_count": 24,
   "metadata": {},
   "outputs": [
    {
     "data": {
      "text/plain": [
       "array([[ 3.92620626e-04, -1.76195860e-01,  1.47379890e-01, ...,\n",
       "         9.68589246e-01, -1.70314983e-02,  9.90334392e-01],\n",
       "       [ 3.25191200e-01, -7.50024021e-02, -1.22335088e+00, ...,\n",
       "         5.01542389e-01,  8.78750831e-02,  3.12335908e-01],\n",
       "       [ 6.85997427e-01,  4.43022884e-02, -8.55702460e-01, ...,\n",
       "         2.79276147e-02, -5.59829414e-01,  4.69145209e-01],\n",
       "       ...,\n",
       "       [-1.27368674e-01, -1.39070228e-02,  4.68917638e-02, ...,\n",
       "         2.60393083e-01,  4.79392558e-02, -1.93812221e-01],\n",
       "       [-4.54200804e-02,  2.36265764e-01,  1.66963279e-01, ...,\n",
       "         3.04619879e-01,  1.22569226e-01,  3.01524252e-01],\n",
       "       [-2.07353398e-01,  5.47901122e-03,  5.23397550e-02, ...,\n",
       "         1.13852851e-01, -1.98737592e-01,  3.36476713e-01]], dtype=float32)"
      ]
     },
     "execution_count": 24,
     "metadata": {},
     "output_type": "execute_result"
    }
   ],
   "source": [
    "w.transform(list(Tekst)[:99])"
   ]
  },
  {
   "cell_type": "code",
   "execution_count": null,
   "metadata": {},
   "outputs": [],
   "source": []
  }
 ],
 "metadata": {
  "kernelspec": {
   "display_name": "Python 3",
   "language": "python",
   "name": "python3"
  },
  "language_info": {
   "codemirror_mode": {
    "name": "ipython",
    "version": 3
   },
   "file_extension": ".py",
   "mimetype": "text/x-python",
   "name": "python",
   "nbconvert_exporter": "python",
   "pygments_lexer": "ipython3",
   "version": "3.6.4"
  }
 },
 "nbformat": 4,
 "nbformat_minor": 2
}
