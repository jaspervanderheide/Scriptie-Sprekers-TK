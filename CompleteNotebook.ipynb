{
 "cells": [
  {
   "cell_type": "code",
   "execution_count": 1,
   "metadata": {},
   "outputs": [],
   "source": [
    "%matplotlib inline\n",
    "import matplotlib.pyplot as plt\n",
    "import pandas as pd\n",
    "import numpy as np\n",
    "import itertools\n",
    "import seaborn as sns\n",
    "import xlrd\n",
    "import operator\n",
    "import math\n",
    "import re\n",
    "import nltk\n",
    "import scipy\n",
    "import openpyxl\n",
    "from collections import Counter\n",
    "from itertools import chain\n",
    "from decimal import Decimal\n",
    "from IPython.display import display, HTML\n",
    "from ast import literal_eval\n",
    "from pactools.grid_search import GridSearchCVProgressBar\n",
    "\n",
    "# Sklearn imports\n",
    "from sklearn.feature_extraction.text import TfidfVectorizer\n",
    "from sklearn.pipeline import Pipeline\n",
    "from sklearn.naive_bayes import MultinomialNB, BernoulliNB\n",
    "from sklearn.linear_model import SGDClassifier\n",
    "from sklearn.metrics import classification_report, precision_recall_fscore_support, confusion_matrix, accuracy_score\n",
    "from sklearn.model_selection import GridSearchCV\n",
    "\n",
    "tokenizer = nltk.tokenize.RegexpTokenizer(r'\\w+')\n",
    "stemmer = nltk.stem.snowball.SnowballStemmer(\"dutch\")"
   ]
  },
  {
   "cell_type": "code",
   "execution_count": 12,
   "metadata": {},
   "outputs": [
    {
     "data": {
      "text/html": [
       "<div>\n",
       "<style scoped>\n",
       "    .dataframe tbody tr th:only-of-type {\n",
       "        vertical-align: middle;\n",
       "    }\n",
       "\n",
       "    .dataframe tbody tr th {\n",
       "        vertical-align: top;\n",
       "    }\n",
       "\n",
       "    .dataframe thead th {\n",
       "        text-align: right;\n",
       "    }\n",
       "</style>\n",
       "<table border=\"1\" class=\"dataframe\">\n",
       "  <thead>\n",
       "    <tr style=\"text-align: right;\">\n",
       "      <th></th>\n",
       "      <th>surname</th>\n",
       "      <th>party</th>\n",
       "      <th>text</th>\n",
       "      <th>file</th>\n",
       "      <th>speech category</th>\n",
       "      <th>date</th>\n",
       "      <th>tags</th>\n",
       "      <th>titel</th>\n",
       "      <th>stemmed_text</th>\n",
       "      <th>normal_text</th>\n",
       "    </tr>\n",
       "  </thead>\n",
       "  <tbody>\n",
       "    <tr>\n",
       "      <th>175881</th>\n",
       "      <td>Wilders</td>\n",
       "      <td>PVV</td>\n",
       "      <td>\\r\\n           \\r\\n             Mevrouw de voo...</td>\n",
       "      <td>h-tk-20122013-100-3.xml</td>\n",
       "      <td>Main Speech</td>\n",
       "      <td>2013-06-26</td>\n",
       "      <td>['Bestuur | Parlement', 'Financiën | Begroting']</td>\n",
       "      <td>Aanbevelingen Europese Commissie extra bezuini...</td>\n",
       "      <td>mevrouw de voorzitter dit kabinet heeft ons mo...</td>\n",
       "      <td>Mevrouw de voorzitter Dit kabinet heeft ons mo...</td>\n",
       "    </tr>\n",
       "    <tr>\n",
       "      <th>175882</th>\n",
       "      <td>Roemer</td>\n",
       "      <td>SP</td>\n",
       "      <td>\\r\\n           \\r\\n             Voorzitter. Vo...</td>\n",
       "      <td>h-tk-20122013-100-3.xml</td>\n",
       "      <td>Main Speech</td>\n",
       "      <td>2013-06-26</td>\n",
       "      <td>['Bestuur | Parlement', 'Financiën | Begroting']</td>\n",
       "      <td>Aanbevelingen Europese Commissie extra bezuini...</td>\n",
       "      <td>voorzitter vorig wek plaatst werkgever werknem...</td>\n",
       "      <td>Voorzitter Vorige week plaatsten werkgevers we...</td>\n",
       "    </tr>\n",
       "    <tr>\n",
       "      <th>175883</th>\n",
       "      <td>Pechtold</td>\n",
       "      <td>D66</td>\n",
       "      <td>\\r\\n           \\r\\n             Voorzitter. Tw...</td>\n",
       "      <td>h-tk-20122013-100-3.xml</td>\n",
       "      <td>Main Speech</td>\n",
       "      <td>2013-06-26</td>\n",
       "      <td>['Bestuur | Parlement', 'Financiën | Begroting']</td>\n",
       "      <td>Aanbevelingen Europese Commissie extra bezuini...</td>\n",
       "      <td>voorzitter twee maand geled kreg dit kabinet v...</td>\n",
       "      <td>Voorzitter Twee maanden geleden kreeg dit kabi...</td>\n",
       "    </tr>\n",
       "    <tr>\n",
       "      <th>175884</th>\n",
       "      <td>Van Haersma Buma</td>\n",
       "      <td>CDA</td>\n",
       "      <td>\\r\\n           \\r\\n             Voorzitter. Al...</td>\n",
       "      <td>h-tk-20122013-100-3.xml</td>\n",
       "      <td>Main Speech</td>\n",
       "      <td>2013-06-26</td>\n",
       "      <td>['Bestuur | Parlement', 'Financiën | Begroting']</td>\n",
       "      <td>Aanbevelingen Europese Commissie extra bezuini...</td>\n",
       "      <td>voorzitter allen al in de eerst drie maand van...</td>\n",
       "      <td>Voorzitter Alleen al in de eerste drie maanden...</td>\n",
       "    </tr>\n",
       "    <tr>\n",
       "      <th>175889</th>\n",
       "      <td>Thieme</td>\n",
       "      <td>PvdD</td>\n",
       "      <td>\\r\\n           \\r\\n             Voorzitter. We...</td>\n",
       "      <td>h-tk-20122013-100-3.xml</td>\n",
       "      <td>Main Speech</td>\n",
       "      <td>2013-06-26</td>\n",
       "      <td>['Bestuur | Parlement', 'Financiën | Begroting']</td>\n",
       "      <td>Aanbevelingen Europese Commissie extra bezuini...</td>\n",
       "      <td>voorzitter we zijn eruit eerst ontdekt de mini...</td>\n",
       "      <td>Voorzitter We zijn eruit Eerst ontdekte de min...</td>\n",
       "    </tr>\n",
       "  </tbody>\n",
       "</table>\n",
       "</div>"
      ],
      "text/plain": [
       "                 surname party  \\\n",
       "175881           Wilders   PVV   \n",
       "175882            Roemer    SP   \n",
       "175883          Pechtold   D66   \n",
       "175884  Van Haersma Buma   CDA   \n",
       "175889            Thieme  PvdD   \n",
       "\n",
       "                                                     text  \\\n",
       "175881  \\r\\n           \\r\\n             Mevrouw de voo...   \n",
       "175882  \\r\\n           \\r\\n             Voorzitter. Vo...   \n",
       "175883  \\r\\n           \\r\\n             Voorzitter. Tw...   \n",
       "175884  \\r\\n           \\r\\n             Voorzitter. Al...   \n",
       "175889  \\r\\n           \\r\\n             Voorzitter. We...   \n",
       "\n",
       "                           file speech category        date  \\\n",
       "175881  h-tk-20122013-100-3.xml     Main Speech  2013-06-26   \n",
       "175882  h-tk-20122013-100-3.xml     Main Speech  2013-06-26   \n",
       "175883  h-tk-20122013-100-3.xml     Main Speech  2013-06-26   \n",
       "175884  h-tk-20122013-100-3.xml     Main Speech  2013-06-26   \n",
       "175889  h-tk-20122013-100-3.xml     Main Speech  2013-06-26   \n",
       "\n",
       "                                                    tags  \\\n",
       "175881  ['Bestuur | Parlement', 'Financiën | Begroting']   \n",
       "175882  ['Bestuur | Parlement', 'Financiën | Begroting']   \n",
       "175883  ['Bestuur | Parlement', 'Financiën | Begroting']   \n",
       "175884  ['Bestuur | Parlement', 'Financiën | Begroting']   \n",
       "175889  ['Bestuur | Parlement', 'Financiën | Begroting']   \n",
       "\n",
       "                                                    titel  \\\n",
       "175881  Aanbevelingen Europese Commissie extra bezuini...   \n",
       "175882  Aanbevelingen Europese Commissie extra bezuini...   \n",
       "175883  Aanbevelingen Europese Commissie extra bezuini...   \n",
       "175884  Aanbevelingen Europese Commissie extra bezuini...   \n",
       "175889  Aanbevelingen Europese Commissie extra bezuini...   \n",
       "\n",
       "                                             stemmed_text  \\\n",
       "175881  mevrouw de voorzitter dit kabinet heeft ons mo...   \n",
       "175882  voorzitter vorig wek plaatst werkgever werknem...   \n",
       "175883  voorzitter twee maand geled kreg dit kabinet v...   \n",
       "175884  voorzitter allen al in de eerst drie maand van...   \n",
       "175889  voorzitter we zijn eruit eerst ontdekt de mini...   \n",
       "\n",
       "                                              normal_text  \n",
       "175881  Mevrouw de voorzitter Dit kabinet heeft ons mo...  \n",
       "175882  Voorzitter Vorige week plaatsten werkgevers we...  \n",
       "175883  Voorzitter Twee maanden geleden kreeg dit kabi...  \n",
       "175884  Voorzitter Alleen al in de eerste drie maanden...  \n",
       "175889  Voorzitter We zijn eruit Eerst ontdekte de min...  "
      ]
     },
     "execution_count": 12,
     "metadata": {},
     "output_type": "execute_result"
    }
   ],
   "source": [
    "# Importing data\n",
    "df = pd.read_csv(\"HandelingenRutte2.csv\", index_col=0)\n",
    "df = df.loc[df['speech category'] == 'Main Speech']\n",
    "df['stemmed_text'] = df.text.apply(lambda x: ' '.join([stemmer.stem(t) for t in tokenizer.tokenize(x)]))\n",
    "df['normal_text'] = df.text.apply(lambda x: ' '.join([t for t in tokenizer.tokenize(x)]))\n",
    "# Uitschieters weghalen.\n",
    "df.head(5)"
   ]
  },
  {
   "cell_type": "markdown",
   "metadata": {},
   "source": [
    "# Data Info"
   ]
  },
  {
   "cell_type": "code",
   "execution_count": 22,
   "metadata": {},
   "outputs": [
    {
     "name": "stdout",
     "output_type": "stream",
     "text": [
      "498.18961004094234 386.0\n"
     ]
    },
    {
     "name": "stderr",
     "output_type": "stream",
     "text": [
      "c:\\users\\m6800\\appdata\\local\\programs\\python\\python36\\lib\\site-packages\\matplotlib\\axes\\_axes.py:6462: UserWarning: The 'normed' kwarg is deprecated, and has been replaced by the 'density' kwarg.\n",
      "  warnings.warn(\"The 'normed' kwarg is deprecated, and has been \"\n"
     ]
    },
    {
     "data": {
      "image/png": "[encoded data removed]",
      "text/plain": [
       "<Figure size 432x288 with 1 Axes>"
      ]
     },
     "metadata": {},
     "output_type": "display_data"
    }
   ],
   "source": [
    "#leaving out all that is outside 95%\n",
    "list_text = df.stemmed_text.apply(lambda x: x.split(\" \"))\n",
    "t = [len(doc) for doc in list_text]\n",
    "print(np.mean(t),np.median(t))\n",
    "f=scipy.stats.lognorm.fit(t)\n",
    "ax = sns.distplot(t,bins=1000,norm_hist=False,kde=False)\n",
    "ax.set_xscale('log')\n",
    "plt.savefig(\"Verslag/Tables/lengthtextslog.png\")"
   ]
  },
  {
   "cell_type": "code",
   "execution_count": 15,
   "metadata": {},
   "outputs": [
    {
     "name": "stderr",
     "output_type": "stream",
     "text": [
      "c:\\users\\m6800\\appdata\\local\\programs\\python\\python36\\lib\\site-packages\\matplotlib\\axes\\_axes.py:6462: UserWarning: The 'normed' kwarg is deprecated, and has been replaced by the 'density' kwarg.\n",
      "  warnings.warn(\"The 'normed' kwarg is deprecated, and has been \"\n"
     ]
    },
    {
     "data": {
      "image/png": "[encoded data removed]",
      "text/plain": [
       "<Figure size 432x288 with 1 Axes>"
      ]
     },
     "metadata": {},
     "output_type": "display_data"
    }
   ],
   "source": [
    "ax = sns.distplot(t,bins=1000,norm_hist=False,kde=False)\n",
    "plt.savefig(\"Verslag/Tables/lengthtexts.png\")"
   ]
  },
  {
   "cell_type": "code",
   "execution_count": 17,
   "metadata": {},
   "outputs": [
    {
     "name": "stdout",
     "output_type": "stream",
     "text": [
      "1492.675589876518 27.339307082607387\n",
      "386.0 498.18961004094234\n",
      "14899\n"
     ]
    }
   ],
   "source": [
    "df = df.loc[df.stemmed_text.apply(lambda x: len(x.split(' '))) < math.exp(f[0]+2*f[1])]\n",
    "df = df.loc[df.stemmed_text.apply(lambda x: len(x.split(' '))) > math.exp(f[0]-2*f[1])]\n",
    "print(math.exp(f[0]+2*f[1]),math.exp(f[0]-2*f[1]))\n",
    "list_text = df.stemmed_text.apply(lambda x: x.split(\" \"))\n",
    "print(\"mediaan\",np.median([len(doc) for doc in list_text]),\"gemiddelde\",np.mean([len(doc) for doc in list_text]))\n",
    "print(\"overgebleven documenten:\"len(df))"
   ]
  },
  {
   "cell_type": "code",
   "execution_count": 23,
   "metadata": {},
   "outputs": [
    {
     "data": {
      "text/plain": [
       "2984"
      ]
     },
     "execution_count": 23,
     "metadata": {},
     "output_type": "execute_result"
    }
   ],
   "source": [
    "len(df.file.unique())"
   ]
  },
  {
   "cell_type": "code",
   "execution_count": 37,
   "metadata": {},
   "outputs": [
    {
     "data": {
      "text/html": [
       "<div>\n",
       "<style scoped>\n",
       "    .dataframe tbody tr th:only-of-type {\n",
       "        vertical-align: middle;\n",
       "    }\n",
       "\n",
       "    .dataframe tbody tr th {\n",
       "        vertical-align: top;\n",
       "    }\n",
       "\n",
       "    .dataframe thead th {\n",
       "        text-align: right;\n",
       "    }\n",
       "</style>\n",
       "<table border=\"1\" class=\"dataframe\">\n",
       "  <thead>\n",
       "    <tr style=\"text-align: right;\">\n",
       "      <th></th>\n",
       "      <th>Totaal</th>\n",
       "      <th>Vragenuur</th>\n",
       "      <th>Debat</th>\n",
       "    </tr>\n",
       "  </thead>\n",
       "  <tbody>\n",
       "    <tr>\n",
       "      <th>50PLUS</th>\n",
       "      <td>387</td>\n",
       "      <td>12</td>\n",
       "      <td>375</td>\n",
       "    </tr>\n",
       "    <tr>\n",
       "      <th>CDA</th>\n",
       "      <td>1901</td>\n",
       "      <td>88</td>\n",
       "      <td>1813</td>\n",
       "    </tr>\n",
       "    <tr>\n",
       "      <th>ChristenUnie</th>\n",
       "      <td>1068</td>\n",
       "      <td>32</td>\n",
       "      <td>1036</td>\n",
       "    </tr>\n",
       "    <tr>\n",
       "      <th>D66</th>\n",
       "      <td>1889</td>\n",
       "      <td>133</td>\n",
       "      <td>1756</td>\n",
       "    </tr>\n",
       "    <tr>\n",
       "      <th>GroenLinks</th>\n",
       "      <td>1068</td>\n",
       "      <td>47</td>\n",
       "      <td>1021</td>\n",
       "    </tr>\n",
       "    <tr>\n",
       "      <th>PVV</th>\n",
       "      <td>1700</td>\n",
       "      <td>49</td>\n",
       "      <td>1651</td>\n",
       "    </tr>\n",
       "    <tr>\n",
       "      <th>PvdA</th>\n",
       "      <td>1821</td>\n",
       "      <td>112</td>\n",
       "      <td>1709</td>\n",
       "    </tr>\n",
       "    <tr>\n",
       "      <th>PvdD</th>\n",
       "      <td>432</td>\n",
       "      <td>14</td>\n",
       "      <td>418</td>\n",
       "    </tr>\n",
       "    <tr>\n",
       "      <th>SGP</th>\n",
       "      <td>655</td>\n",
       "      <td>10</td>\n",
       "      <td>645</td>\n",
       "    </tr>\n",
       "    <tr>\n",
       "      <th>SP</th>\n",
       "      <td>2284</td>\n",
       "      <td>107</td>\n",
       "      <td>2177</td>\n",
       "    </tr>\n",
       "    <tr>\n",
       "      <th>VVD</th>\n",
       "      <td>1694</td>\n",
       "      <td>76</td>\n",
       "      <td>1618</td>\n",
       "    </tr>\n",
       "  </tbody>\n",
       "</table>\n",
       "</div>"
      ],
      "text/plain": [
       "              Totaal  Vragenuur  Debat\n",
       "50PLUS           387         12    375\n",
       "CDA             1901         88   1813\n",
       "ChristenUnie    1068         32   1036\n",
       "D66             1889        133   1756\n",
       "GroenLinks      1068         47   1021\n",
       "PVV             1700         49   1651\n",
       "PvdA            1821        112   1709\n",
       "PvdD             432         14    418\n",
       "SGP              655         10    645\n",
       "SP              2284        107   2177\n",
       "VVD             1694         76   1618"
      ]
     },
     "execution_count": 37,
     "metadata": {},
     "output_type": "execute_result"
    }
   ],
   "source": [
    "#https://stackoverflow.com/questions/11350770/pandas-dataframe-select-by-partial-string\n",
    "# Creates a dataframe with counts of dataset per party\n",
    "countdf = pd.concat([df.party.value_counts(),df[df['titel'].str.contains(\"Vragen van het lid\")].party.value_counts(), df[~df['titel'].str.contains(\"Vragen van het lid\")].party.value_counts()], axis=1)\n",
    "countdf.columns = ['Totaal', 'Vragenuur','Debat']\n",
    "with open(\"Verslag/Tables/Spreekbeurten.tex\", \"w\") as f:\n",
    "    f.write(countdf.to_latex(header=True))\n",
    "countdf = countdf.sort_index()\n",
    "countdf"
   ]
  },
  {
   "cell_type": "code",
   "execution_count": 19,
   "metadata": {},
   "outputs": [
    {
     "data": {
      "image/png": "[encoded data removed]",
      "text/plain": [
       "<Figure size 432x288 with 1 Axes>"
      ]
     },
     "metadata": {},
     "output_type": "display_data"
    }
   ],
   "source": [
    "tekst = chain.from_iterable([list(set(doc)) for doc in list_text])\n",
    "count = Counter(tekst)\n",
    "samples = list(count.values())\n",
    "t = Counter(samples)\n",
    "t = sorted(t.items())\n",
    "x, y = zip(*t)\n",
    "plt.loglog(x, y)\n",
    "plt.show()"
   ]
  },
  {
   "cell_type": "markdown",
   "metadata": {},
   "source": [
    "# Baseline"
   ]
  },
  {
   "cell_type": "code",
   "execution_count": 20,
   "metadata": {},
   "outputs": [
    {
     "name": "stdout",
     "output_type": "stream",
     "text": [
      "              precision    recall  f1-score   support\n",
      "\n",
      "      50PLUS       0.02      0.02      0.02       387\n",
      "         CDA       0.14      0.14      0.14      1901\n",
      "ChristenUnie       0.06      0.07      0.06      1068\n",
      "         D66       0.13      0.13      0.13      1889\n",
      "  GroenLinks       0.07      0.06      0.07      1068\n",
      "         PVV       0.12      0.11      0.12      1700\n",
      "        PvdA       0.11      0.12      0.11      1821\n",
      "        PvdD       0.02      0.02      0.02       432\n",
      "         SGP       0.06      0.05      0.05       655\n",
      "          SP       0.15      0.15      0.15      2284\n",
      "         VVD       0.11      0.11      0.11      1694\n",
      "\n",
      " avg / total       0.11      0.11      0.11     14899\n",
      "\n"
     ]
    }
   ],
   "source": [
    "simpleprediction = np.random.choice(countdf.index, len(df.party), p = [x/countdf.sum() for x in list(countdf)])\n",
    "print(classification_report(df.party, simpleprediction))"
   ]
  },
  {
   "cell_type": "code",
   "execution_count": 21,
   "metadata": {},
   "outputs": [
    {
     "data": {
      "text/plain": [
       "0.15329887911940399"
      ]
     },
     "execution_count": 21,
     "metadata": {},
     "output_type": "execute_result"
    }
   ],
   "source": [
    "accuracy_score(df.party, np.full(len(df.party), countdf.idxmax()))"
   ]
  },
  {
   "cell_type": "markdown",
   "metadata": {},
   "source": [
    "# Models"
   ]
  },
  {
   "cell_type": "code",
   "execution_count": null,
   "metadata": {},
   "outputs": [],
   "source": [
    "def modelsdownload(only_doen=False):\n",
    "    models_df = pd.read_excel('Models.xlsx', index_col=0)\n",
    "    if only_doen:\n",
    "        models_df = models_df.loc[models_df.DOEN == True]\n",
    "    models_dict = {}\n",
    "    for x,y in zip(models_df.Classifier, models_df.PIPELINE):\n",
    "        exec(compile(\"a=\"+y,'','exec'), globals())\n",
    "        models_dict[x] = Pipeline(a)\n",
    "    return models_df, models_dict"
   ]
  },
  {
   "cell_type": "code",
   "execution_count": null,
   "metadata": {},
   "outputs": [],
   "source": [
    "models_df, models_dict = modelsdownload(True)\n",
    "\n",
    "# Creates a dict with parameters per classifier   \n",
    "params_dict = {}\n",
    "for clf in set(models_df.Classifier):\n",
    "    params_df = models_df.loc[models_df.Classifier == clf]\n",
    "    params_df = params_df.loc[params_df.DOEN == True]\n",
    "    params_df = params_df.dropna(axis=1, how='all')\n",
    "    params_df = params_df.drop([col for col in params_df.columns if \"__\" not in col], axis=1)\n",
    "    temp_dict = {}\n",
    "    for x, y in params_df.to_dict(orient='list').items():\n",
    "        a = literal_eval(y[0])\n",
    "        temp_dict[x] = a   \n",
    "    params_dict[clf] = temp_dict\n",
    "    \n",
    "text_dict = {x:y for x, y in zip(models_df.Classifier, models_df.STEMMED)}"
   ]
  },
  {
   "cell_type": "code",
   "execution_count": null,
   "metadata": {},
   "outputs": [],
   "source": [
    "scoring = ['accuracy', 'f1_weighted', 'precision_weighted','recall_weighted']\n",
    "for name, pipe in models_dict.items():\n",
    "    \n",
    "    if text_dict[name]:\n",
    "         text = list(df.normal_text)\n",
    "    else:\n",
    "        text = list(df.stemmed_text)\n",
    "        \n",
    "    gs = GridSearchCVProgressBar(pipe, params_dict[name], cv=5, scoring=scoring, refit = False, return_train_score = False, n_jobs=5)\n",
    "    gs.fit(text, df.party)\n",
    "    rows = pd.DataFrame(gs.cv_results_)\n",
    "    # https://stackoverflow.com/questions/38231591/splitting-dictionary-list-inside-a-pandas-column-into-separate-columns\n",
    "    rows = pd.concat([rows.drop(['params'], axis=1), rows['params'].apply(pd.Series)], axis=1)\n",
    "    rows[\"name\"] = name\n",
    "    rows[\"stemmed\"] = text_dict[name]\n",
    "    pd.concat([rows, pd.read_csv('Scores.csv', index_col=0)], ignore_index=True).sort_values(['mean_test_f1_weighted'], ascending=False).to_csv('Scores.csv')\n",
    "    df4 = pd.read_excel('Models.xlsx', index_col=0)\n",
    "    df4.loc[df4.Classifier == name, \"DOEN\"] = False\n",
    "    df4.to_excel('Models.xlsx')\n",
    "    print(\"Voltooid: %s\" %name)\n",
    "    \n",
    "# https://stackoverflow.com/questions/46735847/save-best-params-in-gridsearch-in-a-pandas-dataframe\n",
    "# https://stackoverflow.com/questions/36271413/pandas-merge-nearly-duplicate-rows-based-on-column-value?rq=1"
   ]
  },
  {
   "cell_type": "markdown",
   "metadata": {},
   "source": [
    "# Best Score"
   ]
  },
  {
   "cell_type": "code",
   "execution_count": null,
   "metadata": {},
   "outputs": [],
   "source": [
    "# Select the classifier and parameters with highest score\n",
    "def getbestpipe(file):\n",
    "    scores = pd.read_csv(file, index_col=0).head(1)\n",
    "    scores = scores.dropna(axis=1).reset_index(drop=True)\n",
    "    scores.vect__ngram_range[0] = literal_eval(scores.vect__ngram_range[0])\n",
    "    models_df, models_dict = modelsdownload(False)\n",
    "    text_dict = {x:y for x, y in zip(models_df.Classifier, models_df.STEMMED)}\n",
    "    pipe = models_dict[scores.name[0]]\n",
    "    params = scores.drop([col for col in scores.columns if \"__\" not in col or \"param\" in col], axis=1).to_dict(orient='records')[0]\n",
    "    params['vect__min_df'] = int(params['vect__min_df'])\n",
    "    pipe.set_params(**params)\n",
    "    stem = text_dict[scores.name[0]]\n",
    "    return pipe, stem\n",
    "pipe, stem = getbestpipe('Scores.csv')\n",
    "print(pipe.steps)"
   ]
  },
  {
   "cell_type": "code",
   "execution_count": null,
   "metadata": {},
   "outputs": [],
   "source": [
    "df_train = df.sample(frac=0.8)\n",
    "df_test_index = list(set(df.index.tolist()) - set(df_train.index.tolist()))\n",
    "df_test = df[df.index.isin(df_test_index)]\n",
    "if stem:\n",
    "    pipe.fit(df_train.stemmed_text, df_train.party)\n",
    "    predicted = pipe.predict(df_test.stemmed_text)\n",
    "else:\n",
    "    pipe.fit(list(df_train.normal_text), list(df_train.party))\n",
    "    predicted = pipe.predict(df_test.normal_text)\n",
    "print(classification_report(df_test.party, predicted))\n",
    "print('Accuracy: ', accuracy_score(df_test.party, predicted))"
   ]
  },
  {
   "cell_type": "code",
   "execution_count": null,
   "metadata": {},
   "outputs": [],
   "source": [
    "def mostimportantwords(pipe, countdf, filename):\n",
    "    vocab = pipe.named_steps['vect'].vocabulary_\n",
    "    inv_vocab = {v: k for k, v in vocab.items()}\n",
    "    coefs = pipe.named_steps[[x for x in pipe.named_steps.keys() if not x=='vect'][0]].coef_\n",
    "    top_words = []\n",
    "    for i in range(coefs.shape[0]):\n",
    "        temp_list = []\n",
    "        for t in coefs[i].argsort()[-10:][::-1]:\n",
    "            temp_list.append(inv_vocab[t])\n",
    "        top_words.append(temp_list)\n",
    "    top_words = pd.DataFrame(top_words).T\n",
    "    top_words.columns = countdf.index\n",
    "    with open(\"Verslag/Tables/%s1.tex\" %filename, \"w\") as f:\n",
    "        f.write(top_words.iloc[:,:5].to_latex(index=False))\n",
    "    with open(\"Verslag/Tables/%s2.tex\" %filename, \"w\") as f:\n",
    "        f.write(top_words.iloc[:,5:].to_latex(index=False))\n",
    "    return top_words\n",
    "\n",
    "mostimportantwords(pipe, countdf, 'MostImportantWords')"
   ]
  },
  {
   "cell_type": "code",
   "execution_count": null,
   "metadata": {},
   "outputs": [],
   "source": [
    "#source: http://scikit-learn.org/stable/auto_examples/model_selection/plot_confusion_matrix.html#sphx-glr-auto-examples-model-selection-plot-confusion-matrix-py\n",
    "def plot_confusion_matrix(cm, classes,\n",
    "                          normalize=False,\n",
    "                          title='Confusion matrix',\n",
    "                          cmap=plt.cm.Blues):\n",
    "    \"\"\"\n",
    "    This function prints and plots the confusion matrix.\n",
    "    Normalization can be applied by setting `normalize=True`.\n",
    "    \"\"\"\n",
    "    if normalize:\n",
    "        cm = cm.astype('float') / cm.sum(axis=1)[:, np.newaxis]\n",
    "\n",
    "    plt.imshow(cm, interpolation='nearest', cmap=cmap)\n",
    "    plt.colorbar()\n",
    "    tick_marks = np.arange(len(classes))\n",
    "    plt.xticks(tick_marks, classes, rotation=45)\n",
    "    plt.yticks(tick_marks, classes)\n",
    "\n",
    "    fmt = '.2f' if normalize else 'd'\n",
    "    thresh = cm.max() / 2.\n",
    "    for i, j in itertools.product(range(cm.shape[0]), range(cm.shape[1])):\n",
    "        plt.text(j, i, format(cm[i, j], fmt),\n",
    "                 horizontalalignment=\"center\",\n",
    "                 color=\"white\" if cm[i, j] > thresh else \"black\")\n",
    "\n",
    "    plt.tight_layout()\n",
    "    plt.ylabel('Echte klasse')\n",
    "    plt.xlabel('Voorspelde klasse')"
   ]
  },
  {
   "cell_type": "code",
   "execution_count": null,
   "metadata": {},
   "outputs": [],
   "source": [
    "plt.figure(figsize=(10, 10))\n",
    "cnf_matrix = confusion_matrix(df_test.party, predicted)\n",
    "plot_confusion_matrix(cnf_matrix, \\\n",
    "                      classes=sorted(list(df.party.unique())), \\\n",
    "                      title='Confusion matrix best estimator')\n",
    "plt.savefig(\"Verslag/confusionmatrix.png\")\n",
    "plt.show()"
   ]
  },
  {
   "cell_type": "markdown",
   "metadata": {},
   "source": [
    "# Without Names"
   ]
  },
  {
   "cell_type": "code",
   "execution_count": null,
   "metadata": {},
   "outputs": [],
   "source": [
    "Party_synomyns = [\"Partij van de Arbeid\",\"Socialistische Partij\",\"Partij voor de Dieren\",\"Volkspartij voor Vrijheid en Democratie\",\"Partij voor de Vrijheid\"]\n",
    "partijnamen = list(df.party.unique()) + Party_synomyns\n",
    "partijnamen += [\"[Hh]et \"+ x for x in partijnamen] + [\"[Dd]e \"+ x for x in partijnamen]\n",
    "partijnamen = re.compile('|'.join(partijnamen))\n",
    "kamerlidnamen = re.compile('|'.join(df.surname.unique()) + \"|Dijkstra|Van Dijk|Van Nieuwenhuizen|Baay|Berndsen|Jansen|Günal|Schut|Nijkerken|Buma|Venrooy|Mulder|De Vries|Berckmoes|Van Dijck|Pia\")\n",
    "temp = df.text.apply(lambda x: ' '.join([stemmer.stem(t) for t in tokenizer.tokenize(re.sub(kamerlidnamen,\"xxxxx\",re.sub(partijnamen,\"yyyyy\",x)))]))\n",
    "df['withoutnames'] = temp.apply(lambda x: (x.replace(\"xxxxx\",'KAMERlIDNAAM')).replace(\"yyyyy\", 'PARTIJNAAM'))\n",
    "df.head(5)"
   ]
  },
  {
   "cell_type": "code",
   "execution_count": null,
   "metadata": {},
   "outputs": [],
   "source": [
    "pipe, _ = getbestpipe('Scores.csv')\n",
    "df_train = df.sample(frac=0.8)\n",
    "df_test_index = list(set(df.index.tolist()) - set(df_train.index.tolist()))\n",
    "df_test = df[df.index.isin(df_test_index)]\n",
    "pipe.fit(list(df_train.withoutnames), list(df_train.party))\n",
    "predicted = pipe.predict(df_test.withoutnames)\n",
    "print(classification_report(df_test.party, predicted))"
   ]
  },
  {
   "cell_type": "code",
   "execution_count": null,
   "metadata": {},
   "outputs": [],
   "source": [
    "mostimportantwords(pipe, countdf, 'MostImportantWordsWithoutNames')"
   ]
  },
  {
   "cell_type": "code",
   "execution_count": null,
   "metadata": {},
   "outputs": [],
   "source": [
    "plt.figure(figsize=(10, 10))\n",
    "cnf_matrix = confusion_matrix(df_test.party, predicted)\n",
    "plot_confusion_matrix(cnf_matrix, \\\n",
    "                      classes=sorted(list(df.party.unique())), \\\n",
    "                      title='Confusion matrix best estimator')\n",
    "plt.savefig(\"Verslag/confusionmatrix2.png\")\n",
    "plt.show()"
   ]
  },
  {
   "cell_type": "markdown",
   "metadata": {},
   "source": [
    "# Regering & Oppositie"
   ]
  },
  {
   "cell_type": "code",
   "execution_count": null,
   "metadata": {},
   "outputs": [],
   "source": [
    "df['PartijStatus'] = df['party'].map({'CDA': 'Oppositie', 'ChristenUnie': 'Oppositie', 'D66':'Oppositie', 'SGP':'Oppositie', 'VVD':'Regering', 'SP':'Oppositie','PvdD':'Oppositie','GroenLinks':'Oppositie','PvdA':'Regering','50PLUS':'Oppositie'})\n",
    "pipe, _ = getbestpipe('Scores.csv')\n",
    "df_train = df.dropna().sample(frac=0.8)\n",
    "df_test_index = list(set(df.index.tolist()) - set(df_train.index.tolist()))\n",
    "df_test = df.dropna()[df.dropna().index.isin(df_test_index)]\n",
    "pipe.fit(df_train.withoutnames, df_train.PartijStatus)\n",
    "predicted = pipe.predict(df_test.withoutnames)\n",
    "print(classification_report(df_test.PartijStatus, predicted))"
   ]
  },
  {
   "cell_type": "code",
   "execution_count": null,
   "metadata": {},
   "outputs": [],
   "source": [
    "# regering\n",
    "vocab = pipe.named_steps['vect'].vocabulary_\n",
    "inv_vocab = {v: k for k, v in vocab.items()}\n",
    "coefs = pipe.named_steps[[x for x in pipe.named_steps.keys() if not x=='vect'][0]].coef_\n",
    "top_words = []\n",
    "for i in range(coefs.shape[0]):\n",
    "    temp_list = []\n",
    "    for t in coefs[i].argsort()[-10:][::-1]:\n",
    "        temp_list.append(inv_vocab[t])\n",
    "    top_words.append(temp_list)\n",
    "top_words = pd.DataFrame(top_words).T\n",
    "top_words"
   ]
  },
  {
   "cell_type": "code",
   "execution_count": null,
   "metadata": {},
   "outputs": [],
   "source": [
    "# oppositie\n",
    "vocab = pipe.named_steps['vect'].vocabulary_\n",
    "inv_vocab = {v: k for k, v in vocab.items()}\n",
    "coefs = pipe.named_steps[[x for x in pipe.named_steps.keys() if not x=='vect'][0]].coef_\n",
    "top_words = []\n",
    "for i in range(coefs.shape[0]):\n",
    "    temp_list = []\n",
    "    for t in coefs[i].argsort()[:10][::-1]:\n",
    "        temp_list.append(inv_vocab[t])\n",
    "    top_words.append(temp_list)\n",
    "top_words = pd.DataFrame(top_words).T\n",
    "top_words"
   ]
  },
  {
   "cell_type": "markdown",
   "metadata": {},
   "source": [
    "# Woorden Balkenende 4"
   ]
  },
  {
   "cell_type": "code",
   "execution_count": null,
   "metadata": {},
   "outputs": [],
   "source": [
    "# Importing data\n",
    "dfb4 = pd.read_csv(\"HandelingenBalkenende4.csv\", index_col=0)\n",
    "dfb4 = dfb4.loc[dfb4['speech category'] == 'Main Speech']\n",
    "dfb4['stemmed_text'] = dfb4.text.apply(lambda x: ' '.join([stemmer.stem(t) for t in tokenizer.tokenize(x)]))\n",
    "dfb4.head(5)"
   ]
  },
  {
   "cell_type": "code",
   "execution_count": null,
   "metadata": {},
   "outputs": [],
   "source": [
    "# Creates a dataframe with counts of dataset per party\n",
    "countdfb4 = dfb4.party.value_counts().sort_index()\n",
    "countdfb4"
   ]
  },
  {
   "cell_type": "code",
   "execution_count": null,
   "metadata": {},
   "outputs": [],
   "source": [
    "Party_synomyns\n",
    "partijnamen = list(dfb4.party.unique()) + Party_synomyns\n",
    "partijnamen += [\"[Hh]et \"+ x for x in partijnamen] + [\"[Dd]e \"+ x for x in partijnamen]\n",
    "partijnamen = re.compile('|'.join(partijnamen))\n",
    "kamerlidnamen = re.compile('|'.join(dfb4.surname.unique())+\"|Kortenhorst|Wiegman|De Roos|Schreijer|Willemse|Snijder|Van Vroonhoven|Dezentjé Hamming|Blanksma|Buma|De Pater|Ortega|Madsen\")\n",
    "temp = dfb4.text.apply(lambda x: ' '.join([stemmer.stem(t) for t in tokenizer.tokenize(re.sub(kamerlidnamen,\"xxxxx\",re.sub(partijnamen,\"yyyyy\",x)))]))\n",
    "dfb4['withoutnames'] = temp.apply(lambda x: (x.replace(\"xxxxx\",'KAMERlIDNAAM')).replace(\"yyyyy\", 'PARTIJNAAM'))\n",
    "dfb4.head(5)"
   ]
  },
  {
   "cell_type": "code",
   "execution_count": null,
   "metadata": {},
   "outputs": [],
   "source": [
    "pipe, _ = getbestpipe('Scores.csv')\n",
    "dfb4_train = dfb4.sample(frac=0.8)\n",
    "dfb4_test_index = list(set(dfb4.index.tolist()) - set(dfb4_train.index.tolist()))\n",
    "dfb4_test = dfb4[dfb4.index.isin(dfb4_test_index)]\n",
    "pipe.fit(list(dfb4_train.withoutnames), list(dfb4_train.party))\n",
    "predicted = pipe.predict(dfb4_test.withoutnames)\n",
    "print(classification_report(dfb4_test.party, predicted))"
   ]
  },
  {
   "cell_type": "code",
   "execution_count": null,
   "metadata": {},
   "outputs": [],
   "source": [
    "mostimportantwords(pipe, countdfb4, 'MostImportantWordsWithoutNames')"
   ]
  },
  {
   "cell_type": "code",
   "execution_count": null,
   "metadata": {},
   "outputs": [],
   "source": [
    "plt.figure(figsize=(10, 10))\n",
    "cnf_matrix = confusion_matrix(dfb4_test.party, predicted)\n",
    "plot_confusion_matrix(cnf_matrix, \\\n",
    "                      classes=sorted(list(dfb4.party.unique())), \\\n",
    "                      title='Confusion matrix best estimator')\n",
    "plt.show()"
   ]
  },
  {
   "cell_type": "markdown",
   "metadata": {},
   "source": [
    "# Vergelijken"
   ]
  },
  {
   "cell_type": "code",
   "execution_count": null,
   "metadata": {},
   "outputs": [],
   "source": [
    "pipe, _ = getbestpipe('Scores.csv')\n",
    "tempdf = df[df.party != '50PLUS']\n",
    "pipe.fit(tempdf.withoutnames, tempdf.party)\n",
    "predicted = pipe.predict(dfb4.withoutnames)\n",
    "print(classification_report(dfb4.party, predicted))"
   ]
  },
  {
   "cell_type": "code",
   "execution_count": null,
   "metadata": {},
   "outputs": [],
   "source": [
    "pipe, _ = getbestpipe('Scores.csv')\n",
    "tempdf = df[df.party != '50PLUS']\n",
    "pipe.fit(dfb4.withoutnames, dfb4.party)\n",
    "predicted = pipe.predict(tempdf.withoutnames)\n",
    "print(classification_report(tempdf.party, predicted))"
   ]
  },
  {
   "cell_type": "markdown",
   "metadata": {},
   "source": [
    "# Links / Rechts vergelijken"
   ]
  },
  {
   "cell_type": "code",
   "execution_count": null,
   "metadata": {},
   "outputs": [],
   "source": [
    "df['Kieskompas'] = df['party'].map({'CDA': 'Rechts', 'ChristenUnie': 'Rechts', 'D66':'Rechts', 'SGP':'Rechts', 'VVD':'Rechts', 'SP':'Links','PvdD':'Links','GroenLinks':'Links','PvdA':'Links','50PLUS':'Links'})"
   ]
  },
  {
   "cell_type": "code",
   "execution_count": null,
   "metadata": {},
   "outputs": [],
   "source": [
    "pipe, _ = getbestpipe('Scores.csv')\n",
    "df_train = df.dropna().sample(frac=0.8)\n",
    "df_test_index = list(set(df.index.tolist()) - set(df_train.index.tolist()))\n",
    "df_test = df.dropna()[df.dropna().index.isin(df_test_index)]\n",
    "pipe.fit(df_train.withoutnames, df_train.Kieskompas)\n",
    "predicted = pipe.predict(df_test.withoutnames)\n",
    "print(classification_report(df_test.Kieskompas, predicted))"
   ]
  },
  {
   "cell_type": "markdown",
   "metadata": {},
   "source": [
    "# Git"
   ]
  },
  {
   "cell_type": "code",
   "execution_count": 38,
   "metadata": {},
   "outputs": [
    {
     "name": "stdout",
     "output_type": "stream",
     "text": [
      "Already up to date.\n"
     ]
    },
    {
     "name": "stderr",
     "output_type": "stream",
     "text": [
      "c:\\users\\m6800\\appdata\\local\\programs\\python\\python36\\lib\\site-packages\\IPython\\utils\\_process_win32.py:131: ResourceWarning: unclosed file <_io.BufferedWriter name=8>\n",
      "  return process_handler(cmd, _system_body)\n",
      "c:\\users\\m6800\\appdata\\local\\programs\\python\\python36\\lib\\site-packages\\IPython\\utils\\_process_win32.py:131: ResourceWarning: unclosed file <_io.BufferedReader name=9>\n",
      "  return process_handler(cmd, _system_body)\n",
      "c:\\users\\m6800\\appdata\\local\\programs\\python\\python36\\lib\\site-packages\\IPython\\utils\\_process_win32.py:131: ResourceWarning: unclosed file <_io.BufferedReader name=10>\n",
      "  return process_handler(cmd, _system_body)\n"
     ]
    },
    {
     "name": "stdout",
     "output_type": "stream",
     "text": [
      "[master f80c78c] Update\n",
      " 1 file changed, 17 insertions(+), 15 deletions(-)\n",
      " rewrite Verslag/Tables/Spreekbeurten.tex (88%)\n"
     ]
    },
    {
     "name": "stderr",
     "output_type": "stream",
     "text": [
      "To https://github.com/jaspervdh96/Scriptie-Sprekers-TK.git\n",
      "   1315f02..f80c78c  master -> master\n"
     ]
    }
   ],
   "source": [
    "!git pull\n",
    "!git add CompleteNotebook.ipynb\n",
    "!git add Scraper.ipynb\n",
    "!git add Scores.csv\n",
    "!git add Scriptie_Sprekers_TK.pdf\n",
    "!git add Verslag/Tables/Spreekbeurten.tex\n",
    "!git add Verslag/Tables/MostImportantWordsWithoutNames1.tex\n",
    "!git add Verslag/Tables/MostImportantWordsWithoutNames2.tex\n",
    "!git add Verslag/Tables/MostImportantWords1.tex\n",
    "!git add Verslag/Tables/MostImportantWords2.tex\n",
    "!git add Verslag/Tables/lengthtextslog.png\n",
    "!git add Verslag/Tables/lengthtexts.png\n",
    "!git add Models.xlsx\n",
    "!git add Verslag/confusionmatrix.png\n",
    "!git commit -m Update\n",
    "!git push"
   ]
  },
  {
   "cell_type": "code",
   "execution_count": null,
   "metadata": {},
   "outputs": [],
   "source": []
  }
 ],
 "metadata": {
  "kernelspec": {
   "display_name": "Python 3",
   "language": "python",
   "name": "python3"
  },
  "language_info": {
   "codemirror_mode": {
    "name": "ipython",
    "version": 3
   },
   "file_extension": ".py",
   "mimetype": "text/x-python",
   "name": "python",
   "nbconvert_exporter": "python",
   "pygments_lexer": "ipython3",
   "version": "3.6.4"
  }
 },
 "nbformat": 4,
 "nbformat_minor": 2
}
