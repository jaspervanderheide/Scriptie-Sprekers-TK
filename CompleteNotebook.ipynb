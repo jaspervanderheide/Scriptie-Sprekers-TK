{
 "cells": [
  {
   "cell_type": "code",
   "execution_count": 1,
   "metadata": {},
   "outputs": [],
   "source": [
    "%matplotlib inline\n",
    "import xlrd\n",
    "import operator\n",
    "import math\n",
    "import re\n",
    "import nltk\n",
    "import scipy\n",
    "import random\n",
    "import openpyxl\n",
    "import matplotlib.pyplot as plt\n",
    "import pandas as pd\n",
    "import numpy as np\n",
    "from functools import reduce\n",
    "import seaborn as sns\n",
    "from pactools.grid_search import GridSearchCVProgressBar\n",
    "from collections import Counter, defaultdict\n",
    "from itertools import chain, product\n",
    "from decimal import Decimal\n",
    "from ast import literal_eval\n",
    "from tqdm import tqdm\n",
    "\n",
    "# Sklearn imports\n",
    "from sklearn.feature_extraction.text import TfidfVectorizer\n",
    "from sklearn.pipeline import Pipeline\n",
    "from sklearn.naive_bayes import MultinomialNB, BernoulliNB\n",
    "from sklearn.linear_model import SGDClassifier\n",
    "from sklearn.metrics import classification_report, precision_recall_fscore_support, confusion_matrix, accuracy_score\n",
    "from sklearn.model_selection import GridSearchCV, RandomizedSearchCV, train_test_split\n",
    "\n",
    "pd.options.mode.chained_assignment = None\n",
    "\n",
    "tokenizer = nltk.tokenize.RegexpTokenizer(r'\\w+')\n",
    "stemmer = nltk.stem.snowball.SnowballStemmer(\"dutch\")"
   ]
  },
  {
   "cell_type": "code",
   "execution_count": 2,
   "metadata": {},
   "outputs": [
    {
     "data": {
      "text/html": [
       "<div>\n",
       "<style scoped>\n",
       "    .dataframe tbody tr th:only-of-type {\n",
       "        vertical-align: middle;\n",
       "    }\n",
       "\n",
       "    .dataframe tbody tr th {\n",
       "        vertical-align: top;\n",
       "    }\n",
       "\n",
       "    .dataframe thead th {\n",
       "        text-align: right;\n",
       "    }\n",
       "</style>\n",
       "<table border=\"1\" class=\"dataframe\">\n",
       "  <thead>\n",
       "    <tr style=\"text-align: right;\">\n",
       "      <th></th>\n",
       "      <th>surname</th>\n",
       "      <th>party</th>\n",
       "      <th>text</th>\n",
       "      <th>file</th>\n",
       "      <th>speech category</th>\n",
       "      <th>date</th>\n",
       "      <th>tags</th>\n",
       "      <th>titel</th>\n",
       "      <th>stemmed_text</th>\n",
       "      <th>normal_text</th>\n",
       "    </tr>\n",
       "  </thead>\n",
       "  <tbody>\n",
       "    <tr>\n",
       "      <th>175881</th>\n",
       "      <td>Wilders</td>\n",
       "      <td>PVV</td>\n",
       "      <td>\\r\\n           \\r\\n             Mevrouw de voo...</td>\n",
       "      <td>h-tk-20122013-100-3.xml</td>\n",
       "      <td>Main Speech</td>\n",
       "      <td>2013-06-26</td>\n",
       "      <td>['Bestuur | Parlement', 'Financiën | Begroting']</td>\n",
       "      <td>Aanbevelingen Europese Commissie extra bezuini...</td>\n",
       "      <td>mevrouw de voorzitter dit kabinet heeft ons mo...</td>\n",
       "      <td>mevrouw de voorzitter dit kabinet heeft ons mo...</td>\n",
       "    </tr>\n",
       "    <tr>\n",
       "      <th>175882</th>\n",
       "      <td>Roemer</td>\n",
       "      <td>SP</td>\n",
       "      <td>\\r\\n           \\r\\n             Voorzitter. Vo...</td>\n",
       "      <td>h-tk-20122013-100-3.xml</td>\n",
       "      <td>Main Speech</td>\n",
       "      <td>2013-06-26</td>\n",
       "      <td>['Bestuur | Parlement', 'Financiën | Begroting']</td>\n",
       "      <td>Aanbevelingen Europese Commissie extra bezuini...</td>\n",
       "      <td>voorzitter vorig wek plaatst werkgever werknem...</td>\n",
       "      <td>voorzitter vorige week plaatsten werkgevers we...</td>\n",
       "    </tr>\n",
       "    <tr>\n",
       "      <th>175883</th>\n",
       "      <td>Pechtold</td>\n",
       "      <td>D66</td>\n",
       "      <td>\\r\\n           \\r\\n             Voorzitter. Tw...</td>\n",
       "      <td>h-tk-20122013-100-3.xml</td>\n",
       "      <td>Main Speech</td>\n",
       "      <td>2013-06-26</td>\n",
       "      <td>['Bestuur | Parlement', 'Financiën | Begroting']</td>\n",
       "      <td>Aanbevelingen Europese Commissie extra bezuini...</td>\n",
       "      <td>voorzitter twee maand geled kreg dit kabinet v...</td>\n",
       "      <td>voorzitter twee maanden geleden kreeg dit kabi...</td>\n",
       "    </tr>\n",
       "    <tr>\n",
       "      <th>175884</th>\n",
       "      <td>Van Haersma Buma</td>\n",
       "      <td>CDA</td>\n",
       "      <td>\\r\\n           \\r\\n             Voorzitter. Al...</td>\n",
       "      <td>h-tk-20122013-100-3.xml</td>\n",
       "      <td>Main Speech</td>\n",
       "      <td>2013-06-26</td>\n",
       "      <td>['Bestuur | Parlement', 'Financiën | Begroting']</td>\n",
       "      <td>Aanbevelingen Europese Commissie extra bezuini...</td>\n",
       "      <td>voorzitter allen al in de eerst drie maand van...</td>\n",
       "      <td>voorzitter alleen al in de eerste drie maanden...</td>\n",
       "    </tr>\n",
       "    <tr>\n",
       "      <th>175889</th>\n",
       "      <td>Thieme</td>\n",
       "      <td>PvdD</td>\n",
       "      <td>\\r\\n           \\r\\n             Voorzitter. We...</td>\n",
       "      <td>h-tk-20122013-100-3.xml</td>\n",
       "      <td>Main Speech</td>\n",
       "      <td>2013-06-26</td>\n",
       "      <td>['Bestuur | Parlement', 'Financiën | Begroting']</td>\n",
       "      <td>Aanbevelingen Europese Commissie extra bezuini...</td>\n",
       "      <td>voorzitter we zijn eruit eerst ontdekt de mini...</td>\n",
       "      <td>voorzitter we zijn eruit eerst ontdekte de min...</td>\n",
       "    </tr>\n",
       "  </tbody>\n",
       "</table>\n",
       "</div>"
      ],
      "text/plain": [
       "                 surname party  \\\n",
       "175881           Wilders   PVV   \n",
       "175882            Roemer    SP   \n",
       "175883          Pechtold   D66   \n",
       "175884  Van Haersma Buma   CDA   \n",
       "175889            Thieme  PvdD   \n",
       "\n",
       "                                                     text  \\\n",
       "175881  \\r\\n           \\r\\n             Mevrouw de voo...   \n",
       "175882  \\r\\n           \\r\\n             Voorzitter. Vo...   \n",
       "175883  \\r\\n           \\r\\n             Voorzitter. Tw...   \n",
       "175884  \\r\\n           \\r\\n             Voorzitter. Al...   \n",
       "175889  \\r\\n           \\r\\n             Voorzitter. We...   \n",
       "\n",
       "                           file speech category        date  \\\n",
       "175881  h-tk-20122013-100-3.xml     Main Speech  2013-06-26   \n",
       "175882  h-tk-20122013-100-3.xml     Main Speech  2013-06-26   \n",
       "175883  h-tk-20122013-100-3.xml     Main Speech  2013-06-26   \n",
       "175884  h-tk-20122013-100-3.xml     Main Speech  2013-06-26   \n",
       "175889  h-tk-20122013-100-3.xml     Main Speech  2013-06-26   \n",
       "\n",
       "                                                    tags  \\\n",
       "175881  ['Bestuur | Parlement', 'Financiën | Begroting']   \n",
       "175882  ['Bestuur | Parlement', 'Financiën | Begroting']   \n",
       "175883  ['Bestuur | Parlement', 'Financiën | Begroting']   \n",
       "175884  ['Bestuur | Parlement', 'Financiën | Begroting']   \n",
       "175889  ['Bestuur | Parlement', 'Financiën | Begroting']   \n",
       "\n",
       "                                                    titel  \\\n",
       "175881  Aanbevelingen Europese Commissie extra bezuini...   \n",
       "175882  Aanbevelingen Europese Commissie extra bezuini...   \n",
       "175883  Aanbevelingen Europese Commissie extra bezuini...   \n",
       "175884  Aanbevelingen Europese Commissie extra bezuini...   \n",
       "175889  Aanbevelingen Europese Commissie extra bezuini...   \n",
       "\n",
       "                                             stemmed_text  \\\n",
       "175881  mevrouw de voorzitter dit kabinet heeft ons mo...   \n",
       "175882  voorzitter vorig wek plaatst werkgever werknem...   \n",
       "175883  voorzitter twee maand geled kreg dit kabinet v...   \n",
       "175884  voorzitter allen al in de eerst drie maand van...   \n",
       "175889  voorzitter we zijn eruit eerst ontdekt de mini...   \n",
       "\n",
       "                                              normal_text  \n",
       "175881  mevrouw de voorzitter dit kabinet heeft ons mo...  \n",
       "175882  voorzitter vorige week plaatsten werkgevers we...  \n",
       "175883  voorzitter twee maanden geleden kreeg dit kabi...  \n",
       "175884  voorzitter alleen al in de eerste drie maanden...  \n",
       "175889  voorzitter we zijn eruit eerst ontdekte de min...  "
      ]
     },
     "execution_count": 2,
     "metadata": {},
     "output_type": "execute_result"
    }
   ],
   "source": [
    "# Importing data\n",
    "def importdata(file):\n",
    "    df = pd.read_csv(file, index_col=0)\n",
    "    df = df.loc[df['speech category'] == 'Main Speech']\n",
    "    return df \n",
    "df = importdata(\"HandelingenRutte2.csv\")\n",
    "df['stemmed_text'] = df.text.apply(lambda x: ' '.join([stemmer.stem(t) for t in tokenizer.tokenize(x)]))\n",
    "df['normal_text'] = df.text.apply(lambda x: ' '.join([t.lower() for t in tokenizer.tokenize(x)]))\n",
    "df.drop(columns=['tags'])\n",
    "df.head(5)"
   ]
  },
  {
   "cell_type": "markdown",
   "metadata": {},
   "source": [
    "# Data Info"
   ]
  },
  {
   "cell_type": "code",
   "execution_count": 3,
   "metadata": {},
   "outputs": [
    {
     "name": "stdout",
     "output_type": "stream",
     "text": [
      "803.9600230083405 444.0\n"
     ]
    },
    {
     "name": "stderr",
     "output_type": "stream",
     "text": [
      "c:\\users\\m6800\\appdata\\local\\programs\\python\\python36\\lib\\site-packages\\matplotlib\\axes\\_axes.py:6462: UserWarning: The 'normed' kwarg is deprecated, and has been replaced by the 'density' kwarg.\n",
      "  warnings.warn(\"The 'normed' kwarg is deprecated, and has been \"\n"
     ]
    },
    {
     "data": {
      "image/png": "[encoded data removed]",
      "text/plain": [
       "<Figure size 432x288 with 1 Axes>"
      ]
     },
     "metadata": {},
     "output_type": "display_data"
    }
   ],
   "source": [
    "#leaving out all that is outside 95%\n",
    "list_text = df.stemmed_text.apply(lambda x: x.split(\" \"))\n",
    "t = [len(doc) for doc in list_text]\n",
    "print(np.mean(t),np.median(t))\n",
    "fit =scipy.stats.lognorm.fit(t)\n",
    "ax = sns.distplot(t,bins=1000,norm_hist=False,kde=False)\n",
    "ax.set_xscale('log')\n",
    "ax.set(xlabel='Woorden per document', ylabel='frequentie')\n",
    "plt.savefig(\"Verslag/Tables/lengthtextslog.png\")"
   ]
  },
  {
   "cell_type": "code",
   "execution_count": 4,
   "metadata": {},
   "outputs": [
    {
     "name": "stderr",
     "output_type": "stream",
     "text": [
      "c:\\users\\m6800\\appdata\\local\\programs\\python\\python36\\lib\\site-packages\\matplotlib\\axes\\_axes.py:6462: UserWarning: The 'normed' kwarg is deprecated, and has been replaced by the 'density' kwarg.\n",
      "  warnings.warn(\"The 'normed' kwarg is deprecated, and has been \"\n"
     ]
    },
    {
     "data": {
      "image/png": "[encoded data removed]",
      "text/plain": [
       "<Figure size 432x288 with 1 Axes>"
      ]
     },
     "metadata": {},
     "output_type": "display_data"
    }
   ],
   "source": [
    "ax = sns.distplot(t, bins=1000, norm_hist=False,kde=False)\n",
    "ax.set(xlabel='Woorden per document', ylabel='frequentie')\n",
    "plt.savefig(\"Verslag/Tables/lengthtexts.png\")"
   ]
  },
  {
   "cell_type": "code",
   "execution_count": 5,
   "metadata": {},
   "outputs": [
    {
     "name": "stdout",
     "output_type": "stream",
     "text": [
      "Ondergrens: 1492.675589876518 \n",
      "Bovengrens: 27.339307082607387\n",
      "Mediaan 386.0 \n",
      "Gemiddelde 498.18961004094234\n",
      "Overgebleven documenten: 14899\n"
     ]
    }
   ],
   "source": [
    "df = df.loc[df.stemmed_text.apply(lambda x: len(x.split(' '))) < math.exp(fit[0]+2*fit[1])]\n",
    "df = df.loc[df.stemmed_text.apply(lambda x: len(x.split(' '))) > math.exp(fit[0]-2*fit[1])]\n",
    "list_text = df.stemmed_text.apply(lambda x: x.split(\" \"))\n",
    "print(\"Ondergrens:\",math.exp(fit[0]+2*fit[1]),\"\\nBovengrens:\",math.exp(fit[0]-2*fit[1]))\n",
    "print(\"Mediaan\",np.median([len(doc) for doc in list_text]),\"\\nGemiddelde\",np.mean([len(doc) for doc in list_text]))\n",
    "print(\"Overgebleven documenten:\",len(df))"
   ]
  },
  {
   "cell_type": "code",
   "execution_count": 6,
   "metadata": {},
   "outputs": [
    {
     "data": {
      "text/plain": [
       "2984"
      ]
     },
     "execution_count": 6,
     "metadata": {},
     "output_type": "execute_result"
    }
   ],
   "source": [
    "len(df.file.unique())"
   ]
  },
  {
   "cell_type": "code",
   "execution_count": 7,
   "metadata": {},
   "outputs": [
    {
     "data": {
      "text/html": [
       "<div>\n",
       "<style scoped>\n",
       "    .dataframe tbody tr th:only-of-type {\n",
       "        vertical-align: middle;\n",
       "    }\n",
       "\n",
       "    .dataframe tbody tr th {\n",
       "        vertical-align: top;\n",
       "    }\n",
       "\n",
       "    .dataframe thead th {\n",
       "        text-align: right;\n",
       "    }\n",
       "</style>\n",
       "<table border=\"1\" class=\"dataframe\">\n",
       "  <thead>\n",
       "    <tr style=\"text-align: right;\">\n",
       "      <th></th>\n",
       "      <th>Totaal</th>\n",
       "      <th>Vragenuur</th>\n",
       "      <th>Debat</th>\n",
       "    </tr>\n",
       "  </thead>\n",
       "  <tbody>\n",
       "    <tr>\n",
       "      <th>50PLUS</th>\n",
       "      <td>387</td>\n",
       "      <td>12</td>\n",
       "      <td>375</td>\n",
       "    </tr>\n",
       "    <tr>\n",
       "      <th>CDA</th>\n",
       "      <td>1901</td>\n",
       "      <td>88</td>\n",
       "      <td>1813</td>\n",
       "    </tr>\n",
       "    <tr>\n",
       "      <th>ChristenUnie</th>\n",
       "      <td>1068</td>\n",
       "      <td>32</td>\n",
       "      <td>1036</td>\n",
       "    </tr>\n",
       "    <tr>\n",
       "      <th>D66</th>\n",
       "      <td>1889</td>\n",
       "      <td>133</td>\n",
       "      <td>1756</td>\n",
       "    </tr>\n",
       "    <tr>\n",
       "      <th>GroenLinks</th>\n",
       "      <td>1068</td>\n",
       "      <td>47</td>\n",
       "      <td>1021</td>\n",
       "    </tr>\n",
       "    <tr>\n",
       "      <th>PVV</th>\n",
       "      <td>1700</td>\n",
       "      <td>49</td>\n",
       "      <td>1651</td>\n",
       "    </tr>\n",
       "    <tr>\n",
       "      <th>PvdA</th>\n",
       "      <td>1821</td>\n",
       "      <td>112</td>\n",
       "      <td>1709</td>\n",
       "    </tr>\n",
       "    <tr>\n",
       "      <th>PvdD</th>\n",
       "      <td>432</td>\n",
       "      <td>14</td>\n",
       "      <td>418</td>\n",
       "    </tr>\n",
       "    <tr>\n",
       "      <th>SGP</th>\n",
       "      <td>655</td>\n",
       "      <td>10</td>\n",
       "      <td>645</td>\n",
       "    </tr>\n",
       "    <tr>\n",
       "      <th>SP</th>\n",
       "      <td>2284</td>\n",
       "      <td>107</td>\n",
       "      <td>2177</td>\n",
       "    </tr>\n",
       "    <tr>\n",
       "      <th>VVD</th>\n",
       "      <td>1694</td>\n",
       "      <td>76</td>\n",
       "      <td>1618</td>\n",
       "    </tr>\n",
       "  </tbody>\n",
       "</table>\n",
       "</div>"
      ],
      "text/plain": [
       "              Totaal  Vragenuur  Debat\n",
       "50PLUS           387         12    375\n",
       "CDA             1901         88   1813\n",
       "ChristenUnie    1068         32   1036\n",
       "D66             1889        133   1756\n",
       "GroenLinks      1068         47   1021\n",
       "PVV             1700         49   1651\n",
       "PvdA            1821        112   1709\n",
       "PvdD             432         14    418\n",
       "SGP              655         10    645\n",
       "SP              2284        107   2177\n",
       "VVD             1694         76   1618"
      ]
     },
     "execution_count": 7,
     "metadata": {},
     "output_type": "execute_result"
    }
   ],
   "source": [
    "#https://stackoverflow.com/questions/11350770/pandas-dataframe-select-by-partial-string\n",
    "\n",
    "# Creates a dataframe with counts of dataset per party\n",
    "countdf = pd.concat([df.party.value_counts(),df[df['titel'].str.contains(\"Vragen van het lid\")].party.value_counts(), df[~df['titel'].str.contains(\"Vragen van het lid\")].party.value_counts()], axis=1)\n",
    "countdf.columns = ['Totaal', 'Vragenuur','Debat']\n",
    "countdf = countdf.sort_values(\"Totaal\",axis=0, ascending=False)\n",
    "with open(\"Verslag/Tables/Spreekbeurten.tex\", \"w\") as f:\n",
    "    f.write(countdf.to_latex(header=True))\n",
    "countdf = countdf.sort_index()\n",
    "countdf"
   ]
  },
  {
   "cell_type": "code",
   "execution_count": 8,
   "metadata": {},
   "outputs": [
    {
     "data": {
      "image/png": "[encoded data removed]",
      "text/plain": [
       "<Figure size 432x288 with 1 Axes>"
      ]
     },
     "metadata": {},
     "output_type": "display_data"
    }
   ],
   "source": [
    "tekst = chain.from_iterable([list(set(doc)) for doc in list_text])\n",
    "del list_text\n",
    "count = Counter(tekst)\n",
    "samples = list(count.values())\n",
    "t = Counter(samples)\n",
    "t = sorted(t.items())\n",
    "x, y = zip(*t)\n",
    "plt.loglog(x, y)\n",
    "plt.show()"
   ]
  },
  {
   "cell_type": "markdown",
   "metadata": {},
   "source": [
    "# Baseline"
   ]
  },
  {
   "cell_type": "code",
   "execution_count": 9,
   "metadata": {},
   "outputs": [
    {
     "name": "stdout",
     "output_type": "stream",
     "text": [
      "              precision    recall  f1-score   support\n",
      "\n",
      "      50PLUS       0.02      0.02      0.02       387\n",
      "         CDA       0.14      0.14      0.14      1901\n",
      "ChristenUnie       0.06      0.07      0.06      1068\n",
      "         D66       0.11      0.11      0.11      1889\n",
      "  GroenLinks       0.08      0.08      0.08      1068\n",
      "         PVV       0.13      0.13      0.13      1700\n",
      "        PvdA       0.13      0.12      0.12      1821\n",
      "        PvdD       0.02      0.02      0.02       432\n",
      "         SGP       0.06      0.06      0.06       655\n",
      "          SP       0.16      0.16      0.16      2284\n",
      "         VVD       0.11      0.12      0.11      1694\n",
      "\n",
      " avg / total       0.11      0.11      0.11     14899\n",
      "\n",
      "Accuracy: 0.15329887911940399\n"
     ]
    }
   ],
   "source": [
    "simpleprediction = np.random.choice(countdf.index, len(df.party), p = [x/countdf[\"Totaal\"].sum() for x in list(countdf['Totaal'])])\n",
    "print(classification_report(df.party, simpleprediction))\n",
    "print(\"Accuracy:\",accuracy_score(df.party, np.full(len(df.party), countdf[\"Totaal\"].idxmax())))"
   ]
  },
  {
   "cell_type": "markdown",
   "metadata": {},
   "source": [
    "# Models"
   ]
  },
  {
   "cell_type": "code",
   "execution_count": 10,
   "metadata": {},
   "outputs": [],
   "source": [
    "def modelsdownload(file,only_doen=False):\n",
    "    models_df = pd.read_excel(file, index_col=0)\n",
    "    if only_doen:\n",
    "        models_df = models_df.loc[models_df.DOEN == True]\n",
    "    models_dict = {}\n",
    "    for x,y in zip(models_df.Classifier, models_df.PIPELINE):\n",
    "        exec(compile(\"a=\"+y,'','exec'), globals())\n",
    "        models_dict[x] = Pipeline(a)\n",
    "    return models_df, models_dict"
   ]
  },
  {
   "cell_type": "code",
   "execution_count": null,
   "metadata": {},
   "outputs": [],
   "source": [
    "models_df, models_dict = modelsdownload('Models.xlsx',True)\n",
    "\n",
    "# Creates a dict with parameters per classifier   \n",
    "params_dict = {}\n",
    "for clf in set(models_df.Classifier):\n",
    "    params_df = models_df.loc[models_df.Classifier == clf]\n",
    "    params_df = params_df.loc[params_df.DOEN == True]\n",
    "    params_df = params_df.dropna(axis=1, how='all')\n",
    "    params_df = params_df.drop([col for col in params_df.columns if \"__\" not in col], axis=1)\n",
    "    temp_dict = {}\n",
    "    for x, y in params_df.to_dict(orient='list').items():\n",
    "        a = literal_eval(y[0])\n",
    "        temp_dict[x] = a\n",
    "    params_dict[clf] = temp_dict\n",
    "    \n",
    "text_dict = {x:y for x, y in zip(models_df.Classifier, models_df.STEMMED)}\n"
   ]
  },
  {
   "cell_type": "code",
   "execution_count": null,
   "metadata": {},
   "outputs": [],
   "source": [
    "scoring = ['accuracy', 'f1_weighted', 'precision_weighted','recall_weighted']\n",
    "for name, pipe in models_dict.items():\n",
    "    print(\"Bezig: %s\" %name)\n",
    "    text = df.stemmed_text if text_dict[name] else df.normal_text\n",
    "        \n",
    "    gs = GridSearchCVProgressBar(pipe, params_dict[name], cv=5, scoring=scoring, refit = False, return_train_score = False, n_jobs=-1)\n",
    "    gs.fit(text, df.party)\n",
    "    rows = pd.DataFrame(gs.cv_results_)\n",
    "    # https://stackoverflow.com/questions/38231591/splitting-dictionary-list-inside-a-pandas-column-into-separate-columns\n",
    "    rows = pd.concat([rows.drop(['params'], axis=1), rows['params'].apply(pd.Series)], axis=1)\n",
    "    rows[\"name\"] = name \n",
    "    rows[\"stemmed\"] = text_dict[name]\n",
    "    pd.concat([rows, pd.read_excel('Scores.xlsx', index_col=0)], ignore_index=True).sort_values(['mean_test_f1_weighted'], ascending=False).to_excel('Scores.xlsx')\n",
    "    df4 = pd.read_excel('Models.xlsx', index_col=0)\n",
    "    df4.loc[df4.Classifier == name, \"DOEN\"] = False\n",
    "    df4.to_excel('Models.xlsx')\n",
    "    print(\"Voltooid: %s\" %name)\n",
    "    \n",
    "# https://stackoverflow.com/questions/46735847/save-best-params-in-gridsearch-in-a-pandas-dataframe\n",
    "# https://stackoverflow.com/questions/36271413/pandas-merge-nearly-duplicate-rows-based-on-column-value?rq=1"
   ]
  },
  {
   "cell_type": "markdown",
   "metadata": {},
   "source": [
    "# Best Score"
   ]
  },
  {
   "cell_type": "code",
   "execution_count": 11,
   "metadata": {},
   "outputs": [],
   "source": [
    "#source: http://scikit-learn.org/stable/auto_examples/model_selection/plot_confusion_matrix.html#sphx-glr-auto-examples-model-selection-plot-confusion-matrix-py\n",
    "def plot_confusion_matrix(cm, classes,\n",
    "                          normalize=False,\n",
    "                          title='Confusion matrix',\n",
    "                          cmap=plt.cm.Blues):\n",
    "    \"\"\"\n",
    "    This function prints and plots the confusion matrix.\n",
    "    Normalization can be applied by setting `normalize=True`.\n",
    "    \"\"\"\n",
    "    if normalize:\n",
    "        cm = cm.astype('float') / cm.sum(axis=1)[:, np.newaxis]\n",
    "\n",
    "    plt.imshow(cm, interpolation='nearest', cmap=cmap)\n",
    "    tick_marks = np.arange(len(classes))\n",
    "    plt.xticks(tick_marks, classes, rotation=45)\n",
    "    plt.yticks(tick_marks, classes)\n",
    "\n",
    "    fmt = '.2f' if normalize else 'd'\n",
    "    thresh = cm.max() / 2.\n",
    "    for i, j in product(range(cm.shape[0]), range(cm.shape[1])):\n",
    "        plt.text(j, i, format(cm[i, j], fmt),\n",
    "                 horizontalalignment=\"center\",\n",
    "                 color=\"white\" if cm[i, j] > thresh else \"black\")\n",
    "    plt.ylabel('Echte klasse')\n",
    "    plt.xlabel('Voorspelde klasse')"
   ]
  },
  {
   "cell_type": "code",
   "execution_count": 12,
   "metadata": {},
   "outputs": [],
   "source": [
    "# https://stackoverflow.com/questions/39662398/scikit-learn-output-metrics-classification-report-into-csv-tab-delimited-format\n",
    "def classification_report_csv(real,predicted):\n",
    "    report = classification_report(real, predicted)\n",
    "    report_data = []\n",
    "    lines = report.split('\\n')\n",
    "    for line in lines[0:-1]:\n",
    "        row = {}\n",
    "        row_data = line.split('      ')\n",
    "        if len(row_data)<5:\n",
    "            continue\n",
    "        row['Partij'] = row_data[-5].replace(\" \",\"\")\n",
    "        row['Precision'] = float(row_data[-4])\n",
    "        row['Recall'] = float(row_data[-3])\n",
    "        row['$F_1$ score'] = float(row_data[-2])\n",
    "        if row['Partij']!='avg/total':\n",
    "            row['Accuracy'] = np.nan\n",
    "        else:\n",
    "            row['Accuracy'] = accuracy_score(real, predicted)\n",
    "        row['Documenten'] = int(row_data[-1])\n",
    "        report_data.append(row)\n",
    "    df = pd.DataFrame.from_dict(report_data)\n",
    "    df = df.reindex([\"Partij\",\"Precision\",\"Recall\",'$F_1$ score',\"Accuracy\",\"Documenten\"], axis=1).set_index('Partij')\n",
    "    as_list = df.index.tolist()\n",
    "    idx = as_list.index('avg/total')\n",
    "    as_list[idx] = 'Totaal'\n",
    "    df.index = as_list\n",
    "    return df"
   ]
  },
  {
   "cell_type": "code",
   "execution_count": 13,
   "metadata": {},
   "outputs": [],
   "source": [
    "# Select the classifier and parameters with highest score\n",
    "def getbestpipe(file):\n",
    "    scores = pd.read_excel(file, index_col=0).sort_values(['mean_test_f1_weighted'], ascending=False).head(1)\n",
    "    scores = scores.dropna(axis=1).reset_index(drop=True)\n",
    "    scores.vect__ngram_range[0] = literal_eval(scores.vect__ngram_range[0])\n",
    "    models_df, models_dict = modelsdownload('Models.xlsx',False)\n",
    "    text_dict = {x:y for x, y in zip(models_df.Classifier, models_df.STEMMED)}\n",
    "    pipe = models_dict[scores.name[0]]\n",
    "    params = scores.drop([col for col in scores.columns if \"__\" not in col or \"param\" in col], axis=1).to_dict(orient='records')[0]\n",
    "    params['vect__min_df'] = int(params['vect__min_df'])\n",
    "    pipe.set_params(**params)\n",
    "    stem = text_dict[scores.name[0]]\n",
    "    return pipe, stem"
   ]
  },
  {
   "cell_type": "code",
   "execution_count": 14,
   "metadata": {},
   "outputs": [],
   "source": [
    "def traintest3(pipe, text, data, save=False):\n",
    "    train, test = train_test_split(data, test_size=0.2)\n",
    "    pipe.fit(train[text], train.party)\n",
    "    predicted = pipe.predict(test[text])\n",
    "    report = classification_report_csv(test.party, predicted)\n",
    "    accuracy = accuracy_score(test.party, predicted)\n",
    "    cnf_matrix = confusion_matrix(test.party, predicted)\n",
    "    indices = np.where(test.party != predicted)\n",
    "    indices = test.iloc[indices].index.values\n",
    "    return [pipe, cnf_matrix, report, accuracy, indices]\n",
    "    \n",
    "\n",
    "def traintest(file, data, save=False, params=None, stemmed=\"stemmed_text\",normal=\"normal_text\"):\n",
    "    n=5\n",
    "    base_pipe, stem = getbestpipe(file)\n",
    "    if params!=None:\n",
    "        base_pipe.set_params(**params)\n",
    "    text = stemmed if stem else normal\n",
    "    pipelist, cnflist, reportlist, accuracylist, indiceslist = zip(*[traintest3(base_pipe, text, data, save=False) for x in tqdm(range(n))])\n",
    "    accuracy = np.mean(accuracylist)\n",
    "    cnf_matrix = np.mean(cnflist, axis=0)\n",
    "    #https://stackoverflow.com/questions/45983321/sum-a-list-of-pandas-dataframes?rq=1\n",
    "    report = reduce(lambda x, y: x.add(y, fill_value=0), reportlist) /n \n",
    "    report=report.round(2).fillna('-')\n",
    "    report.Documenten = report.Documenten.round(0).astype(int)\n",
    "    print(report)\n",
    "    plt.figure(figsize=(10, 10))\n",
    "    plot_confusion_matrix(cnf_matrix.astype(int), \\\n",
    "                      classes=sorted(list(data.party.unique())), \\\n",
    "                      title='Confusion matrix best estimator')\n",
    "    if save:\n",
    "        plt.savefig(\"Verslag/Tables/%s.png\" %save)\n",
    "        with open(\"Verslag/Tables/%s.tex\" %save, \"w\") as f:\n",
    "            f.write(report.to_latex())\n",
    "\n",
    "    plt.show()\n",
    "    return pipelist[0], indiceslist"
   ]
  },
  {
   "cell_type": "code",
   "execution_count": 15,
   "metadata": {},
   "outputs": [],
   "source": [
    "def mostimportantwords(pipe, countdf, filename=None):\n",
    "    vocab = pipe.named_steps['vect'].vocabulary_\n",
    "    inv_vocab = {v: k for k, v in vocab.items()}\n",
    "    coefs = pipe.named_steps[[x for x in pipe.named_steps.keys() if not x=='vect'][0]].coef_\n",
    "    top_words = [[inv_vocab[t] for t in coefs[i].argsort()[-100:][::-1]] for i in range(coefs.shape[0])]\n",
    "    top_words = pd.DataFrame(top_words).T\n",
    "    top_words.columns = countdf.index\n",
    "    if filename!=None:\n",
    "        with open(\"Verslag/Tables/%s1.tex\" %filename, \"w\", encoding='utf-8') as f:\n",
    "            f.write(top_words.iloc[:,:5].head(10).to_latex(index=False))\n",
    "        with open(\"Verslag/Tables/%s2.tex\" %filename, \"w\", encoding='utf-8') as f:\n",
    "            f.write(top_words.iloc[:,5:].head(10).to_latex(index=False))\n",
    "        top_words.to_excel(\"%s.xlsx\" %filename)\n",
    "        \n",
    "    return top_words.head(10)"
   ]
  },
  {
   "cell_type": "code",
   "execution_count": 16,
   "metadata": {},
   "outputs": [
    {
     "name": "stderr",
     "output_type": "stream",
     "text": [
      "100%|███████████████████████████████████████████████████████████████████████████████████| 5/5 [19:31<00:00, 234.39s/it]\n"
     ]
    },
    {
     "name": "stdout",
     "output_type": "stream",
     "text": [
      "              Precision  Recall  F1_score Accuracy  Documenten\n",
      "50PLUS             0.98    0.87      0.92        -          77\n",
      "CDA                0.80    0.80      0.80        -         373\n",
      "ChristenUnie       0.88    0.78      0.83        -         214\n",
      "D66                0.76    0.77      0.77        -         374\n",
      "GroenLinks         0.91    0.71      0.80        -         218\n",
      "PVV                0.84    0.89      0.86        -         349\n",
      "PvdA               0.71    0.71      0.71        -         356\n",
      "PvdD               0.90    0.87      0.88        -          84\n",
      "SGP                0.85    0.87      0.86        -         132\n",
      "SP                 0.77    0.85      0.81        -         472\n",
      "VVD                0.75    0.75      0.75        -         330\n",
      "Totaal             0.80    0.80      0.80      0.8        2980\n"
     ]
    },
    {
     "data": {
      "image/png": "[encoded data removed]",
      "text/plain": [
       "<Figure size 720x720 with 1 Axes>"
      ]
     },
     "metadata": {},
     "output_type": "display_data"
    },
    {
     "data": {
      "text/html": [
       "<div>\n",
       "<style scoped>\n",
       "    .dataframe tbody tr th:only-of-type {\n",
       "        vertical-align: middle;\n",
       "    }\n",
       "\n",
       "    .dataframe tbody tr th {\n",
       "        vertical-align: top;\n",
       "    }\n",
       "\n",
       "    .dataframe thead th {\n",
       "        text-align: right;\n",
       "    }\n",
       "</style>\n",
       "<table border=\"1\" class=\"dataframe\">\n",
       "  <thead>\n",
       "    <tr style=\"text-align: right;\">\n",
       "      <th></th>\n",
       "      <th>50PLUS</th>\n",
       "      <th>CDA</th>\n",
       "      <th>ChristenUnie</th>\n",
       "      <th>D66</th>\n",
       "      <th>GroenLinks</th>\n",
       "      <th>PVV</th>\n",
       "      <th>PvdA</th>\n",
       "      <th>PvdD</th>\n",
       "      <th>SGP</th>\n",
       "      <th>SP</th>\n",
       "      <th>VVD</th>\n",
       "    </tr>\n",
       "  </thead>\n",
       "  <tbody>\n",
       "    <tr>\n",
       "      <th>0</th>\n",
       "      <td>50plus</td>\n",
       "      <td>cda</td>\n",
       "      <td>de christenunie</td>\n",
       "      <td>d66</td>\n",
       "      <td>groenlinks</td>\n",
       "      <td>pvv</td>\n",
       "      <td>de pvda</td>\n",
       "      <td>het lid ouwehand</td>\n",
       "      <td>sgp</td>\n",
       "      <td>sp</td>\n",
       "      <td>de vvd</td>\n",
       "    </tr>\n",
       "    <tr>\n",
       "      <th>1</th>\n",
       "      <td>lid krol naar</td>\n",
       "      <td>het cda</td>\n",
       "      <td>christenunie</td>\n",
       "      <td>mijn fractie</td>\n",
       "      <td>lid van tongeren</td>\n",
       "      <td>de pvv</td>\n",
       "      <td>pvda</td>\n",
       "      <td>lid ouwehand naar</td>\n",
       "      <td>de sgp</td>\n",
       "      <td>de sp</td>\n",
       "      <td>vvd</td>\n",
       "    </tr>\n",
       "    <tr>\n",
       "      <th>2</th>\n",
       "      <td>het lid krol</td>\n",
       "      <td>de cda</td>\n",
       "      <td>het lid dik</td>\n",
       "      <td>leden van veldhoven</td>\n",
       "      <td>tongeren</td>\n",
       "      <td>klever</td>\n",
       "      <td>van de arbeid</td>\n",
       "      <td>lid ouwehand</td>\n",
       "      <td>de leden dijkgraaf</td>\n",
       "      <td>sp fractie</td>\n",
       "      <td>de vvd fractie</td>\n",
       "    </tr>\n",
       "    <tr>\n",
       "      <th>3</th>\n",
       "      <td>lid krol</td>\n",
       "      <td>cda fractie</td>\n",
       "      <td>lid dik faber</td>\n",
       "      <td>veldhoven</td>\n",
       "      <td>van tongeren</td>\n",
       "      <td>nederland</td>\n",
       "      <td>de arbeid</td>\n",
       "      <td>ouwehand</td>\n",
       "      <td>leden dijkgraaf</td>\n",
       "      <td>de sp fractie</td>\n",
       "      <td>vvd fractie</td>\n",
       "    </tr>\n",
       "    <tr>\n",
       "      <th>4</th>\n",
       "      <td>krol naar mij</td>\n",
       "      <td>de cda fractie</td>\n",
       "      <td>lid dik</td>\n",
       "      <td>van veldhoven</td>\n",
       "      <td>lid voortman naar</td>\n",
       "      <td>miljard</td>\n",
       "      <td>de partij van</td>\n",
       "      <td>ouwehand naar mij</td>\n",
       "      <td>leden van der</td>\n",
       "      <td>lid van gerven</td>\n",
       "      <td>de vvd is</td>\n",
       "    </tr>\n",
       "    <tr>\n",
       "      <th>5</th>\n",
       "      <td>krol naar</td>\n",
       "      <td>het lid omtzigt</td>\n",
       "      <td>leden voordewind</td>\n",
       "      <td>lid van veldhoven</td>\n",
       "      <td>lid voortman</td>\n",
       "      <td>madlener naar mij</td>\n",
       "      <td>partij van de</td>\n",
       "      <td>ouwehand naar</td>\n",
       "      <td>sgp fractie</td>\n",
       "      <td>smaling</td>\n",
       "      <td>vvd is</td>\n",
       "    </tr>\n",
       "    <tr>\n",
       "      <th>6</th>\n",
       "      <td>krol</td>\n",
       "      <td>lid omtzigt</td>\n",
       "      <td>de leden voordewind</td>\n",
       "      <td>lid van meenen</td>\n",
       "      <td>het lid voortman</td>\n",
       "      <td>madlener naar</td>\n",
       "      <td>partij van</td>\n",
       "      <td>dieren</td>\n",
       "      <td>de sgp fractie</td>\n",
       "      <td>gerven</td>\n",
       "      <td>voor de vvd</td>\n",
       "    </tr>\n",
       "    <tr>\n",
       "      <th>7</th>\n",
       "      <td>van 50plus</td>\n",
       "      <td>lid omtzigt naar</td>\n",
       "      <td>dik faber</td>\n",
       "      <td>d66 is</td>\n",
       "      <td>leden van tongeren</td>\n",
       "      <td>graaf</td>\n",
       "      <td>arbeid</td>\n",
       "      <td>thieme</td>\n",
       "      <td>mevrouw de voorzitter</td>\n",
       "      <td>van gerven</td>\n",
       "      <td>wat de vvd</td>\n",
       "    </tr>\n",
       "    <tr>\n",
       "      <th>8</th>\n",
       "      <td>gepensioneerden</td>\n",
       "      <td>omtzigt naar mij</td>\n",
       "      <td>faber</td>\n",
       "      <td>d66 wil</td>\n",
       "      <td>voortman</td>\n",
       "      <td>het lid madlener</td>\n",
       "      <td>pvda fractie</td>\n",
       "      <td>voor de dieren</td>\n",
       "      <td>mevrouw de</td>\n",
       "      <td>lid smaling</td>\n",
       "      <td>vvd betreft</td>\n",
       "    </tr>\n",
       "    <tr>\n",
       "      <th>9</th>\n",
       "      <td>ouderen</td>\n",
       "      <td>omtzigt naar</td>\n",
       "      <td>dik</td>\n",
       "      <td>de leden bergkamp</td>\n",
       "      <td>tongeren naar mij</td>\n",
       "      <td>lid madlener</td>\n",
       "      <td>de pvda fractie</td>\n",
       "      <td>de dieren</td>\n",
       "      <td>dijkgraaf</td>\n",
       "      <td>het lid smaling</td>\n",
       "      <td>de vvd betreft</td>\n",
       "    </tr>\n",
       "  </tbody>\n",
       "</table>\n",
       "</div>"
      ],
      "text/plain": [
       "            50PLUS               CDA         ChristenUnie  \\\n",
       "0           50plus               cda      de christenunie   \n",
       "1    lid krol naar           het cda         christenunie   \n",
       "2     het lid krol            de cda          het lid dik   \n",
       "3         lid krol       cda fractie        lid dik faber   \n",
       "4    krol naar mij    de cda fractie              lid dik   \n",
       "5        krol naar   het lid omtzigt     leden voordewind   \n",
       "6             krol       lid omtzigt  de leden voordewind   \n",
       "7       van 50plus  lid omtzigt naar            dik faber   \n",
       "8  gepensioneerden  omtzigt naar mij                faber   \n",
       "9          ouderen      omtzigt naar                  dik   \n",
       "\n",
       "                   D66          GroenLinks                PVV  \\\n",
       "0                  d66          groenlinks                pvv   \n",
       "1         mijn fractie    lid van tongeren             de pvv   \n",
       "2  leden van veldhoven            tongeren             klever   \n",
       "3            veldhoven        van tongeren          nederland   \n",
       "4        van veldhoven   lid voortman naar            miljard   \n",
       "5    lid van veldhoven        lid voortman  madlener naar mij   \n",
       "6       lid van meenen    het lid voortman      madlener naar   \n",
       "7               d66 is  leden van tongeren              graaf   \n",
       "8              d66 wil            voortman   het lid madlener   \n",
       "9    de leden bergkamp   tongeren naar mij       lid madlener   \n",
       "\n",
       "              PvdA               PvdD                    SGP               SP  \\\n",
       "0          de pvda   het lid ouwehand                    sgp               sp   \n",
       "1             pvda  lid ouwehand naar                 de sgp            de sp   \n",
       "2    van de arbeid       lid ouwehand     de leden dijkgraaf       sp fractie   \n",
       "3        de arbeid           ouwehand        leden dijkgraaf    de sp fractie   \n",
       "4    de partij van  ouwehand naar mij          leden van der   lid van gerven   \n",
       "5    partij van de      ouwehand naar            sgp fractie          smaling   \n",
       "6       partij van             dieren         de sgp fractie           gerven   \n",
       "7           arbeid             thieme  mevrouw de voorzitter       van gerven   \n",
       "8     pvda fractie     voor de dieren             mevrouw de      lid smaling   \n",
       "9  de pvda fractie          de dieren              dijkgraaf  het lid smaling   \n",
       "\n",
       "              VVD  \n",
       "0          de vvd  \n",
       "1             vvd  \n",
       "2  de vvd fractie  \n",
       "3     vvd fractie  \n",
       "4       de vvd is  \n",
       "5          vvd is  \n",
       "6     voor de vvd  \n",
       "7      wat de vvd  \n",
       "8     vvd betreft  \n",
       "9  de vvd betreft  "
      ]
     },
     "execution_count": 16,
     "metadata": {},
     "output_type": "execute_result"
    }
   ],
   "source": [
    "pipe, indiceslist = traintest('Scores.xlsx', df ,save=\"confusionmatrix\",params= {'SGD__max_iter':100})\n",
    "mostimportantwords(pipe, countdf, filename='MostImportantWords')"
   ]
  },
  {
   "cell_type": "markdown",
   "metadata": {},
   "source": [
    "# What went wrong"
   ]
  },
  {
   "cell_type": "code",
   "execution_count": 17,
   "metadata": {},
   "outputs": [
    {
     "name": "stderr",
     "output_type": "stream",
     "text": [
      "c:\\users\\m6800\\appdata\\local\\programs\\python\\python36\\lib\\site-packages\\matplotlib\\axes\\_axes.py:6462: UserWarning: The 'normed' kwarg is deprecated, and has been replaced by the 'density' kwarg.\n",
      "  warnings.warn(\"The 'normed' kwarg is deprecated, and has been \"\n"
     ]
    },
    {
     "data": {
      "image/png": "[encoded data removed]",
      "text/plain": [
       "<Figure size 432x288 with 1 Axes>"
      ]
     },
     "metadata": {},
     "output_type": "display_data"
    }
   ],
   "source": [
    "missclassdocs = df.loc[chain.from_iterable(indiceslist)]\n",
    "np.mean([len(doc) for doc in missclassdocs.stemmed_text.apply(lambda x: x.split(\" \"))])\n",
    "np.median([len(doc) for doc in missclassdocs.stemmed_text.apply(lambda x: x.split(\" \"))])\n",
    "fig, ax = plt.subplots()\n",
    "for a,l in [(missclassdocs.stemmed_text.apply(lambda x:len(x.split(\" \"))),'Verkeerd geclassificeerde documenten'), ((df.stemmed_text.apply(lambda x:len(x.split(\" \")))),'Alle documenten')]:\n",
    "    sns.distplot(a, kde=False, norm_hist=True, label=l, axlabel='Woorden per document')\n",
    "plt.legend()\n",
    "plt.savefig(\"Verslag/Tables/misclassifiedlengths.png\")\n",
    "plt.show()"
   ]
  },
  {
   "cell_type": "code",
   "execution_count": 18,
   "metadata": {},
   "outputs": [
    {
     "name": "stdout",
     "output_type": "stream",
     "text": [
      "0.045640647023290154\n",
      "0.07043189368770764\n"
     ]
    }
   ],
   "source": [
    "print(len(df[df['titel'].str.contains(\"Vragen van het lid\")])/len(df))\n",
    "print(len(missclassdocs[missclassdocs['titel'].str.contains(\"Vragen van het lid\")])/len(missclassdocs))"
   ]
  },
  {
   "cell_type": "markdown",
   "metadata": {},
   "source": [
    "# Without Names"
   ]
  },
  {
   "cell_type": "code",
   "execution_count": 19,
   "metadata": {},
   "outputs": [],
   "source": [
    "Party_synomyns = [\"Partij van de Arbeid\",\"Socialistische Partij\",\"Partij voor de Dieren\",\"Volkspartij voor Vrijheid en Democratie\",\"Partij voor de Vrijheid\"]\n",
    "partijnamen = list(df.party.unique()) + Party_synomyns\n",
    "partijnamen += [\"[Hh]et \"+ x for x in partijnamen] + [\"[Dd]e \"+ x for x in partijnamen]\n",
    "partijnamen = re.compile('|'.join(partijnamen))\n",
    "kamerlidnamen = re.compile('|'.join(df.surname.unique()) + \"|Dijkstra|Van Dijk|Van Nieuwenhuizen|Baay|Berndsen|Jansen|Günal|Schut|Nijkerken|Buma|Venrooy|Mulder|De Vries|Berckmoes|Van Dijck|Pia\")\n",
    "temp = df.text.apply(lambda x: re.sub(kamerlidnamen,\"xxxxx\",re.sub(partijnamen,\"yyyyy\",x)).lower())\n",
    "df['stemmed_withoutnames'] = temp.apply(lambda x: ' '.join([stemmer.stem(t).replace(\"xxxxx\",'KAMERLID').replace(\"yyyyy\", 'PARTIJ') for t in tokenizer.tokenize(x)]))\n",
    "df['normal_withoutnames'] = temp.apply(lambda x: ' '.join([t.replace(\"xxxxx\",'KAMERLID').replace(\"yyyyy\", 'PARTIJ') for t in tokenizer.tokenize(x)]))\n",
    "del temp"
   ]
  },
  {
   "cell_type": "code",
   "execution_count": 20,
   "metadata": {},
   "outputs": [
    {
     "name": "stderr",
     "output_type": "stream",
     "text": [
      "100%|███████████████████████████████████████████████████████████████████████████████████| 5/5 [19:20<00:00, 232.10s/it]\n"
     ]
    },
    {
     "name": "stdout",
     "output_type": "stream",
     "text": [
      "              Precision  Recall  F1_score Accuracy  Documenten\n",
      "50PLUS             0.84    0.49      0.62        -          74\n",
      "CDA                0.54    0.52      0.53        -         377\n",
      "ChristenUnie       0.64    0.48      0.55        -         217\n",
      "D66                0.54    0.54      0.54        -         378\n",
      "GroenLinks         0.69    0.41      0.51        -         214\n",
      "PVV                0.61    0.79      0.69        -         338\n",
      "PvdA               0.52    0.48      0.50        -         371\n",
      "PvdD               0.71    0.70      0.71        -          83\n",
      "SGP                0.75    0.72      0.73        -         129\n",
      "SP                 0.53    0.69      0.60        -         456\n",
      "VVD                0.55    0.51      0.52        -         342\n",
      "Totaal             0.58    0.57      0.57     0.57        2980\n"
     ]
    },
    {
     "data": {
      "image/png": "[encoded data removed]",
      "text/plain": [
       "<Figure size 720x720 with 1 Axes>"
      ]
     },
     "metadata": {},
     "output_type": "display_data"
    },
    {
     "data": {
      "text/html": [
       "<div>\n",
       "<style scoped>\n",
       "    .dataframe tbody tr th:only-of-type {\n",
       "        vertical-align: middle;\n",
       "    }\n",
       "\n",
       "    .dataframe tbody tr th {\n",
       "        vertical-align: top;\n",
       "    }\n",
       "\n",
       "    .dataframe thead th {\n",
       "        text-align: right;\n",
       "    }\n",
       "</style>\n",
       "<table border=\"1\" class=\"dataframe\">\n",
       "  <thead>\n",
       "    <tr style=\"text-align: right;\">\n",
       "      <th></th>\n",
       "      <th>50PLUS</th>\n",
       "      <th>CDA</th>\n",
       "      <th>ChristenUnie</th>\n",
       "      <th>D66</th>\n",
       "      <th>GroenLinks</th>\n",
       "      <th>PVV</th>\n",
       "      <th>PvdA</th>\n",
       "      <th>PvdD</th>\n",
       "      <th>SGP</th>\n",
       "      <th>SP</th>\n",
       "      <th>VVD</th>\n",
       "    </tr>\n",
       "  </thead>\n",
       "  <tbody>\n",
       "    <tr>\n",
       "      <th>0</th>\n",
       "      <td>gepensioneerden</td>\n",
       "      <td>PARTIJ fractie</td>\n",
       "      <td>gezinnen</td>\n",
       "      <td>mijn fractie</td>\n",
       "      <td>zou</td>\n",
       "      <td>islamitische</td>\n",
       "      <td>en</td>\n",
       "      <td>dieren</td>\n",
       "      <td>mevrouw de voorzitter</td>\n",
       "      <td>mening dat</td>\n",
       "      <td>PARTIJ</td>\n",
       "    </tr>\n",
       "    <tr>\n",
       "      <th>1</th>\n",
       "      <td>ouderen</td>\n",
       "      <td>inwoners</td>\n",
       "      <td>mensenhandel</td>\n",
       "      <td>mijn</td>\n",
       "      <td>kamer hierover te</td>\n",
       "      <td>nederland</td>\n",
       "      <td>daarbij</td>\n",
       "      <td>dierproeven</td>\n",
       "      <td>mevrouw de</td>\n",
       "      <td>zegt</td>\n",
       "      <td>volgens mij</td>\n",
       "    </tr>\n",
       "    <tr>\n",
       "      <th>2</th>\n",
       "      <td>plussers</td>\n",
       "      <td>regering</td>\n",
       "      <td>vluchtelingen</td>\n",
       "      <td>natuurlijk</td>\n",
       "      <td>in elk geval</td>\n",
       "      <td>miljard</td>\n",
       "      <td>kinderen</td>\n",
       "      <td>constaterende</td>\n",
       "      <td>beantwoording</td>\n",
       "      <td>van mening dat</td>\n",
       "      <td>PARTIJ fractie</td>\n",
       "    </tr>\n",
       "    <tr>\n",
       "      <th>3</th>\n",
       "      <td>werkenden</td>\n",
       "      <td>PARTIJ</td>\n",
       "      <td>ik hoop</td>\n",
       "      <td>belangrijk</td>\n",
       "      <td>elk geval</td>\n",
       "      <td>brussel</td>\n",
       "      <td>circulaire economie</td>\n",
       "      <td>constaterende dat</td>\n",
       "      <td>bewindslieden</td>\n",
       "      <td>mensen</td>\n",
       "      <td>PARTIJ is</td>\n",
       "    </tr>\n",
       "    <tr>\n",
       "      <th>4</th>\n",
       "      <td>koopkrachtontwikkeling</td>\n",
       "      <td>de regering</td>\n",
       "      <td>zullen</td>\n",
       "      <td>fractie</td>\n",
       "      <td>persoonsgebonden</td>\n",
       "      <td>al</td>\n",
       "      <td>toezeggingen</td>\n",
       "      <td>natuur</td>\n",
       "      <td>de beantwoording</td>\n",
       "      <td>huurders</td>\n",
       "      <td>aangegeven</td>\n",
       "    </tr>\n",
       "    <tr>\n",
       "      <th>5</th>\n",
       "      <td>50 plussers</td>\n",
       "      <td>echt</td>\n",
       "      <td>de eurozone</td>\n",
       "      <td>het kabinet</td>\n",
       "      <td>in elk</td>\n",
       "      <td>natuurlijk</td>\n",
       "      <td>jongeren</td>\n",
       "      <td>dierenwelzijn</td>\n",
       "      <td>voor de beantwoording</td>\n",
       "      <td>van mening</td>\n",
       "      <td>ondernemers</td>\n",
       "    </tr>\n",
       "    <tr>\n",
       "      <th>6</th>\n",
       "      <td>50</td>\n",
       "      <td>zorginstellingen</td>\n",
       "      <td>eurozone</td>\n",
       "      <td>buitengewoon</td>\n",
       "      <td>schone energie</td>\n",
       "      <td>islam</td>\n",
       "      <td>circulaire</td>\n",
       "      <td>burgers</td>\n",
       "      <td>punt</td>\n",
       "      <td>mening</td>\n",
       "      <td>speelveld</td>\n",
       "    </tr>\n",
       "    <tr>\n",
       "      <th>7</th>\n",
       "      <td>oudere</td>\n",
       "      <td>fractie</td>\n",
       "      <td>inderdaad</td>\n",
       "      <td>kabinet</td>\n",
       "      <td>hierover te</td>\n",
       "      <td>de islam</td>\n",
       "      <td>beter</td>\n",
       "      <td>milieu</td>\n",
       "      <td>zou</td>\n",
       "      <td>bestuurders</td>\n",
       "      <td>termijn</td>\n",
       "    </tr>\n",
       "    <tr>\n",
       "      <th>8</th>\n",
       "      <td>voor gepensioneerden</td>\n",
       "      <td>hier</td>\n",
       "      <td>dementie</td>\n",
       "      <td>vandaag</td>\n",
       "      <td>hierover te informeren</td>\n",
       "      <td>dit kabinet</td>\n",
       "      <td>de regering tevens</td>\n",
       "      <td>aarde</td>\n",
       "      <td>wel</td>\n",
       "      <td>de bevolking</td>\n",
       "      <td>regelgeving</td>\n",
       "    </tr>\n",
       "    <tr>\n",
       "      <th>9</th>\n",
       "      <td>overwegende dat</td>\n",
       "      <td>zeer</td>\n",
       "      <td>christenen</td>\n",
       "      <td>minister</td>\n",
       "      <td>vluchtelingen</td>\n",
       "      <td>asielzoekers</td>\n",
       "      <td>tevens</td>\n",
       "      <td>de aarde</td>\n",
       "      <td>je</td>\n",
       "      <td>armoede</td>\n",
       "      <td>evaluatie</td>\n",
       "    </tr>\n",
       "  </tbody>\n",
       "</table>\n",
       "</div>"
      ],
      "text/plain": [
       "                   50PLUS               CDA   ChristenUnie           D66  \\\n",
       "0         gepensioneerden    PARTIJ fractie       gezinnen  mijn fractie   \n",
       "1                 ouderen          inwoners   mensenhandel          mijn   \n",
       "2                plussers          regering  vluchtelingen    natuurlijk   \n",
       "3               werkenden            PARTIJ        ik hoop    belangrijk   \n",
       "4  koopkrachtontwikkeling       de regering         zullen       fractie   \n",
       "5             50 plussers              echt    de eurozone   het kabinet   \n",
       "6                      50  zorginstellingen       eurozone  buitengewoon   \n",
       "7                  oudere           fractie      inderdaad       kabinet   \n",
       "8    voor gepensioneerden              hier       dementie       vandaag   \n",
       "9         overwegende dat              zeer     christenen      minister   \n",
       "\n",
       "               GroenLinks           PVV                 PvdA  \\\n",
       "0                     zou  islamitische                   en   \n",
       "1       kamer hierover te     nederland              daarbij   \n",
       "2            in elk geval       miljard             kinderen   \n",
       "3               elk geval       brussel  circulaire economie   \n",
       "4        persoonsgebonden            al         toezeggingen   \n",
       "5                  in elk    natuurlijk             jongeren   \n",
       "6          schone energie         islam           circulaire   \n",
       "7             hierover te      de islam                beter   \n",
       "8  hierover te informeren   dit kabinet   de regering tevens   \n",
       "9           vluchtelingen  asielzoekers               tevens   \n",
       "\n",
       "                PvdD                    SGP              SP             VVD  \n",
       "0             dieren  mevrouw de voorzitter      mening dat          PARTIJ  \n",
       "1        dierproeven             mevrouw de            zegt     volgens mij  \n",
       "2      constaterende          beantwoording  van mening dat  PARTIJ fractie  \n",
       "3  constaterende dat          bewindslieden          mensen       PARTIJ is  \n",
       "4             natuur       de beantwoording        huurders      aangegeven  \n",
       "5      dierenwelzijn  voor de beantwoording      van mening     ondernemers  \n",
       "6            burgers                   punt          mening       speelveld  \n",
       "7             milieu                    zou     bestuurders         termijn  \n",
       "8              aarde                    wel    de bevolking     regelgeving  \n",
       "9           de aarde                     je         armoede       evaluatie  "
      ]
     },
     "execution_count": 20,
     "metadata": {},
     "output_type": "execute_result"
    }
   ],
   "source": [
    "pipe, indiceslist = traintest('Scores.xlsx', df, save=\"withoutnames\",params= {'SGD__max_iter':100}, stemmed='stemmed_withoutnames', normal='normal_withoutnames')\n",
    "mostimportantwords(pipe, countdf, filename='MostImportantWordsWithoutNames')"
   ]
  },
  {
   "cell_type": "markdown",
   "metadata": {},
   "source": [
    "# Only Names"
   ]
  },
  {
   "cell_type": "code",
   "execution_count": 21,
   "metadata": {},
   "outputs": [
    {
     "data": {
      "text/html": [
       "<div>\n",
       "<style scoped>\n",
       "    .dataframe tbody tr th:only-of-type {\n",
       "        vertical-align: middle;\n",
       "    }\n",
       "\n",
       "    .dataframe tbody tr th {\n",
       "        vertical-align: top;\n",
       "    }\n",
       "\n",
       "    .dataframe thead th {\n",
       "        text-align: right;\n",
       "    }\n",
       "</style>\n",
       "<table border=\"1\" class=\"dataframe\">\n",
       "  <thead>\n",
       "    <tr style=\"text-align: right;\">\n",
       "      <th></th>\n",
       "      <th>surname</th>\n",
       "      <th>party</th>\n",
       "      <th>text</th>\n",
       "      <th>file</th>\n",
       "      <th>speech category</th>\n",
       "      <th>date</th>\n",
       "      <th>tags</th>\n",
       "      <th>titel</th>\n",
       "      <th>stemmed_text</th>\n",
       "      <th>normal_text</th>\n",
       "      <th>stemmed_withoutnames</th>\n",
       "      <th>normal_withoutnames</th>\n",
       "      <th>names</th>\n",
       "    </tr>\n",
       "  </thead>\n",
       "  <tbody>\n",
       "    <tr>\n",
       "      <th>175881</th>\n",
       "      <td>Wilders</td>\n",
       "      <td>PVV</td>\n",
       "      <td>\\r\\n           \\r\\n             Mevrouw de voo...</td>\n",
       "      <td>h-tk-20122013-100-3.xml</td>\n",
       "      <td>Main Speech</td>\n",
       "      <td>2013-06-26</td>\n",
       "      <td>['Bestuur | Parlement', 'Financiën | Begroting']</td>\n",
       "      <td>Aanbevelingen Europese Commissie extra bezuini...</td>\n",
       "      <td>mevrouw de voorzitter dit kabinet heeft ons mo...</td>\n",
       "      <td>mevrouw de voorzitter dit kabinet heeft ons mo...</td>\n",
       "      <td>mevrouw de voorzitter dit kabinet heeft ons mo...</td>\n",
       "      <td>mevrouw de voorzitter dit kabinet heeft ons mo...</td>\n",
       "      <td>devvd depvda vvd depvv rutte rutte rutte samso...</td>\n",
       "    </tr>\n",
       "    <tr>\n",
       "      <th>175882</th>\n",
       "      <td>Roemer</td>\n",
       "      <td>SP</td>\n",
       "      <td>\\r\\n           \\r\\n             Voorzitter. Vo...</td>\n",
       "      <td>h-tk-20122013-100-3.xml</td>\n",
       "      <td>Main Speech</td>\n",
       "      <td>2013-06-26</td>\n",
       "      <td>['Bestuur | Parlement', 'Financiën | Begroting']</td>\n",
       "      <td>Aanbevelingen Europese Commissie extra bezuini...</td>\n",
       "      <td>voorzitter vorig wek plaatst werkgever werknem...</td>\n",
       "      <td>voorzitter vorige week plaatsten werkgevers we...</td>\n",
       "      <td>voorzitter vorig wek plaatst werkgever werknem...</td>\n",
       "      <td>voorzitter vorige week plaatsten werkgevers we...</td>\n",
       "      <td>samsom rutte rutte samsom rutte samsom</td>\n",
       "    </tr>\n",
       "    <tr>\n",
       "      <th>175883</th>\n",
       "      <td>Pechtold</td>\n",
       "      <td>D66</td>\n",
       "      <td>\\r\\n           \\r\\n             Voorzitter. Tw...</td>\n",
       "      <td>h-tk-20122013-100-3.xml</td>\n",
       "      <td>Main Speech</td>\n",
       "      <td>2013-06-26</td>\n",
       "      <td>['Bestuur | Parlement', 'Financiën | Begroting']</td>\n",
       "      <td>Aanbevelingen Europese Commissie extra bezuini...</td>\n",
       "      <td>voorzitter twee maand geled kreg dit kabinet v...</td>\n",
       "      <td>voorzitter twee maanden geleden kreeg dit kabi...</td>\n",
       "      <td>voorzitter twee maand geled kreg dit kabinet v...</td>\n",
       "      <td>voorzitter twee maanden geleden kreeg dit kabi...</td>\n",
       "      <td>d66 pvda d66 d66 rutte samsom</td>\n",
       "    </tr>\n",
       "    <tr>\n",
       "      <th>175884</th>\n",
       "      <td>Van Haersma Buma</td>\n",
       "      <td>CDA</td>\n",
       "      <td>\\r\\n           \\r\\n             Voorzitter. Al...</td>\n",
       "      <td>h-tk-20122013-100-3.xml</td>\n",
       "      <td>Main Speech</td>\n",
       "      <td>2013-06-26</td>\n",
       "      <td>['Bestuur | Parlement', 'Financiën | Begroting']</td>\n",
       "      <td>Aanbevelingen Europese Commissie extra bezuini...</td>\n",
       "      <td>voorzitter allen al in de eerst drie maand van...</td>\n",
       "      <td>voorzitter alleen al in de eerste drie maanden...</td>\n",
       "      <td>voorzitter allen al in de eerst drie maand van...</td>\n",
       "      <td>voorzitter alleen al in de eerste drie maanden...</td>\n",
       "      <td>decda hetcda hetcda hetcda hetcda pechtold sam...</td>\n",
       "    </tr>\n",
       "    <tr>\n",
       "      <th>175889</th>\n",
       "      <td>Thieme</td>\n",
       "      <td>PvdD</td>\n",
       "      <td>\\r\\n           \\r\\n             Voorzitter. We...</td>\n",
       "      <td>h-tk-20122013-100-3.xml</td>\n",
       "      <td>Main Speech</td>\n",
       "      <td>2013-06-26</td>\n",
       "      <td>['Bestuur | Parlement', 'Financiën | Begroting']</td>\n",
       "      <td>Aanbevelingen Europese Commissie extra bezuini...</td>\n",
       "      <td>voorzitter we zijn eruit eerst ontdekt de mini...</td>\n",
       "      <td>voorzitter we zijn eruit eerst ontdekte de min...</td>\n",
       "      <td>voorzitter we zijn eruit eerst ontdekt de mini...</td>\n",
       "      <td>voorzitter we zijn eruit eerst ontdekte de min...</td>\n",
       "      <td>vvd pvda pvda devvd departijvandearbeid samsom...</td>\n",
       "    </tr>\n",
       "  </tbody>\n",
       "</table>\n",
       "</div>"
      ],
      "text/plain": [
       "                 surname party  \\\n",
       "175881           Wilders   PVV   \n",
       "175882            Roemer    SP   \n",
       "175883          Pechtold   D66   \n",
       "175884  Van Haersma Buma   CDA   \n",
       "175889            Thieme  PvdD   \n",
       "\n",
       "                                                     text  \\\n",
       "175881  \\r\\n           \\r\\n             Mevrouw de voo...   \n",
       "175882  \\r\\n           \\r\\n             Voorzitter. Vo...   \n",
       "175883  \\r\\n           \\r\\n             Voorzitter. Tw...   \n",
       "175884  \\r\\n           \\r\\n             Voorzitter. Al...   \n",
       "175889  \\r\\n           \\r\\n             Voorzitter. We...   \n",
       "\n",
       "                           file speech category        date  \\\n",
       "175881  h-tk-20122013-100-3.xml     Main Speech  2013-06-26   \n",
       "175882  h-tk-20122013-100-3.xml     Main Speech  2013-06-26   \n",
       "175883  h-tk-20122013-100-3.xml     Main Speech  2013-06-26   \n",
       "175884  h-tk-20122013-100-3.xml     Main Speech  2013-06-26   \n",
       "175889  h-tk-20122013-100-3.xml     Main Speech  2013-06-26   \n",
       "\n",
       "                                                    tags  \\\n",
       "175881  ['Bestuur | Parlement', 'Financiën | Begroting']   \n",
       "175882  ['Bestuur | Parlement', 'Financiën | Begroting']   \n",
       "175883  ['Bestuur | Parlement', 'Financiën | Begroting']   \n",
       "175884  ['Bestuur | Parlement', 'Financiën | Begroting']   \n",
       "175889  ['Bestuur | Parlement', 'Financiën | Begroting']   \n",
       "\n",
       "                                                    titel  \\\n",
       "175881  Aanbevelingen Europese Commissie extra bezuini...   \n",
       "175882  Aanbevelingen Europese Commissie extra bezuini...   \n",
       "175883  Aanbevelingen Europese Commissie extra bezuini...   \n",
       "175884  Aanbevelingen Europese Commissie extra bezuini...   \n",
       "175889  Aanbevelingen Europese Commissie extra bezuini...   \n",
       "\n",
       "                                             stemmed_text  \\\n",
       "175881  mevrouw de voorzitter dit kabinet heeft ons mo...   \n",
       "175882  voorzitter vorig wek plaatst werkgever werknem...   \n",
       "175883  voorzitter twee maand geled kreg dit kabinet v...   \n",
       "175884  voorzitter allen al in de eerst drie maand van...   \n",
       "175889  voorzitter we zijn eruit eerst ontdekt de mini...   \n",
       "\n",
       "                                              normal_text  \\\n",
       "175881  mevrouw de voorzitter dit kabinet heeft ons mo...   \n",
       "175882  voorzitter vorige week plaatsten werkgevers we...   \n",
       "175883  voorzitter twee maanden geleden kreeg dit kabi...   \n",
       "175884  voorzitter alleen al in de eerste drie maanden...   \n",
       "175889  voorzitter we zijn eruit eerst ontdekte de min...   \n",
       "\n",
       "                                     stemmed_withoutnames  \\\n",
       "175881  mevrouw de voorzitter dit kabinet heeft ons mo...   \n",
       "175882  voorzitter vorig wek plaatst werkgever werknem...   \n",
       "175883  voorzitter twee maand geled kreg dit kabinet v...   \n",
       "175884  voorzitter allen al in de eerst drie maand van...   \n",
       "175889  voorzitter we zijn eruit eerst ontdekt de mini...   \n",
       "\n",
       "                                      normal_withoutnames  \\\n",
       "175881  mevrouw de voorzitter dit kabinet heeft ons mo...   \n",
       "175882  voorzitter vorige week plaatsten werkgevers we...   \n",
       "175883  voorzitter twee maanden geleden kreeg dit kabi...   \n",
       "175884  voorzitter alleen al in de eerste drie maanden...   \n",
       "175889  voorzitter we zijn eruit eerst ontdekte de min...   \n",
       "\n",
       "                                                    names  \n",
       "175881  devvd depvda vvd depvv rutte rutte rutte samso...  \n",
       "175882             samsom rutte rutte samsom rutte samsom  \n",
       "175883                      d66 pvda d66 d66 rutte samsom  \n",
       "175884  decda hetcda hetcda hetcda hetcda pechtold sam...  \n",
       "175889  vvd pvda pvda devvd departijvandearbeid samsom...  "
      ]
     },
     "execution_count": 21,
     "metadata": {},
     "output_type": "execute_result"
    }
   ],
   "source": [
    "partijnamen = list(df.party.unique()) + Party_synomyns\n",
    "df[\"names\"] = df.text.apply(lambda x: re.findall(partijnamen, x)+re.findall(kamerlidnamen, x))\n",
    "df[\"names\"] = df.names.apply(lambda x: ' '.join([y.replace(\" \", \"\") for y in x]).lower())\n",
    "df.head(5)"
   ]
  },
  {
   "cell_type": "code",
   "execution_count": 24,
   "metadata": {},
   "outputs": [
    {
     "name": "stderr",
     "output_type": "stream",
     "text": [
      "100%|████████████████████████████████████████████████████████████████████████████████████| 5/5 [00:01<00:00,  4.36it/s]\n"
     ]
    },
    {
     "name": "stdout",
     "output_type": "stream",
     "text": [
      "              Precision  Recall  F1_score Accuracy  Documenten\n",
      "50PLUS             0.86    0.84      0.85        -          84\n",
      "CDA                0.68    0.63      0.65        -         380\n",
      "ChristenUnie       0.62    0.57      0.59        -         208\n",
      "D66                0.62    0.51      0.55        -         383\n",
      "GroenLinks         0.63    0.70      0.64        -         225\n",
      "PVV                0.71    0.70      0.70        -         328\n",
      "PvdA               0.54    0.54      0.52        -         373\n",
      "PvdD               0.76    0.78      0.77        -          87\n",
      "SGP                0.69    0.48      0.57        -         125\n",
      "SP                 0.59    0.66      0.61        -         455\n",
      "VVD                0.66    0.58      0.61        -         332\n",
      "Totaal             0.64    0.61      0.62     0.62        2980\n"
     ]
    },
    {
     "data": {
      "image/png": "[encoded data removed]",
      "text/plain": [
       "<Figure size 720x720 with 1 Axes>"
      ]
     },
     "metadata": {},
     "output_type": "display_data"
    }
   ],
   "source": [
    "pipe, indiceslist = traintest('Scores.xlsx', df, save = \"onlynames\", params= {'vect__ngram_range':(1,1)}, stemmed='names', normal='names')"
   ]
  },
  {
   "cell_type": "code",
   "execution_count": 25,
   "metadata": {},
   "outputs": [
    {
     "data": {
      "text/html": [
       "<div>\n",
       "<style scoped>\n",
       "    .dataframe tbody tr th:only-of-type {\n",
       "        vertical-align: middle;\n",
       "    }\n",
       "\n",
       "    .dataframe tbody tr th {\n",
       "        vertical-align: top;\n",
       "    }\n",
       "\n",
       "    .dataframe thead th {\n",
       "        text-align: right;\n",
       "    }\n",
       "</style>\n",
       "<table border=\"1\" class=\"dataframe\">\n",
       "  <thead>\n",
       "    <tr style=\"text-align: right;\">\n",
       "      <th></th>\n",
       "      <th>50PLUS</th>\n",
       "      <th>CDA</th>\n",
       "      <th>ChristenUnie</th>\n",
       "      <th>D66</th>\n",
       "      <th>GroenLinks</th>\n",
       "      <th>PVV</th>\n",
       "      <th>PvdA</th>\n",
       "      <th>PvdD</th>\n",
       "      <th>SGP</th>\n",
       "      <th>SP</th>\n",
       "      <th>VVD</th>\n",
       "    </tr>\n",
       "  </thead>\n",
       "  <tbody>\n",
       "    <tr>\n",
       "      <th>0</th>\n",
       "      <td>50plus</td>\n",
       "      <td>decda</td>\n",
       "      <td>dechristenunie</td>\n",
       "      <td>d66</td>\n",
       "      <td>groenlinks</td>\n",
       "      <td>depvv</td>\n",
       "      <td>janvos</td>\n",
       "      <td>ouwehand</td>\n",
       "      <td>desgp</td>\n",
       "      <td>jaspervandijk</td>\n",
       "      <td>devvd</td>\n",
       "    </tr>\n",
       "    <tr>\n",
       "      <th>1</th>\n",
       "      <td>de50plus</td>\n",
       "      <td>hetcda</td>\n",
       "      <td>dik</td>\n",
       "      <td>ded66</td>\n",
       "      <td>degroenlinks</td>\n",
       "      <td>tonyvandijck</td>\n",
       "      <td>albertdevries</td>\n",
       "      <td>departijvoordedieren</td>\n",
       "      <td>sgp</td>\n",
       "      <td>desp</td>\n",
       "      <td>aukjedevries</td>\n",
       "    </tr>\n",
       "    <tr>\n",
       "      <th>2</th>\n",
       "      <td>krol</td>\n",
       "      <td>agnesmulder</td>\n",
       "      <td>faber</td>\n",
       "      <td>belhaj</td>\n",
       "      <td>voortman</td>\n",
       "      <td>departijvoordevrijheid</td>\n",
       "      <td>depvda</td>\n",
       "      <td>thieme</td>\n",
       "      <td>vanderstaaij</td>\n",
       "      <td>smaling</td>\n",
       "      <td>straus</td>\n",
       "    </tr>\n",
       "    <tr>\n",
       "      <th>3</th>\n",
       "      <td>timmerman</td>\n",
       "      <td>vanhelvert</td>\n",
       "      <td>voordewind</td>\n",
       "      <td>piadijkstra</td>\n",
       "      <td>vanojik</td>\n",
       "      <td>graus</td>\n",
       "      <td>departijvandearbeid</td>\n",
       "      <td>wassenberg</td>\n",
       "      <td>houwers</td>\n",
       "      <td>paulusjansen</td>\n",
       "      <td>rudmerheerema</td>\n",
       "    </tr>\n",
       "    <tr>\n",
       "      <th>4</th>\n",
       "      <td>klein</td>\n",
       "      <td>cda</td>\n",
       "      <td>bruins</td>\n",
       "      <td>vanmeenen</td>\n",
       "      <td>grashoff</td>\n",
       "      <td>madlener</td>\n",
       "      <td>cegerek</td>\n",
       "      <td>depvdd</td>\n",
       "      <td>desocialistischepartij</td>\n",
       "      <td>vangerven</td>\n",
       "      <td>remcodijkstra</td>\n",
       "    </tr>\n",
       "    <tr>\n",
       "      <th>5</th>\n",
       "      <td>smits</td>\n",
       "      <td>ronnes</td>\n",
       "      <td>segers</td>\n",
       "      <td>vanveldhoven</td>\n",
       "      <td>vantongeren</td>\n",
       "      <td>klever</td>\n",
       "      <td>marcouch</td>\n",
       "      <td>pvdd</td>\n",
       "      <td>vanlaar</td>\n",
       "      <td>leijten</td>\n",
       "      <td>venrooy</td>\n",
       "    </tr>\n",
       "    <tr>\n",
       "      <th>6</th>\n",
       "      <td>vanmiltenburg</td>\n",
       "      <td>geurts</td>\n",
       "      <td>slob</td>\n",
       "      <td>koşerkaya</td>\n",
       "      <td>klaver</td>\n",
       "      <td>gerbrands</td>\n",
       "      <td>wolbert</td>\n",
       "      <td>hetpvda</td>\n",
       "      <td>vanwijngaarden</td>\n",
       "      <td>bashir</td>\n",
       "      <td>vanveen</td>\n",
       "    </tr>\n",
       "    <tr>\n",
       "      <th>7</th>\n",
       "      <td>vanderburg</td>\n",
       "      <td>keijzer</td>\n",
       "      <td>schouten</td>\n",
       "      <td>sjoerdsma</td>\n",
       "      <td>hetgroenlinks</td>\n",
       "      <td>degraaf</td>\n",
       "      <td>meilivos</td>\n",
       "      <td>hetvvd</td>\n",
       "      <td>dijkgraaf</td>\n",
       "      <td>siderius</td>\n",
       "      <td>welkzijn</td>\n",
       "    </tr>\n",
       "    <tr>\n",
       "      <th>8</th>\n",
       "      <td>verhoeven</td>\n",
       "      <td>vanhaersmabuma</td>\n",
       "      <td>christenunie</td>\n",
       "      <td>hachchi</td>\n",
       "      <td>hetvvd</td>\n",
       "      <td>fritsma</td>\n",
       "      <td>leenders</td>\n",
       "      <td>vandekken</td>\n",
       "      <td>hetsgp</td>\n",
       "      <td>karabulut</td>\n",
       "      <td>deboer</td>\n",
       "    </tr>\n",
       "    <tr>\n",
       "      <th>9</th>\n",
       "      <td>roemer</td>\n",
       "      <td>bruinsslot</td>\n",
       "      <td>vanderstaaij</td>\n",
       "      <td>wijbenga</td>\n",
       "      <td>ellemeet</td>\n",
       "      <td>deroon</td>\n",
       "      <td>jadnanansing</td>\n",
       "      <td>recourt</td>\n",
       "      <td>bonis</td>\n",
       "      <td>kooiman</td>\n",
       "      <td>deliefde</td>\n",
       "    </tr>\n",
       "  </tbody>\n",
       "</table>\n",
       "</div>"
      ],
      "text/plain": [
       "          50PLUS             CDA    ChristenUnie           D66     GroenLinks  \\\n",
       "0         50plus           decda  dechristenunie           d66     groenlinks   \n",
       "1       de50plus          hetcda             dik         ded66   degroenlinks   \n",
       "2           krol     agnesmulder           faber        belhaj       voortman   \n",
       "3      timmerman      vanhelvert      voordewind   piadijkstra        vanojik   \n",
       "4          klein             cda          bruins     vanmeenen       grashoff   \n",
       "5          smits          ronnes          segers  vanveldhoven    vantongeren   \n",
       "6  vanmiltenburg          geurts            slob     koşerkaya         klaver   \n",
       "7     vanderburg         keijzer        schouten     sjoerdsma  hetgroenlinks   \n",
       "8      verhoeven  vanhaersmabuma    christenunie       hachchi         hetvvd   \n",
       "9         roemer      bruinsslot    vanderstaaij      wijbenga       ellemeet   \n",
       "\n",
       "                      PVV                 PvdA                  PvdD  \\\n",
       "0                   depvv               janvos              ouwehand   \n",
       "1            tonyvandijck        albertdevries  departijvoordedieren   \n",
       "2  departijvoordevrijheid               depvda                thieme   \n",
       "3                   graus  departijvandearbeid            wassenberg   \n",
       "4                madlener              cegerek                depvdd   \n",
       "5                  klever             marcouch                  pvdd   \n",
       "6               gerbrands              wolbert               hetpvda   \n",
       "7                 degraaf             meilivos                hetvvd   \n",
       "8                 fritsma             leenders             vandekken   \n",
       "9                  deroon         jadnanansing               recourt   \n",
       "\n",
       "                      SGP             SP            VVD  \n",
       "0                   desgp  jaspervandijk          devvd  \n",
       "1                     sgp           desp   aukjedevries  \n",
       "2            vanderstaaij        smaling         straus  \n",
       "3                 houwers   paulusjansen  rudmerheerema  \n",
       "4  desocialistischepartij      vangerven  remcodijkstra  \n",
       "5                 vanlaar        leijten        venrooy  \n",
       "6          vanwijngaarden         bashir        vanveen  \n",
       "7               dijkgraaf       siderius       welkzijn  \n",
       "8                  hetsgp      karabulut         deboer  \n",
       "9                   bonis        kooiman       deliefde  "
      ]
     },
     "execution_count": 25,
     "metadata": {},
     "output_type": "execute_result"
    }
   ],
   "source": [
    "mostimportantwords(pipe, countdf, filename='onlynames')"
   ]
  },
  {
   "cell_type": "markdown",
   "metadata": {},
   "source": [
    "# Confusion matrix analyse"
   ]
  },
  {
   "cell_type": "code",
   "execution_count": 26,
   "metadata": {},
   "outputs": [],
   "source": [
    "def traintest2(file, data, save=False,stemmed=\"stemmed_text\",normal=\"normal_text\"):\n",
    "    train, test = data\n",
    "    pipe, stem = getbestpipe(file)\n",
    "    text = stemmed if stem else normal\n",
    "    pipe.fit(train[text], train.party)\n",
    "    predicted = pipe.predict(test[text])\n",
    "    cm = confusion_matrix(test.party, predicted)\n",
    "    tot = len(predicted)\n",
    "    ggg = defaultdict(int)\n",
    "    mix = []\n",
    "    regering = []\n",
    "    oppositie = []\n",
    "    for i in range(cm.shape[0]):\n",
    "        for j in range(cm.shape[0]):\n",
    "            if i!=j:\n",
    "                a = (sum(cm[i,:])-cm[i,i]) * (sum(cm[j,:])/(tot-sum(cm[i,:])))\n",
    "                ggg[(i,sum(cm[i,:]))]+=a\n",
    "                if i in [6,10] and j in [6,10]:\n",
    "                    regering.append(cm[i,j]-a)\n",
    "                elif i in [0,1,2,3,4,5,7,8,9] and j in [0,1,2,3,4,5,7,8,9]:\n",
    "                    oppositie.append(cm[i,j]-a)\n",
    "                else:\n",
    "                    mix.append(cm[i,j]-a)\n",
    "    return pipe, oppositie, regering, mix, ggg"
   ]
  },
  {
   "cell_type": "code",
   "execution_count": 27,
   "metadata": {},
   "outputs": [
    {
     "name": "stderr",
     "output_type": "stream",
     "text": [
      "100%|██████████████████████████████████████████████████████████████████████████████████| 10/10 [13:17<00:00, 79.78s/it]\n"
     ]
    }
   ],
   "source": [
    "o = []\n",
    "m = []\n",
    "r = []\n",
    "g = {}\n",
    "for i in tqdm(range(10)):\n",
    "    pipe, oppositie, regering, mix, ggg=traintest2('Scores.xlsx', train_test_split(df, test_size=0.2), stemmed='stemmed_withoutnames', normal='normal_withoutnames')\n",
    "    g ={**g, **ggg}\n",
    "    o.append(oppositie)\n",
    "    r.append(regering)\n",
    "    m.append(mix)"
   ]
  },
  {
   "cell_type": "code",
   "execution_count": 28,
   "metadata": {},
   "outputs": [
    {
     "data": {
      "text/plain": [
       "(0.7861087532751557, 2.084100161386254e-22)"
      ]
     },
     "execution_count": 28,
     "metadata": {},
     "output_type": "execute_result"
    },
    {
     "data": {
      "image/png": "[encoded data removed]",
      "text/plain": [
       "<Figure size 460.625x360 with 1 Axes>"
      ]
     },
     "metadata": {},
     "output_type": "display_data"
    }
   ],
   "source": [
    "(keys,values) = zip(*g.items())\n",
    "party, keys = zip(*keys)\n",
    "keys = pd.Series(keys,name='fn + tp')\n",
    "values = pd.Series(values,name='fp')\n",
    "party = pd.Series(party,name=\"Partij\").replace(dict(enumerate(sorted(df.party.unique()))))\n",
    "q = sns.lmplot(x='fn + tp', y='fp', hue='Partij', data=pd.concat([keys, values, party], axis=1),fit_reg=False, palette=sns.color_palette(\"hls\", 11))\n",
    "ax = sns.regplot(keys, values, scatter=False, ax=q.axes[0, 0])\n",
    "fig = ax.get_figure()\n",
    "fig.savefig('Verslag/Tables/Correlation.png') \n",
    "scipy.stats.pearsonr(keys,values)"
   ]
  },
  {
   "cell_type": "code",
   "execution_count": 29,
   "metadata": {},
   "outputs": [
    {
     "name": "stderr",
     "output_type": "stream",
     "text": [
      "c:\\users\\m6800\\appdata\\local\\programs\\python\\python36\\lib\\site-packages\\matplotlib\\axes\\_axes.py:6462: UserWarning: The 'normed' kwarg is deprecated, and has been replaced by the 'density' kwarg.\n",
      "  warnings.warn(\"The 'normed' kwarg is deprecated, and has been \"\n"
     ]
    },
    {
     "name": "stdout",
     "output_type": "stream",
     "text": [
      "Mean: 0.3976849414736746\n",
      "NormaltestResult(statistic=334.06242336115713, pvalue=2.879164385103864e-73)\n"
     ]
    },
    {
     "data": {
      "image/png": "[encoded data removed]",
      "text/plain": [
       "<Figure size 432x288 with 1 Axes>"
      ]
     },
     "metadata": {},
     "output_type": "display_data"
    }
   ],
   "source": [
    "# Dit gebruiken\n",
    "ax = sns.distplot(list(chain.from_iterable(o)),kde=False)\n",
    "fig = ax.get_figure()\n",
    "fig.savefig('Verslag/Tables/Oppositie.png') \n",
    "print(\"Mean:\",np.mean(list(chain.from_iterable(o))))\n",
    "print(scipy.stats.normaltest(list(chain.from_iterable(o))))"
   ]
  },
  {
   "cell_type": "code",
   "execution_count": 30,
   "metadata": {},
   "outputs": [
    {
     "name": "stderr",
     "output_type": "stream",
     "text": [
      "c:\\users\\m6800\\appdata\\local\\programs\\python\\python36\\lib\\site-packages\\matplotlib\\axes\\_axes.py:6462: UserWarning: The 'normed' kwarg is deprecated, and has been replaced by the 'density' kwarg.\n",
      "  warnings.warn(\"The 'normed' kwarg is deprecated, and has been \"\n"
     ]
    },
    {
     "data": {
      "text/plain": [
       "27.463131291842537"
      ]
     },
     "execution_count": 30,
     "metadata": {},
     "output_type": "execute_result"
    },
    {
     "data": {
      "image/png": "[encoded data removed]",
      "text/plain": [
       "<Figure size 432x288 with 1 Axes>"
      ]
     },
     "metadata": {},
     "output_type": "display_data"
    }
   ],
   "source": [
    "ax = sns.distplot(list(chain.from_iterable(r)),kde=False)\n",
    "fig = ax.get_figure()\n",
    "fig.savefig('Verslag/Tables/Regering.png') \n",
    "np.mean(list(chain.from_iterable(r)))"
   ]
  },
  {
   "cell_type": "code",
   "execution_count": 31,
   "metadata": {},
   "outputs": [
    {
     "name": "stderr",
     "output_type": "stream",
     "text": [
      "c:\\users\\m6800\\appdata\\local\\programs\\python\\python36\\lib\\site-packages\\matplotlib\\axes\\_axes.py:6462: UserWarning: The 'normed' kwarg is deprecated, and has been replaced by the 'density' kwarg.\n",
      "  warnings.warn(\"The 'normed' kwarg is deprecated, and has been \"\n"
     ]
    },
    {
     "data": {
      "text/plain": [
       "-2.321099399160823"
      ]
     },
     "execution_count": 31,
     "metadata": {},
     "output_type": "execute_result"
    },
    {
     "data": {
      "image/png": "[encoded data removed]",
      "text/plain": [
       "<Figure size 432x288 with 1 Axes>"
      ]
     },
     "metadata": {},
     "output_type": "display_data"
    }
   ],
   "source": [
    "ax = sns.distplot(list(chain.from_iterable(m)),kde=False)\n",
    "fig = ax.get_figure()\n",
    "fig.savefig('Verslag/Tables/Mix.png') \n",
    "np.mean(list(chain.from_iterable(m)))"
   ]
  },
  {
   "cell_type": "code",
   "execution_count": 32,
   "metadata": {},
   "outputs": [
    {
     "name": "stderr",
     "output_type": "stream",
     "text": [
      "c:\\users\\m6800\\appdata\\local\\programs\\python\\python36\\lib\\site-packages\\matplotlib\\axes\\_axes.py:6462: UserWarning: The 'normed' kwarg is deprecated, and has been replaced by the 'density' kwarg.\n",
      "  warnings.warn(\"The 'normed' kwarg is deprecated, and has been \"\n"
     ]
    },
    {
     "name": "stdout",
     "output_type": "stream",
     "text": [
      "0.0\n",
      "NormaltestResult(statistic=490.7937620278287, pvalue=2.663720784197819e-107)\n"
     ]
    },
    {
     "data": {
      "image/png": "[encoded data removed]",
      "text/plain": [
       "<Figure size 432x288 with 1 Axes>"
      ]
     },
     "metadata": {},
     "output_type": "display_data"
    }
   ],
   "source": [
    "ax = sns.distplot(list(chain.from_iterable(m+o+r)),kde=False)\n",
    "fig = ax.get_figure()\n",
    "fig.savefig('Verslag/Tables/Totaal.png')\n",
    "print(np.mean(list(chain.from_iterable(m+o+r))))\n",
    "print(scipy.stats.normaltest(list(chain.from_iterable(m+o+r))))"
   ]
  },
  {
   "cell_type": "code",
   "execution_count": 33,
   "metadata": {},
   "outputs": [
    {
     "data": {
      "text/plain": [
       "NormaltestResult(statistic=490.7937620278287, pvalue=2.663720784197819e-107)"
      ]
     },
     "execution_count": 33,
     "metadata": {},
     "output_type": "execute_result"
    }
   ],
   "source": [
    "scipy.stats.normaltest(list(chain.from_iterable(m+o+r)))"
   ]
  },
  {
   "cell_type": "markdown",
   "metadata": {},
   "source": [
    "# Woorden Balkenende 4"
   ]
  },
  {
   "cell_type": "code",
   "execution_count": 34,
   "metadata": {},
   "outputs": [],
   "source": [
    "# Importing data\n",
    "dfb4 = importdata(\"HandelingenBalkenende4.csv\")\n",
    "dfb4['stemmed_text'] = dfb4.text.apply(lambda x: ' '.join([stemmer.stem(t) for t in tokenizer.tokenize(x)]))\n",
    "dfb4 = dfb4.loc[dfb4.stemmed_text.apply(lambda x: len(x.split(' '))) < math.exp(fit[0]+2*fit[1])]\n",
    "dfb4 = dfb4.loc[dfb4.stemmed_text.apply(lambda x: len(x.split(' '))) > math.exp(fit[0]-2*fit[1])]"
   ]
  },
  {
   "cell_type": "code",
   "execution_count": 35,
   "metadata": {},
   "outputs": [
    {
     "data": {
      "text/plain": [
       "CDA             1039\n",
       "ChristenUnie     561\n",
       "D66              518\n",
       "GroenLinks       760\n",
       "PVV              971\n",
       "PvdA             903\n",
       "PvdD             165\n",
       "SGP              507\n",
       "SP              1222\n",
       "VVD             1041\n",
       "Name: party, dtype: int64"
      ]
     },
     "execution_count": 35,
     "metadata": {},
     "output_type": "execute_result"
    }
   ],
   "source": [
    "# Creates a dataframe with counts of dataset per party\n",
    "countdfb4 = dfb4.party.value_counts().sort_index()\n",
    "countdfb4"
   ]
  },
  {
   "cell_type": "code",
   "execution_count": 36,
   "metadata": {},
   "outputs": [],
   "source": [
    "Party_synomyns = [\"Partij van de Arbeid\",\"Socialistische Partij\",\"Partij voor de Dieren\",\"Volkspartij voor Vrijheid en Democratie\",\"Partij voor de Vrijheid\"]\n",
    "partijnamen = list(dfb4.party.unique()) + Party_synomyns\n",
    "partijnamen += [\"[Hh]et \"+ x for x in partijnamen] + [\"[Dd]e \"+ x for x in partijnamen]\n",
    "partijnamen = re.compile('|'.join(partijnamen))\n",
    "kamerlidnamen = re.compile('|'.join(dfb4.surname.unique())+\"|Kortenhorst|Wiegman|De Roos|Schreijer|Willemse|Snijder|Van Vroonhoven|Dezentjé Hamming|Blanksma|Buma|De Pater|Ortega|Madsen\")\n",
    "temp = dfb4.text.apply(lambda x: re.sub(kamerlidnamen,\"xxxxx\",re.sub(partijnamen,\"yyyyy\",x)).lower())\n",
    "dfb4['stemmed_withoutnames'] = temp.apply(lambda x: ' '.join([stemmer.stem(t).replace(\"xxxxx\",'KAMERLID').replace(\"yyyyy\", 'PARTIJ').replace(\"KAMERLIDman\", \"timmerman\") for t in tokenizer.tokenize(x)]))\n",
    "dfb4['normal_withoutnames'] = temp.apply(lambda x: ' '.join([t.replace(\"xxxxx\",'KAMERLID').replace(\"yyyyy\", 'PARTIJ').replace(\"KAMERLIDman\", \"timmerman\") for t in tokenizer.tokenize(x)]))"
   ]
  },
  {
   "cell_type": "code",
   "execution_count": null,
   "metadata": {},
   "outputs": [
    {
     "name": "stderr",
     "output_type": "stream",
     "text": [
      " 20%|████████████████▊                                                                   | 1/5 [00:38<02:33, 38.44s/it]"
     ]
    }
   ],
   "source": [
    "pipe, indiceslist = traintest('Scores.xlsx', dfb4, normal = 'normal_withoutnames', stemmed='stemmed_withoutnames')"
   ]
  },
  {
   "cell_type": "code",
   "execution_count": null,
   "metadata": {},
   "outputs": [],
   "source": [
    "mostimportantwords(pipe, countdfb4, 'WoordenBalkenende4')"
   ]
  },
  {
   "cell_type": "markdown",
   "metadata": {},
   "source": [
    "# Vergelijken"
   ]
  },
  {
   "cell_type": "code",
   "execution_count": null,
   "metadata": {},
   "outputs": [],
   "source": [
    "def traintest5(file, data, save=False, stemmed=\"stemmed_text\",normal=\"normal_text\"):\n",
    "    pipe, stem = getbestpipe(file)\n",
    "    train, test = data\n",
    "    text = stemmed if stem else normal\n",
    "    pipe.fit(train[text], train.party)\n",
    "    predicted = pipe.predict(test[text])\n",
    "    report = classification_report_csv(test.party, predicted)\n",
    "    print(report)\n",
    "    cnf_matrix = confusion_matrix(test.party, predicted)\n",
    "    plt.figure(figsize=(10, 10))\n",
    "    plot_confusion_matrix(cnf_matrix.astype(int), \\\n",
    "                      classes=sorted(list(data.party.unique())), \\\n",
    "                      title='Confusion matrix best estimator')\n",
    "    if save:\n",
    "        plt.savefig(\"Verslag/Tables/%s.png\" %save)\n",
    "        with open(\"Verslag/Tables/%s.tex\" %save, \"w\") as f:\n",
    "            f.write(report.to_latex())\n",
    "    return pipe"
   ]
  },
  {
   "cell_type": "code",
   "execution_count": null,
   "metadata": {},
   "outputs": [],
   "source": [
    "pipe = traintest5('Scores.xlsx', (df[df.party != '50PLUS'],dfb4), save=\"RutToBal\", stemmed=\"stemmed_withoutnames\",normal=\"normal_withoutnames\")"
   ]
  },
  {
   "cell_type": "code",
   "execution_count": null,
   "metadata": {},
   "outputs": [],
   "source": [
    "pipe = traintest5('Scores.xlsx', (dfb4,df[df.party != '50PLUS']), save=\"BalToRut\", stemmed=\"stemmed_withoutnames\",normal=\"normal_withoutnames\")"
   ]
  },
  {
   "cell_type": "code",
   "execution_count": null,
   "metadata": {},
   "outputs": [],
   "source": [
    "woordenBalk = df = pd.read_excel('WoordenBalkenende4.xlsx', index_col=0)\n",
    "woordenRut = df = pd.read_excel('MostImportantWordsWithoutNames.xlsx', index_col=0)"
   ]
  },
  {
   "cell_type": "markdown",
   "metadata": {},
   "source": [
    "# Links / Rechts vergelijken"
   ]
  },
  {
   "cell_type": "code",
   "execution_count": null,
   "metadata": {},
   "outputs": [],
   "source": [
    "# df['Kieskompas'] = df['party'].map({'CDA': 'Rechts', 'ChristenUnie': 'Rechts', 'D66':'Rechts', 'SGP':'Rechts', 'VVD':'Rechts', 'SP':'Links','PvdD':'Links','GroenLinks':'Links','PvdA':'Links','50PLUS':'Links'})\n",
    "# pipe, predicted = traintest('Scores.xlsx', datasplitter(df.dropna(), 0.8))"
   ]
  },
  {
   "cell_type": "code",
   "execution_count": null,
   "metadata": {},
   "outputs": [],
   "source": [
    "# pipe, _ = getbestpipe('Scores.xlsx')\n",
    "# df_train = df.dropna().sample(frac=0.8)\n",
    "# df_test_index = list(set(df.index.tolist()) - set(df_train.index.tolist()))\n",
    "# df_test = df.dropna()[df.dropna().index.isin(df_test_index)]\n",
    "# pipe.fit(df_train.withoutnames, df_train.Kieskompas)\n",
    "# predicted = pipe.predict(df_test.withoutnames)\n",
    "# print(classification_report(df_test.Kieskompas, predicted))"
   ]
  },
  {
   "cell_type": "markdown",
   "metadata": {},
   "source": [
    "# Taalgebruik van sprekers"
   ]
  },
  {
   "cell_type": "code",
   "execution_count": null,
   "metadata": {},
   "outputs": [],
   "source": [
    "def traintest3(pipe, text, data, save=False):\n",
    "    trainsprekers, testsprekers = train_test_split(data.surname.unique(), test_size=0.2)\n",
    "    train = data[data['surname'].isin(trainsprekers)]\n",
    "    test = data[data['surname'].isin(testsprekers)]\n",
    "     \n",
    "    pipe.fit(train[text], train.party)\n",
    "    predicted = pipe.predict(test[text])\n",
    "    report = classification_report_csv(test.party, predicted,False)\n",
    "    accuracy = accuracy_score(test.party, predicted)\n",
    "    cnf_matrix = confusion_matrix(test.party, predicted)\n",
    "    return pipe, cnf_matrix, report, accuracy\n",
    "    "
   ]
  },
  {
   "cell_type": "code",
   "execution_count": null,
   "metadata": {},
   "outputs": [],
   "source": [
    "pipe = traintest('Scores.xlsx', df ,save=\"taalgebruik\", stemmed='stemmed_withoutnames', normal='normal_withoutnames')\n",
    "mostimportantwords(pipe, countdf, 'taalgebruik')"
   ]
  }
 ],
 "metadata": {
  "kernelspec": {
   "display_name": "Python 3",
   "language": "python",
   "name": "python3"
  },
  "language_info": {
   "codemirror_mode": {
    "name": "ipython",
    "version": 3
   },
   "file_extension": ".py",
   "mimetype": "text/x-python",
   "name": "python",
   "nbconvert_exporter": "python",
   "pygments_lexer": "ipython3",
   "version": "3.6.4"
  }
 },
 "nbformat": 4,
 "nbformat_minor": 2
}
