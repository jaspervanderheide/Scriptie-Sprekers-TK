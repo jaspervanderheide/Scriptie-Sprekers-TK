{
 "cells": [
  {
   "cell_type": "code",
   "execution_count": 1,
   "metadata": {},
   "outputs": [],
   "source": [
    "%matplotlib inline\n",
    "import xlrd\n",
    "import operator\n",
    "import math\n",
    "import re\n",
    "import nltk\n",
    "import scipy\n",
    "import random\n",
    "import openpyxl\n",
    "import matplotlib.pyplot as plt\n",
    "import pandas as pd\n",
    "import numpy as np\n",
    "import networkx as nx\n",
    "from functools import reduce\n",
    "import seaborn as sns\n",
    "from pactools.grid_search import GridSearchCVProgressBar\n",
    "from collections import Counter, defaultdict\n",
    "from itertools import chain, product\n",
    "from decimal import Decimal\n",
    "from ast import literal_eval\n",
    "from tqdm import tqdm\n",
    "\n",
    "# Sklearn imports\n",
    "from sklearn.feature_extraction.text import TfidfVectorizer\n",
    "from sklearn.pipeline import Pipeline\n",
    "from sklearn.naive_bayes import MultinomialNB, BernoulliNB\n",
    "from sklearn.linear_model import SGDClassifier\n",
    "from sklearn.metrics import classification_report, precision_recall_fscore_support, confusion_matrix, accuracy_score\n",
    "from sklearn.model_selection import GridSearchCV, RandomizedSearchCV, train_test_split\n",
    "\n",
    "pd.options.mode.chained_assignment = None\n",
    "\n",
    "tokenizer = nltk.tokenize.RegexpTokenizer(r'\\w+')\n",
    "stemmer = nltk.stem.snowball.SnowballStemmer(\"dutch\")"
   ]
  },
  {
   "cell_type": "code",
   "execution_count": 2,
   "metadata": {},
   "outputs": [
    {
     "data": {
      "text/html": [
       "<div>\n",
       "<style scoped>\n",
       "    .dataframe tbody tr th:only-of-type {\n",
       "        vertical-align: middle;\n",
       "    }\n",
       "\n",
       "    .dataframe tbody tr th {\n",
       "        vertical-align: top;\n",
       "    }\n",
       "\n",
       "    .dataframe thead th {\n",
       "        text-align: right;\n",
       "    }\n",
       "</style>\n",
       "<table border=\"1\" class=\"dataframe\">\n",
       "  <thead>\n",
       "    <tr style=\"text-align: right;\">\n",
       "      <th></th>\n",
       "      <th>surname</th>\n",
       "      <th>party</th>\n",
       "      <th>text</th>\n",
       "      <th>file</th>\n",
       "      <th>speech category</th>\n",
       "      <th>date</th>\n",
       "      <th>tags</th>\n",
       "      <th>titel</th>\n",
       "      <th>stemmed_text</th>\n",
       "      <th>normal_text</th>\n",
       "    </tr>\n",
       "  </thead>\n",
       "  <tbody>\n",
       "    <tr>\n",
       "      <th>175881</th>\n",
       "      <td>Wilders</td>\n",
       "      <td>PVV</td>\n",
       "      <td>\\r\\n           \\r\\n             Mevrouw de voo...</td>\n",
       "      <td>h-tk-20122013-100-3.xml</td>\n",
       "      <td>Main Speech</td>\n",
       "      <td>2013-06-26</td>\n",
       "      <td>['Bestuur | Parlement', 'Financiën | Begroting']</td>\n",
       "      <td>Aanbevelingen Europese Commissie extra bezuini...</td>\n",
       "      <td>mevrouw de voorzitter dit kabinet heeft ons mo...</td>\n",
       "      <td>mevrouw de voorzitter dit kabinet heeft ons mo...</td>\n",
       "    </tr>\n",
       "    <tr>\n",
       "      <th>175882</th>\n",
       "      <td>Roemer</td>\n",
       "      <td>SP</td>\n",
       "      <td>\\r\\n           \\r\\n             Voorzitter. Vo...</td>\n",
       "      <td>h-tk-20122013-100-3.xml</td>\n",
       "      <td>Main Speech</td>\n",
       "      <td>2013-06-26</td>\n",
       "      <td>['Bestuur | Parlement', 'Financiën | Begroting']</td>\n",
       "      <td>Aanbevelingen Europese Commissie extra bezuini...</td>\n",
       "      <td>voorzitter vorig wek plaatst werkgever werknem...</td>\n",
       "      <td>voorzitter vorige week plaatsten werkgevers we...</td>\n",
       "    </tr>\n",
       "    <tr>\n",
       "      <th>175883</th>\n",
       "      <td>Pechtold</td>\n",
       "      <td>D66</td>\n",
       "      <td>\\r\\n           \\r\\n             Voorzitter. Tw...</td>\n",
       "      <td>h-tk-20122013-100-3.xml</td>\n",
       "      <td>Main Speech</td>\n",
       "      <td>2013-06-26</td>\n",
       "      <td>['Bestuur | Parlement', 'Financiën | Begroting']</td>\n",
       "      <td>Aanbevelingen Europese Commissie extra bezuini...</td>\n",
       "      <td>voorzitter twee maand geled kreg dit kabinet v...</td>\n",
       "      <td>voorzitter twee maanden geleden kreeg dit kabi...</td>\n",
       "    </tr>\n",
       "    <tr>\n",
       "      <th>175884</th>\n",
       "      <td>Van Haersma Buma</td>\n",
       "      <td>CDA</td>\n",
       "      <td>\\r\\n           \\r\\n             Voorzitter. Al...</td>\n",
       "      <td>h-tk-20122013-100-3.xml</td>\n",
       "      <td>Main Speech</td>\n",
       "      <td>2013-06-26</td>\n",
       "      <td>['Bestuur | Parlement', 'Financiën | Begroting']</td>\n",
       "      <td>Aanbevelingen Europese Commissie extra bezuini...</td>\n",
       "      <td>voorzitter allen al in de eerst drie maand van...</td>\n",
       "      <td>voorzitter alleen al in de eerste drie maanden...</td>\n",
       "    </tr>\n",
       "    <tr>\n",
       "      <th>175889</th>\n",
       "      <td>Thieme</td>\n",
       "      <td>PvdD</td>\n",
       "      <td>\\r\\n           \\r\\n             Voorzitter. We...</td>\n",
       "      <td>h-tk-20122013-100-3.xml</td>\n",
       "      <td>Main Speech</td>\n",
       "      <td>2013-06-26</td>\n",
       "      <td>['Bestuur | Parlement', 'Financiën | Begroting']</td>\n",
       "      <td>Aanbevelingen Europese Commissie extra bezuini...</td>\n",
       "      <td>voorzitter we zijn eruit eerst ontdekt de mini...</td>\n",
       "      <td>voorzitter we zijn eruit eerst ontdekte de min...</td>\n",
       "    </tr>\n",
       "  </tbody>\n",
       "</table>\n",
       "</div>"
      ],
      "text/plain": [
       "                 surname party  \\\n",
       "175881           Wilders   PVV   \n",
       "175882            Roemer    SP   \n",
       "175883          Pechtold   D66   \n",
       "175884  Van Haersma Buma   CDA   \n",
       "175889            Thieme  PvdD   \n",
       "\n",
       "                                                     text  \\\n",
       "175881  \\r\\n           \\r\\n             Mevrouw de voo...   \n",
       "175882  \\r\\n           \\r\\n             Voorzitter. Vo...   \n",
       "175883  \\r\\n           \\r\\n             Voorzitter. Tw...   \n",
       "175884  \\r\\n           \\r\\n             Voorzitter. Al...   \n",
       "175889  \\r\\n           \\r\\n             Voorzitter. We...   \n",
       "\n",
       "                           file speech category        date  \\\n",
       "175881  h-tk-20122013-100-3.xml     Main Speech  2013-06-26   \n",
       "175882  h-tk-20122013-100-3.xml     Main Speech  2013-06-26   \n",
       "175883  h-tk-20122013-100-3.xml     Main Speech  2013-06-26   \n",
       "175884  h-tk-20122013-100-3.xml     Main Speech  2013-06-26   \n",
       "175889  h-tk-20122013-100-3.xml     Main Speech  2013-06-26   \n",
       "\n",
       "                                                    tags  \\\n",
       "175881  ['Bestuur | Parlement', 'Financiën | Begroting']   \n",
       "175882  ['Bestuur | Parlement', 'Financiën | Begroting']   \n",
       "175883  ['Bestuur | Parlement', 'Financiën | Begroting']   \n",
       "175884  ['Bestuur | Parlement', 'Financiën | Begroting']   \n",
       "175889  ['Bestuur | Parlement', 'Financiën | Begroting']   \n",
       "\n",
       "                                                    titel  \\\n",
       "175881  Aanbevelingen Europese Commissie extra bezuini...   \n",
       "175882  Aanbevelingen Europese Commissie extra bezuini...   \n",
       "175883  Aanbevelingen Europese Commissie extra bezuini...   \n",
       "175884  Aanbevelingen Europese Commissie extra bezuini...   \n",
       "175889  Aanbevelingen Europese Commissie extra bezuini...   \n",
       "\n",
       "                                             stemmed_text  \\\n",
       "175881  mevrouw de voorzitter dit kabinet heeft ons mo...   \n",
       "175882  voorzitter vorig wek plaatst werkgever werknem...   \n",
       "175883  voorzitter twee maand geled kreg dit kabinet v...   \n",
       "175884  voorzitter allen al in de eerst drie maand van...   \n",
       "175889  voorzitter we zijn eruit eerst ontdekt de mini...   \n",
       "\n",
       "                                              normal_text  \n",
       "175881  mevrouw de voorzitter dit kabinet heeft ons mo...  \n",
       "175882  voorzitter vorige week plaatsten werkgevers we...  \n",
       "175883  voorzitter twee maanden geleden kreeg dit kabi...  \n",
       "175884  voorzitter alleen al in de eerste drie maanden...  \n",
       "175889  voorzitter we zijn eruit eerst ontdekte de min...  "
      ]
     },
     "execution_count": 2,
     "metadata": {},
     "output_type": "execute_result"
    }
   ],
   "source": [
    "# Importing data\n",
    "def importdata(file):\n",
    "    df = pd.read_csv(file, index_col=0)\n",
    "    df = df.loc[df['speech category'] == 'Main Speech']\n",
    "    return df \n",
    "df = importdata(\"HandelingenRutte2.csv\")\n",
    "df['stemmed_text'] = df.text.apply(lambda x: ' '.join([stemmer.stem(t) for t in tokenizer.tokenize(x)]))\n",
    "df['normal_text'] = df.text.apply(lambda x: ' '.join([t.lower() for t in tokenizer.tokenize(x)]))\n",
    "df.drop(columns=['tags'])\n",
    "df.head(5)"
   ]
  },
  {
   "cell_type": "markdown",
   "metadata": {},
   "source": [
    "# Data Info"
   ]
  },
  {
   "cell_type": "code",
   "execution_count": 3,
   "metadata": {},
   "outputs": [
    {
     "name": "stdout",
     "output_type": "stream",
     "text": [
      "803.9600230083405 444.0\n"
     ]
    },
    {
     "name": "stderr",
     "output_type": "stream",
     "text": [
      "c:\\users\\m6800\\appdata\\local\\programs\\python\\python36\\lib\\site-packages\\matplotlib\\axes\\_axes.py:6462: UserWarning: The 'normed' kwarg is deprecated, and has been replaced by the 'density' kwarg.\n",
      "  warnings.warn(\"The 'normed' kwarg is deprecated, and has been \"\n"
     ]
    },
    {
     "data": {
      "image/png": "[encoded data removed]",
      "text/plain": [
       "<Figure size 432x288 with 1 Axes>"
      ]
     },
     "metadata": {},
     "output_type": "display_data"
    }
   ],
   "source": [
    "#leaving out all that is outside 95%\n",
    "list_text = df.stemmed_text.apply(lambda x: x.split(\" \"))\n",
    "t = [len(doc) for doc in list_text]\n",
    "print(np.mean(t),np.median(t))\n",
    "fit =scipy.stats.lognorm.fit(t)\n",
    "ax = sns.distplot(t,bins=1000,norm_hist=False,kde=False)\n",
    "ax.set_xscale('log')\n",
    "ax.set(xlabel='Woorden per document', ylabel='Frequentie')\n",
    "plt.savefig(\"Verslag/Tables/lengthtextslog.png\")"
   ]
  },
  {
   "cell_type": "code",
   "execution_count": 4,
   "metadata": {},
   "outputs": [
    {
     "name": "stderr",
     "output_type": "stream",
     "text": [
      "c:\\users\\m6800\\appdata\\local\\programs\\python\\python36\\lib\\site-packages\\matplotlib\\axes\\_axes.py:6462: UserWarning: The 'normed' kwarg is deprecated, and has been replaced by the 'density' kwarg.\n",
      "  warnings.warn(\"The 'normed' kwarg is deprecated, and has been \"\n"
     ]
    },
    {
     "data": {
      "image/png": "[encoded data removed]",
      "text/plain": [
       "<Figure size 432x288 with 1 Axes>"
      ]
     },
     "metadata": {},
     "output_type": "display_data"
    }
   ],
   "source": [
    "ax = sns.distplot(t, bins=1000, norm_hist=False,kde=False)\n",
    "ax.set(xlabel='Woorden per document', ylabel='Frequentie')\n",
    "plt.savefig(\"Verslag/Tables/lengthtexts.png\")"
   ]
  },
  {
   "cell_type": "code",
   "execution_count": 5,
   "metadata": {},
   "outputs": [
    {
     "name": "stdout",
     "output_type": "stream",
     "text": [
      "Ondergrens: 1492.675589876518 \n",
      "Bovengrens: 27.339307082607387\n",
      "Mediaan 386.0 \n",
      "Gemiddelde 498.18961004094234\n",
      "Overgebleven documenten: 14899\n"
     ]
    }
   ],
   "source": [
    "df = df.loc[df.stemmed_text.apply(lambda x: len(x.split(' '))) < math.exp(fit[0]+2*fit[1])]\n",
    "df = df.loc[df.stemmed_text.apply(lambda x: len(x.split(' '))) > math.exp(fit[0]-2*fit[1])]\n",
    "list_text = df.stemmed_text.apply(lambda x: x.split(\" \"))\n",
    "print(\"Ondergrens:\",math.exp(fit[0]+2*fit[1]),\"\\nBovengrens:\",math.exp(fit[0]-2*fit[1]))\n",
    "print(\"Mediaan\",np.median([len(doc) for doc in list_text]),\"\\nGemiddelde\",np.mean([len(doc) for doc in list_text]))\n",
    "print(\"Overgebleven documenten:\",len(df))"
   ]
  },
  {
   "cell_type": "code",
   "execution_count": 6,
   "metadata": {},
   "outputs": [
    {
     "data": {
      "text/plain": [
       "2984"
      ]
     },
     "execution_count": 6,
     "metadata": {},
     "output_type": "execute_result"
    }
   ],
   "source": [
    "len(df.file.unique())"
   ]
  },
  {
   "cell_type": "code",
   "execution_count": 7,
   "metadata": {},
   "outputs": [
    {
     "data": {
      "text/html": [
       "<div>\n",
       "<style scoped>\n",
       "    .dataframe tbody tr th:only-of-type {\n",
       "        vertical-align: middle;\n",
       "    }\n",
       "\n",
       "    .dataframe tbody tr th {\n",
       "        vertical-align: top;\n",
       "    }\n",
       "\n",
       "    .dataframe thead th {\n",
       "        text-align: right;\n",
       "    }\n",
       "</style>\n",
       "<table border=\"1\" class=\"dataframe\">\n",
       "  <thead>\n",
       "    <tr style=\"text-align: right;\">\n",
       "      <th></th>\n",
       "      <th>Totaal</th>\n",
       "      <th>Vragenuur</th>\n",
       "      <th>Debat</th>\n",
       "    </tr>\n",
       "  </thead>\n",
       "  <tbody>\n",
       "    <tr>\n",
       "      <th>50PLUS</th>\n",
       "      <td>387</td>\n",
       "      <td>12</td>\n",
       "      <td>375</td>\n",
       "    </tr>\n",
       "    <tr>\n",
       "      <th>CDA</th>\n",
       "      <td>1901</td>\n",
       "      <td>88</td>\n",
       "      <td>1813</td>\n",
       "    </tr>\n",
       "    <tr>\n",
       "      <th>ChristenUnie</th>\n",
       "      <td>1068</td>\n",
       "      <td>32</td>\n",
       "      <td>1036</td>\n",
       "    </tr>\n",
       "    <tr>\n",
       "      <th>D66</th>\n",
       "      <td>1889</td>\n",
       "      <td>133</td>\n",
       "      <td>1756</td>\n",
       "    </tr>\n",
       "    <tr>\n",
       "      <th>GroenLinks</th>\n",
       "      <td>1068</td>\n",
       "      <td>47</td>\n",
       "      <td>1021</td>\n",
       "    </tr>\n",
       "    <tr>\n",
       "      <th>PVV</th>\n",
       "      <td>1700</td>\n",
       "      <td>49</td>\n",
       "      <td>1651</td>\n",
       "    </tr>\n",
       "    <tr>\n",
       "      <th>PvdA</th>\n",
       "      <td>1821</td>\n",
       "      <td>112</td>\n",
       "      <td>1709</td>\n",
       "    </tr>\n",
       "    <tr>\n",
       "      <th>PvdD</th>\n",
       "      <td>432</td>\n",
       "      <td>14</td>\n",
       "      <td>418</td>\n",
       "    </tr>\n",
       "    <tr>\n",
       "      <th>SGP</th>\n",
       "      <td>655</td>\n",
       "      <td>10</td>\n",
       "      <td>645</td>\n",
       "    </tr>\n",
       "    <tr>\n",
       "      <th>SP</th>\n",
       "      <td>2284</td>\n",
       "      <td>107</td>\n",
       "      <td>2177</td>\n",
       "    </tr>\n",
       "    <tr>\n",
       "      <th>VVD</th>\n",
       "      <td>1694</td>\n",
       "      <td>76</td>\n",
       "      <td>1618</td>\n",
       "    </tr>\n",
       "  </tbody>\n",
       "</table>\n",
       "</div>"
      ],
      "text/plain": [
       "              Totaal  Vragenuur  Debat\n",
       "50PLUS           387         12    375\n",
       "CDA             1901         88   1813\n",
       "ChristenUnie    1068         32   1036\n",
       "D66             1889        133   1756\n",
       "GroenLinks      1068         47   1021\n",
       "PVV             1700         49   1651\n",
       "PvdA            1821        112   1709\n",
       "PvdD             432         14    418\n",
       "SGP              655         10    645\n",
       "SP              2284        107   2177\n",
       "VVD             1694         76   1618"
      ]
     },
     "execution_count": 7,
     "metadata": {},
     "output_type": "execute_result"
    }
   ],
   "source": [
    "#https://stackoverflow.com/questions/11350770/pandas-dataframe-select-by-partial-string\n",
    "\n",
    "# Creates a dataframe with counts of dataset per party\n",
    "countdf = pd.concat([df.party.value_counts(),df[df['titel'].str.contains(\"Vragen van het lid\")].party.value_counts(), df[~df['titel'].str.contains(\"Vragen van het lid\")].party.value_counts()], axis=1)\n",
    "countdf.columns = ['Totaal', 'Vragenuur','Debat']\n",
    "countdf = countdf.sort_values(\"Totaal\",axis=0, ascending=False)\n",
    "with open(\"Verslag/Tables/Spreekbeurten.tex\", \"w\") as f:\n",
    "    f.write(countdf.to_latex(header=True))\n",
    "countdf = countdf.sort_index()\n",
    "countdf"
   ]
  },
  {
   "cell_type": "code",
   "execution_count": 8,
   "metadata": {},
   "outputs": [
    {
     "data": {
      "image/png": "[encoded data removed]",
      "text/plain": [
       "<Figure size 432x288 with 1 Axes>"
      ]
     },
     "metadata": {},
     "output_type": "display_data"
    }
   ],
   "source": [
    "tekst = chain.from_iterable([list(set(doc)) for doc in list_text])\n",
    "del list_text\n",
    "count = Counter(tekst)\n",
    "samples = list(count.values())\n",
    "t = Counter(samples)\n",
    "t = sorted(t.items())\n",
    "x, y = zip(*t)\n",
    "plt.loglog(x, y)\n",
    "plt.show()"
   ]
  },
  {
   "cell_type": "markdown",
   "metadata": {},
   "source": [
    "# Baseline"
   ]
  },
  {
   "cell_type": "code",
   "execution_count": 9,
   "metadata": {},
   "outputs": [
    {
     "name": "stdout",
     "output_type": "stream",
     "text": [
      "              precision    recall  f1-score   support\n",
      "\n",
      "      50PLUS       0.03      0.03      0.03       387\n",
      "         CDA       0.12      0.12      0.12      1901\n",
      "ChristenUnie       0.06      0.07      0.06      1068\n",
      "         D66       0.12      0.12      0.12      1889\n",
      "  GroenLinks       0.06      0.07      0.07      1068\n",
      "         PVV       0.12      0.12      0.12      1700\n",
      "        PvdA       0.13      0.12      0.12      1821\n",
      "        PvdD       0.03      0.03      0.03       432\n",
      "         SGP       0.03      0.03      0.03       655\n",
      "          SP       0.15      0.16      0.15      2284\n",
      "         VVD       0.12      0.11      0.12      1694\n",
      "\n",
      " avg / total       0.11      0.11      0.11     14899\n",
      "\n",
      "Accuracy: 0.15329887911940399\n"
     ]
    }
   ],
   "source": [
    "simpleprediction = np.random.choice(countdf.index, len(df.party), p = [x/countdf[\"Totaal\"].sum() for x in list(countdf['Totaal'])])\n",
    "print(classification_report(df.party, simpleprediction))\n",
    "print(\"Accuracy:\",accuracy_score(df.party, np.full(len(df.party), countdf[\"Totaal\"].idxmax())))"
   ]
  },
  {
   "cell_type": "markdown",
   "metadata": {},
   "source": [
    "# Models"
   ]
  },
  {
   "cell_type": "code",
   "execution_count": 10,
   "metadata": {},
   "outputs": [],
   "source": [
    "def modelsdownload(file,only_doen=False):\n",
    "    models_df = pd.read_excel(file, index_col=0)\n",
    "    if only_doen:\n",
    "        models_df = models_df.loc[models_df.DOEN == True]\n",
    "    models_dict = {}\n",
    "    for x,y in zip(models_df.Classifier, models_df.PIPELINE):\n",
    "        exec(compile(\"a=\"+y,'','exec'), globals())\n",
    "        models_dict[x] = Pipeline(a)\n",
    "    return models_df, models_dict"
   ]
  },
  {
   "cell_type": "code",
   "execution_count": 11,
   "metadata": {},
   "outputs": [],
   "source": [
    "models_df, models_dict = modelsdownload('Models.xlsx',True)\n",
    "\n",
    "# Creates a dict with parameters per classifier   \n",
    "params_dict = {}\n",
    "for clf in set(models_df.Classifier):\n",
    "    params_df = models_df.loc[models_df.Classifier == clf]\n",
    "    params_df = params_df.loc[params_df.DOEN == True]\n",
    "    params_df = params_df.dropna(axis=1, how='all')\n",
    "    params_df = params_df.drop([col for col in params_df.columns if \"__\" not in col], axis=1)\n",
    "    temp_dict = {}\n",
    "    for x, y in params_df.to_dict(orient='list').items():\n",
    "        a = literal_eval(y[0])\n",
    "        temp_dict[x] = a\n",
    "    params_dict[clf] = temp_dict\n",
    "    \n",
    "text_dict = {x:y for x, y in zip(models_df.Classifier, models_df.STEMMED)}\n"
   ]
  },
  {
   "cell_type": "code",
   "execution_count": 12,
   "metadata": {},
   "outputs": [],
   "source": [
    "scoring = ['accuracy', 'f1_weighted', 'precision_weighted','recall_weighted']\n",
    "for name, pipe in models_dict.items():\n",
    "    print(\"Bezig: %s\" %name)\n",
    "    text = df.stemmed_text if text_dict[name] else df.normal_text\n",
    "        \n",
    "    gs = GridSearchCVProgressBar(pipe, params_dict[name], cv=5, scoring=scoring, refit = False, return_train_score = False, n_jobs=-1)\n",
    "    gs.fit(text, df.party)\n",
    "    rows = pd.DataFrame(gs.cv_results_)\n",
    "    # https://stackoverflow.com/questions/38231591/splitting-dictionary-list-inside-a-pandas-column-into-separate-columns\n",
    "    rows = pd.concat([rows.drop(['params'], axis=1), rows['params'].apply(pd.Series)], axis=1)\n",
    "    rows[\"name\"] = name \n",
    "    rows[\"stemmed\"] = text_dict[name]\n",
    "    pd.concat([rows, pd.read_excel('Scores.xlsx', index_col=0)], ignore_index=True).sort_values(['mean_test_f1_weighted'], ascending=False).to_excel('Scores.xlsx')\n",
    "    df4 = pd.read_excel('Models.xlsx', index_col=0)\n",
    "    df4.loc[df4.Classifier == name, \"DOEN\"] = False\n",
    "    df4.to_excel('Models.xlsx')\n",
    "    print(\"Voltooid: %s\" %name)\n",
    "    \n",
    "# https://stackoverflow.com/questions/46735847/save-best-params-in-gridsearch-in-a-pandas-dataframe\n",
    "# https://stackoverflow.com/questions/36271413/pandas-merge-nearly-duplicate-rows-based-on-column-value?rq=1"
   ]
  },
  {
   "cell_type": "markdown",
   "metadata": {},
   "source": [
    "# Best Score"
   ]
  },
  {
   "cell_type": "code",
   "execution_count": 13,
   "metadata": {},
   "outputs": [],
   "source": [
    "#source: http://scikit-learn.org/stable/auto_examples/model_selection/plot_confusion_matrix.html#sphx-glr-auto-examples-model-selection-plot-confusion-matrix-py\n",
    "def plot_confusion_matrix(cm, classes,\n",
    "                          normalize=False,\n",
    "                          title='Confusion matrix',\n",
    "                          cmap=plt.cm.Blues):\n",
    "    \"\"\"\n",
    "    This function prints and plots the confusion matrix.\n",
    "    Normalization can be applied by setting `normalize=True`.\n",
    "    \"\"\"\n",
    "    if normalize:\n",
    "        cm = cm.astype('float') / cm.sum(axis=1)[:, np.newaxis]\n",
    "\n",
    "    plt.imshow(cm, interpolation='nearest', cmap=cmap)\n",
    "    tick_marks = np.arange(len(classes))\n",
    "    plt.xticks(tick_marks, classes, rotation=45)\n",
    "    plt.yticks(tick_marks, classes)\n",
    "\n",
    "    fmt = '.2f' if normalize else 'd'\n",
    "    thresh = cm.max() / 2.\n",
    "    for i, j in product(range(cm.shape[0]), range(cm.shape[1])):\n",
    "        plt.text(j, i, format(cm[i, j], fmt),\n",
    "                 horizontalalignment=\"center\",\n",
    "                 color=\"white\" if cm[i, j] > thresh else \"black\")\n",
    "    plt.ylabel('Echte klasse')\n",
    "    plt.xlabel('Voorspelde klasse')"
   ]
  },
  {
   "cell_type": "code",
   "execution_count": 14,
   "metadata": {},
   "outputs": [],
   "source": [
    "# https://stackoverflow.com/questions/39662398/scikit-learn-output-metrics-classification-report-into-csv-tab-delimited-format\n",
    "def classification_report_csv(real,predicted):\n",
    "    report = classification_report(real, predicted)\n",
    "    report_data = []\n",
    "    lines = report.split('\\n')\n",
    "    for line in lines[0:-1]:\n",
    "        row = {}\n",
    "        row_data = line.split('     ')\n",
    "        if len(row_data)<5:\n",
    "            continue\n",
    "        row['Partij'] = row_data[-5].replace(\" \",\"\")\n",
    "        row['Precision'] = float(row_data[-4])\n",
    "        row['Recall'] = float(row_data[-3])\n",
    "        row['F1 score'] = float(row_data[-2])\n",
    "        row['Documenten'] = int(row_data[-1])\n",
    "        report_data.append(row)\n",
    "    df = pd.DataFrame.from_dict(report_data)\n",
    "    df = df.reindex([\"Partij\",\"Precision\",\"Recall\",'F1 score',\"Documenten\"], axis=1).set_index('Partij')\n",
    "    as_list = df.index.tolist()\n",
    "    idx = as_list.index('avg/total')\n",
    "    as_list[idx] = 'Totaal'\n",
    "    df.index = as_list\n",
    "    return df"
   ]
  },
  {
   "cell_type": "code",
   "execution_count": 15,
   "metadata": {},
   "outputs": [],
   "source": [
    "# Select the classifier and parameters with highest score\n",
    "def getbestpipe(file):\n",
    "    scores = pd.read_excel(file, index_col=0).sort_values(['mean_test_f1_weighted'], ascending=False).head(1)\n",
    "    scores = scores.dropna(axis=1).reset_index(drop=True)\n",
    "    scores.vect__ngram_range[0] = literal_eval(scores.vect__ngram_range[0])\n",
    "    models_df, models_dict = modelsdownload('Models.xlsx',False)\n",
    "    text_dict = {x:y for x, y in zip(models_df.Classifier, models_df.STEMMED)}\n",
    "    pipe = models_dict[scores.name[0]]\n",
    "    params = scores.drop([col for col in scores.columns if \"__\" not in col or \"param\" in col], axis=1).to_dict(orient='records')[0]\n",
    "    params['vect__min_df'] = int(params['vect__min_df'])\n",
    "    pipe.set_params(**params)\n",
    "    stem = text_dict[scores.name[0]]\n",
    "    return pipe, stem"
   ]
  },
  {
   "cell_type": "code",
   "execution_count": 16,
   "metadata": {},
   "outputs": [],
   "source": [
    "def traintest3(pipe, text, data, save=False):\n",
    "    train, test = train_test_split(data, test_size=0.2)\n",
    "    pipe.fit(train[text], train.party)\n",
    "    predicted = pipe.predict(test[text])\n",
    "    report = classification_report_csv(test.party, predicted)\n",
    "    accuracy = accuracy_score(test.party, predicted)\n",
    "    cnf_matrix = confusion_matrix(test.party, predicted)\n",
    "    indices = np.where(test.party != predicted)\n",
    "    indices = test.iloc[indices].index.values\n",
    "    return [pipe, cnf_matrix, report, accuracy, indices]\n",
    "    \n",
    "\n",
    "def traintest(file, data, save=False, params=None, stemmed=\"stemmed_text\",normal=\"normal_text\"):\n",
    "    n=5\n",
    "    base_pipe, stem = getbestpipe(file)\n",
    "    if params!=None:\n",
    "        base_pipe.set_params(**params)\n",
    "    text = stemmed if stem else normal\n",
    "    pipelist, cnflist, reportlist, accuracylist, indiceslist = zip(*[traintest3(base_pipe, text, data, save=False) for x in tqdm(range(n))])\n",
    "    accuracy = np.mean(accuracylist)\n",
    "    cnf_matrix = np.mean(cnflist, axis=0)\n",
    "    #https://stackoverflow.com/questions/45983321/sum-a-list-of-pandas-dataframes?rq=1\n",
    "    report = reduce(lambda x, y: x.add(y, fill_value=0), reportlist)\n",
    "    nlist =Counter(chain.from_iterable([x[x['F1 score']!=0.0].index.values for x in reportlist]))\n",
    "    report = report.divide(pd.Series(nlist),axis=0)\n",
    "    report=report.round(2)\n",
    "    report.Documenten = report.Documenten.round(0).astype(int)\n",
    "    print(report)\n",
    "    print(accuracy)\n",
    "    plt.figure(figsize=(10, 10))\n",
    "    plot_confusion_matrix(cnf_matrix.astype(int), \\\n",
    "                      classes=sorted(list(data.party.unique())), \\\n",
    "                      title='Confusion matrix best estimator')\n",
    "    if save:\n",
    "        plt.savefig(\"Verslag/Tables/%s.png\" %save)\n",
    "        with open(\"Verslag/Tables/%s.tex\" %save, \"w\") as f:\n",
    "            f.write(report.to_latex())\n",
    "\n",
    "    plt.show()\n",
    "    return pipelist[0], indiceslist"
   ]
  },
  {
   "cell_type": "code",
   "execution_count": 17,
   "metadata": {},
   "outputs": [],
   "source": [
    "def mostimportantwords(pipe, countdf, filename=None):\n",
    "    vocab = pipe.named_steps['vect'].vocabulary_\n",
    "    inv_vocab = {v: k for k, v in vocab.items()}\n",
    "    coefs = pipe.named_steps[[x for x in pipe.named_steps.keys() if not x=='vect'][0]].coef_\n",
    "    top_words = [[inv_vocab[t] for t in coefs[i].argsort()[-100:][::-1]] for i in range(coefs.shape[0])]\n",
    "    top_words = pd.DataFrame(top_words).T\n",
    "    top_words.columns = countdf.index\n",
    "    if filename!=None:\n",
    "        with open(\"Verslag/Tables/%s1.tex\" %filename, \"w\", encoding='utf-8') as f:\n",
    "            f.write(top_words.iloc[:,:5].head(10).to_latex(index=False))\n",
    "        with open(\"Verslag/Tables/%s2.tex\" %filename, \"w\", encoding='utf-8') as f:\n",
    "            f.write(top_words.iloc[:,5:].head(10).to_latex(index=False))\n",
    "        top_words.to_excel(\"%s.xlsx\" %filename)\n",
    "        \n",
    "    return top_words.head(10)"
   ]
  },
  {
   "cell_type": "code",
   "execution_count": null,
   "metadata": {},
   "outputs": [],
   "source": [
    "pipe, indiceslist = traintest('Scores.xlsx', df ,save=\"confusionmatrix\",params= {'SGD__max_iter':100})\n",
    "mostimportantwords(pipe, countdf, filename='MostImportantWords')"
   ]
  },
  {
   "cell_type": "markdown",
   "metadata": {},
   "source": [
    "# What went wrong"
   ]
  },
  {
   "cell_type": "code",
   "execution_count": null,
   "metadata": {},
   "outputs": [],
   "source": [
    "missclassdocs = df.loc[chain.from_iterable(indiceslist)]\n",
    "np.mean([len(doc) for doc in missclassdocs.stemmed_text.apply(lambda x: x.split(\" \"))])\n",
    "np.median([len(doc) for doc in missclassdocs.stemmed_text.apply(lambda x: x.split(\" \"))])\n",
    "fig, ax = plt.subplots()\n",
    "for a,l in [(missclassdocs.stemmed_text.apply(lambda x:len(x.split(\" \"))),'Verkeerd geclassificeerde documenten'), ((df.stemmed_text.apply(lambda x:len(x.split(\" \")))),'Alle documenten')]:\n",
    "    sns.distplot(a, kde=True, norm_hist=True, label=l, axlabel='Woorden per document')\n",
    "plt.legend()\n",
    "plt.savefig(\"Verslag/Tables/misclassifiedlengths.png\")\n",
    "plt.show()\n",
    "print(np.median([len(doc) for doc in missclassdocs.stemmed_text.apply(lambda x: x.split(\" \"))]))"
   ]
  },
  {
   "cell_type": "code",
   "execution_count": null,
   "metadata": {},
   "outputs": [],
   "source": [
    "print(len(df[df['titel'].str.contains(\"Vragen van het lid\")])/len(df))\n",
    "print(len(missclassdocs[missclassdocs['titel'].str.contains(\"Vragen van het lid\")])/len(missclassdocs))\n",
    "print(np.median([len(doc) for doc in df[df['titel'].str.contains(\"Vragen van het lid\")].stemmed_text.apply(lambda x: x.split(\" \"))]))\n"
   ]
  },
  {
   "cell_type": "code",
   "execution_count": null,
   "metadata": {},
   "outputs": [],
   "source": [
    "falsedocs = pd.concat([missclassdocs.groupby('surname').party.count(),df.groupby('surname').party.count(),missclassdocs.groupby('surname').party.count()/df.groupby('surname').party.count() ], axis=1)\n",
    "falsedocs.to_excel('False.xlsx')\n",
    "falsedocs.columns = ['a','b','c']\n",
    "falsedocs.fillna(0,inplace=True)\n",
    "ax = sns.regplot(x=falsedocs.b, y=falsedocs.c)\n",
    "ax.set(xlabel = 'Totaal aantal documenten', ylabel = 'Misclassificaties / Totaal aantal documenten')\n",
    "plt.savefig(\"Verslag/Tables/misclassifiedsprekers.png\")\n",
    "scipy.stats.pearsonr(falsedocs.b, falsedocs.c)"
   ]
  },
  {
   "cell_type": "markdown",
   "metadata": {},
   "source": [
    "# Without Names"
   ]
  },
  {
   "cell_type": "code",
   "execution_count": 18,
   "metadata": {},
   "outputs": [],
   "source": [
    "Party_synomyns = [\"Partij van de Arbeid\",\"Socialistische Partij\",\"Partij voor de Dieren\",\"Volkspartij voor Vrijheid en Democratie\",\"Partij voor de Vrijheid\"]\n",
    "partijnamen = list(df.party.unique()) + Party_synomyns\n",
    "partijnamen += [\"[Hh]et \"+ x for x in partijnamen] + [\"[Dd]e \"+ x for x in partijnamen]\n",
    "partijnamen = re.compile('|'.join(partijnamen))\n",
    "kamerlidnamen = re.compile('|'.join(df.surname.unique()) + \"|Dijkstra|Van Dijk|Van Nieuwenhuizen|Baay|Berndsen|Jansen|Günal|Schut|Nijkerken|Buma|Venrooy|Mulder|De Vries|Berckmoes|Van Dijck|Pia\")\n",
    "temp = df.text.apply(lambda x: re.sub(kamerlidnamen,\"xxxxx\",re.sub(partijnamen,\"yyyyy\",x)).lower())\n",
    "df['stemmed_withoutnames'] = temp.apply(lambda x: ' '.join([stemmer.stem(t).replace(\"xxxxx\",'KAMERLID').replace(\"yyyyy\", 'PARTIJ') for t in tokenizer.tokenize(x)]))\n",
    "df['normal_withoutnames'] = temp.apply(lambda x: ' '.join([t.replace(\"xxxxx\",'KAMERLID').replace(\"yyyyy\", 'PARTIJ') for t in tokenizer.tokenize(x)]))\n",
    "del temp"
   ]
  },
  {
   "cell_type": "code",
   "execution_count": null,
   "metadata": {},
   "outputs": [],
   "source": [
    "pipe, indiceslist = traintest('Scores.xlsx', df, save=\"withoutnames\",params= {'SGD__max_iter':100}, stemmed='stemmed_withoutnames', normal='normal_withoutnames')\n",
    "mostimportantwords(pipe, countdf, filename='MostImportantWordsWithoutNames')"
   ]
  },
  {
   "cell_type": "markdown",
   "metadata": {},
   "source": [
    "# Only Names"
   ]
  },
  {
   "cell_type": "code",
   "execution_count": null,
   "metadata": {},
   "outputs": [],
   "source": [
    "partijnamen = list(df.party.unique()) + Party_synomyns\n",
    "partijnamen = re.compile('|'.join(partijnamen))\n",
    "df[\"names\"] = df.text.apply(lambda x: re.findall(partijnamen, x)+re.findall(kamerlidnamen, x))\n",
    "df[\"names\"] = df.names.apply(lambda x: ' '.join([y.replace(\" \", \"\") for y in x]).lower())\n",
    "df.head(5)"
   ]
  },
  {
   "cell_type": "code",
   "execution_count": null,
   "metadata": {},
   "outputs": [],
   "source": [
    "pipe, indiceslist = traintest('Scores.xlsx', df, save = \"onlynames\", params= {'vect__ngram_range':(1,1),'SGD__max_iter':100}, stemmed='names', normal='names')"
   ]
  },
  {
   "cell_type": "code",
   "execution_count": null,
   "metadata": {},
   "outputs": [],
   "source": [
    "mostimportantwords(pipe, countdf, filename='onlynames')"
   ]
  },
  {
   "cell_type": "markdown",
   "metadata": {},
   "source": [
    "# Confusion matrix analyse"
   ]
  },
  {
   "cell_type": "code",
   "execution_count": null,
   "metadata": {},
   "outputs": [],
   "source": [
    "G = nx.Graph()\n",
    "G.add_edges_from([(8,10), (10,1),(1,5),(5,2),(2,3),(3,0),(0,7),(7,6),(6,4),(4,9)])\n",
    "F = nx.Graph()\n",
    "F.add_weighted_edges_from([(8,10,3.971), (10,1,4.928),(1,5,2.059),(5,2,5.439),(2,3,10.981),(3,0,5.533),(0,7,0.154),(7,6,0.093),(6,4,3.026),(4,9,11.342)])"
   ]
  },
  {
   "cell_type": "code",
   "execution_count": null,
   "metadata": {},
   "outputs": [],
   "source": [
    "def traintest2(file, data, save=False,params=None,stemmed=\"stemmed_text\",normal=\"normal_text\"):\n",
    "    train, test = data\n",
    "    pipe, stem = getbestpipe(file)\n",
    "    if params!=None:\n",
    "        pipe.set_params(**params)\n",
    "    text = stemmed if stem else normal\n",
    "    pipe.fit(train[text], train.party)\n",
    "    predicted = pipe.predict(test[text])\n",
    "    cm = confusion_matrix(test.party, predicted)\n",
    "    tot = len(predicted)\n",
    "    ggg = defaultdict(int)\n",
    "    ideology = defaultdict(list)\n",
    "    ideologyw = defaultdict(list)\n",
    "    mix = []\n",
    "    regering = []\n",
    "    oppositie = []\n",
    "    for i in range(cm.shape[0]):\n",
    "        for j in range(cm.shape[0]):\n",
    "            if i!=j:\n",
    "                a = (sum(cm[i,:])-cm[i,i]) * (sum(cm[j,:])/(tot-sum(cm[i,:])))\n",
    "                ggg[(i,sum(cm[i,:]))]+=a\n",
    "                if i in [6,10] and j in [6,10]:\n",
    "                    regering.append(cm[i,j]-a)\n",
    "                elif i in [0,1,2,3,4,5,7,8,9] and j in [0,1,2,3,4,5,7,8,9]:\n",
    "                    oppositie.append(cm[i,j]-a)\n",
    "                else:\n",
    "                    mix.append(cm[i,j]-a)\n",
    "                ideology[nx.shortest_path_length(G,i,j)].append(cm[i,j]-a)\n",
    "                ideologyw[nx.dijkstra_path_length(F,i,j)].append(cm[i,j]-a)\n",
    "    return pipe, oppositie, regering, mix, ggg, ideology,ideologyw"
   ]
  },
  {
   "cell_type": "code",
   "execution_count": null,
   "metadata": {},
   "outputs": [],
   "source": [
    "o = []\n",
    "m = []\n",
    "r = []\n",
    "g = {}\n",
    "ideology2 = []\n",
    "ideology3 = []\n",
    "for i in tqdm(range(100)):\n",
    "    pipe, oppositie, regering, mix, ggg, ideology, ideologyw =traintest2('Scores.xlsx', train_test_split(df, test_size=0.2),params= {'SGD__max_iter':100}, stemmed='stemmed_withoutnames', normal='normal_withoutnames')\n",
    "    g ={**g, **ggg}\n",
    "    o.append(oppositie)\n",
    "    r.append(regering)\n",
    "    m.append(mix)\n",
    "    ideology2.append(ideology)\n",
    "    ideology3.append(ideologyw)"
   ]
  },
  {
   "cell_type": "code",
   "execution_count": null,
   "metadata": {},
   "outputs": [],
   "source": [
    "ideology = []\n",
    "for i in ideology3:\n",
    "    for j,k in i.items():\n",
    "        for l in k:\n",
    "            ideology.append((j,l))\n",
    "\n",
    "ideology = pd.DataFrame(ideology, columns=['distance','error'])\n",
    "oppositielist = []\n",
    "for i in [0,1,2,3,4,5,7,8,9]:\n",
    "    for j in [0,1,2,3,4,5,7,8,9]:\n",
    "        oppositielist.append(nx.dijkstra_path_length(F,i,j))\n",
    "def status(x):\n",
    "    if x in oppositielist:\n",
    "        return 'Binnen opppositie'\n",
    "    elif x==29.187:\n",
    "        return 'Binnen regering'\n",
    "    else:\n",
    "        return 'Tussen oppositie en regering'\n",
    "ideology['Partij-status'] = ideology.distance.apply(lambda x: status(x))\n",
    "q= sns.lmplot(x='distance', y='error', hue='Partij-status', data=ideology,fit_reg=False, palette=sns.color_palette(\"Blues\", 3))\n",
    "ax = sns.regplot(ideology.distance, ideology.error, scatter=False, ax=q.axes[0, 0])\n",
    "ax.set(xlabel = 'Afstand op links/rechts schaal', ylabel = 'Misclassificaties / Totaal aantal documenten')\n",
    "fig = ax.get_figure()\n",
    "fig.savefig('Verslag/Tables/Ideology.png')\n",
    "print(\"totaal:\",scipy.stats.pearsonr(ideology.distance,ideology.error))\n",
    "print(\"oppositie:\",scipy.stats.pearsonr(ideology.loc[ideology['Partij-status'] == 'Binnen opppositie'].distance,ideology.loc[ideology['Partij-status'] == 'Binnen opppositie'].error))\n",
    "print(\"mixed:\",scipy.stats.pearsonr(ideology.loc[ideology['Partij-status'] == 'Tussen oppositie en regering'].distance,ideology.loc[ideology['Partij-status'] == 'Tussen oppositie en regering'].error))"
   ]
  },
  {
   "cell_type": "code",
   "execution_count": null,
   "metadata": {},
   "outputs": [],
   "source": [
    "(keys,values) = zip(*g.items())\n",
    "party, keys = zip(*keys)\n",
    "keys = pd.Series(keys,name='false negatives + true positives')\n",
    "values = pd.Series(values,name='false positives')\n",
    "party = pd.Series(party,name=\"Partij\").replace(dict(enumerate(sorted(df.party.unique()))))\n",
    "q = sns.lmplot(x='false negatives + true positives', y='false positives', hue='Partij', data=pd.concat([keys, values, party], axis=1),fit_reg=False, palette=sns.color_palette(\"hls\", 11))\n",
    "ax = sns.regplot(keys, values, scatter=False, ax=q.axes[0, 0])\n",
    "fig = ax.get_figure()\n",
    "fig.savefig('Verslag/Tables/Correlation.png') \n",
    "scipy.stats.pearsonr(keys,values)"
   ]
  },
  {
   "cell_type": "code",
   "execution_count": null,
   "metadata": {},
   "outputs": [],
   "source": [
    "# Dit gebruiken\n",
    "ax = sns.distplot(list(chain.from_iterable(o)),kde=True)\n",
    "ax.set(xlabel = 'Error')\n",
    "fig = ax.get_figure()\n",
    "fig.savefig('Verslag/Tables/Oppositie.png') \n",
    "print(\"Mean:\",np.mean(list(chain.from_iterable(o))))\n",
    "print(scipy.stats.normaltest(list(chain.from_iterable((o-np.mean(o))/np.std(o)))))"
   ]
  },
  {
   "cell_type": "code",
   "execution_count": null,
   "metadata": {},
   "outputs": [],
   "source": [
    "ax = sns.distplot(list(chain.from_iterable(r)),kde=True)\n",
    "ax.set(xlabel = 'Error')\n",
    "fig = ax.get_figure()\n",
    "fig.savefig('Verslag/Tables/Regering.png') \n",
    "np.mean(list(chain.from_iterable(r)))\n",
    "print(scipy.stats.normaltest(list(chain.from_iterable((r-np.mean(r))/np.std(r)))))"
   ]
  },
  {
   "cell_type": "code",
   "execution_count": null,
   "metadata": {},
   "outputs": [],
   "source": [
    "ax = sns.distplot(list(chain.from_iterable(m)),kde=True)\n",
    "ax.set(xlabel = 'Error')\n",
    "fig = ax.get_figure()\n",
    "fig.savefig('Verslag/Tables/Mix.png') \n",
    "np.mean(list(chain.from_iterable(m)))\n",
    "print(scipy.stats.normaltest(list(chain.from_iterable((m-np.mean(m))/np.std(m)))))"
   ]
  },
  {
   "cell_type": "code",
   "execution_count": null,
   "metadata": {},
   "outputs": [],
   "source": [
    "ax = sns.distplot(list(chain.from_iterable(m+o+r)),kde=True)\n",
    "ax.set(xlabel = 'Error')\n",
    "fig = ax.get_figure()\n",
    "fig.savefig('Verslag/Tables/Totaal.png')\n",
    "print(np.mean(list(chain.from_iterable(m+o+r))))\n",
    "print(scipy.stats.normaltest(((list(chain.from_iterable(m+o+r)))-np.mean(list(chain.from_iterable(m+o+r))))/np.std(list(chain.from_iterable(m+o+r)))))"
   ]
  },
  {
   "cell_type": "code",
   "execution_count": null,
   "metadata": {},
   "outputs": [],
   "source": [
    "# https://stackoverflow.com/questions/15984221/how-to-perform-two-sample-one-tailed-t-test-with-numpy-scipy\n",
    "print(\"R:\", scipy.stats.mannwhitneyu(list(chain.from_iterable(r)),list(chain.from_iterable(m)),alternative='greater'))\n",
    "print(\"O:\", scipy.stats.mannwhitneyu(list(chain.from_iterable(o)),list(chain.from_iterable(m)),alternative='greater'))\n"
   ]
  },
  {
   "cell_type": "markdown",
   "metadata": {},
   "source": [
    "# Woorden Balkenende 4"
   ]
  },
  {
   "cell_type": "code",
   "execution_count": null,
   "metadata": {},
   "outputs": [],
   "source": [
    "# Importing data\n",
    "dfb4 = importdata(\"HandelingenBalkenende4.csv\")\n",
    "dfb4['stemmed_text'] = dfb4.text.apply(lambda x: ' '.join([stemmer.stem(t) for t in tokenizer.tokenize(x)]))\n",
    "dfb4 = dfb4.loc[dfb4.stemmed_text.apply(lambda x: len(x.split(' '))) < math.exp(fit[0]+2*fit[1])]\n",
    "dfb4 = dfb4.loc[dfb4.stemmed_text.apply(lambda x: len(x.split(' '))) > math.exp(fit[0]-2*fit[1])]"
   ]
  },
  {
   "cell_type": "code",
   "execution_count": null,
   "metadata": {},
   "outputs": [],
   "source": [
    "# Creates a dataframe with counts of dataset per party\n",
    "countdfb4 = pd.concat([dfb4.party.value_counts(),dfb4[dfb4['titel'].str.contains(\"Vragen van het lid\")].party.value_counts(), dfb4[~dfb4['titel'].str.contains(\"Vragen van het lid\")].party.value_counts()], axis=1)\n",
    "countdfb4.columns = ['Totaal', 'Vragenuur','Debat']\n",
    "countdfb4 = countdfb4.sort_values(\"Totaal\",axis=0, ascending=False)\n",
    "countdfb4 = countdfb4.sort_index()\n",
    "with open(\"Verslag/Tables/SpreekbeurtenBal.tex\", \"w\") as f:\n",
    "    f.write(countdfb4.to_latex(header=True))\n",
    "countdfb4"
   ]
  },
  {
   "cell_type": "code",
   "execution_count": null,
   "metadata": {},
   "outputs": [],
   "source": [
    "simpleprediction = np.random.choice(countdfb4.index, len(dfb4.party), p = [x/countdfb4[\"Totaal\"].sum() for x in list(countdfb4['Totaal'])])\n",
    "print(classification_report(dfb4.party, simpleprediction))\n",
    "print(\"Accuracy:\",accuracy_score(dfb4.party, np.full(len(dfb4.party), countdfb4[\"Totaal\"].idxmax())))"
   ]
  },
  {
   "cell_type": "code",
   "execution_count": null,
   "metadata": {},
   "outputs": [],
   "source": [
    "Party_synomyns = [\"Partij van de Arbeid\",\"Socialistische Partij\",\"Partij voor de Dieren\",\"Volkspartij voor Vrijheid en Democratie\",\"Partij voor de Vrijheid\"]\n",
    "partijnamen = list(dfb4.party.unique()) + Party_synomyns\n",
    "partijnamen += [\"[Hh]et \"+ x for x in partijnamen] + [\"[Dd]e \"+ x for x in partijnamen]\n",
    "partijnamen = re.compile('|'.join(partijnamen))\n",
    "kamerlidnamen = re.compile('|'.join(dfb4.surname.unique())+\"|Kortenhorst|Wiegman|De Roos|Schreijer|Willemse|Snijder|Van Vroonhoven|Dezentjé Hamming|Blanksma|Buma|De Pater|Ortega|Madsen\")\n",
    "temp = dfb4.text.apply(lambda x: re.sub(kamerlidnamen,\"xxxxx\",re.sub(partijnamen,\"yyyyy\",x)).lower())\n",
    "dfb4['stemmed_withoutnames'] = temp.apply(lambda x: ' '.join([stemmer.stem(t).replace(\"xxxxx\",'KAMERLID').replace(\"yyyyy\", 'PARTIJ').replace(\"KAMERLIDman\", \"timmerman\") for t in tokenizer.tokenize(x)]))\n",
    "dfb4['normal_withoutnames'] = temp.apply(lambda x: ' '.join([t.replace(\"xxxxx\",'KAMERLID').replace(\"yyyyy\", 'PARTIJ').replace(\"KAMERLIDman\", \"timmerman\") for t in tokenizer.tokenize(x)]))"
   ]
  },
  {
   "cell_type": "code",
   "execution_count": null,
   "metadata": {},
   "outputs": [],
   "source": [
    "pipe, indiceslist = traintest('Scores.xlsx', dfb4, normal = 'normal_withoutnames', stemmed='stemmed_withoutnames',params= {'SGD__max_iter':100})"
   ]
  },
  {
   "cell_type": "code",
   "execution_count": null,
   "metadata": {},
   "outputs": [],
   "source": [
    "mostimportantwords(pipe, countdfb4, 'WoordenBalkenende4')"
   ]
  },
  {
   "cell_type": "code",
   "execution_count": null,
   "metadata": {},
   "outputs": [],
   "source": [
    "pipe, indiceslist = traintest('Scores.xlsx', df[df.party != '50PLUS'],params= {'SGD__max_iter':100}, stemmed='stemmed_withoutnames', normal='normal_withoutnames')"
   ]
  },
  {
   "cell_type": "code",
   "execution_count": null,
   "metadata": {},
   "outputs": [],
   "source": [
    "# Creates a dataframe with counts of dataset per party\n",
    "dfz5 = df[df.party != '50PLUS']\n",
    "countdfz5 = pd.concat([dfz5.party.value_counts(),dfz5[dfz5['titel'].str.contains(\"Vragen van het lid\")].party.value_counts(), dfz5[~dfz5['titel'].str.contains(\"Vragen van het lid\")].party.value_counts()], axis=1)\n",
    "countdfz5.columns = ['Totaal', 'Vragenuur','Debat']\n",
    "countdfz5 = countdfz5.sort_values(\"Totaal\",axis=0, ascending=False)\n",
    "countdfz5 = countdfz5.sort_index()\n",
    "countdfb4"
   ]
  },
  {
   "cell_type": "code",
   "execution_count": null,
   "metadata": {},
   "outputs": [],
   "source": [
    "simpleprediction = np.random.choice(countdfz5.index, len(dfz5.party), p = [x/countdfz5[\"Totaal\"].sum() for x in list(countdfz5['Totaal'])])\n",
    "print(classification_report(dfz5.party, simpleprediction))\n",
    "print(\"Accuracy:\",accuracy_score(dfz5.party, np.full(len(dfz5.party), countdfz5[\"Totaal\"].idxmax())))"
   ]
  },
  {
   "cell_type": "markdown",
   "metadata": {},
   "source": [
    "# Vergelijken"
   ]
  },
  {
   "cell_type": "code",
   "execution_count": null,
   "metadata": {},
   "outputs": [],
   "source": [
    "def traintest5(file, data, save=False, stemmed=\"stemmed_text\",normal=\"normal_text\",params=None):\n",
    "    pipe, stem = getbestpipe(file)\n",
    "    if params!=None:\n",
    "        pipe.set_params(**params)\n",
    "    train, test = data\n",
    "    text = stemmed if stem else normal\n",
    "    pipe.fit(train[text], train.party)\n",
    "    predicted = pipe.predict(test[text])\n",
    "    report = classification_report_csv(test.party, predicted)\n",
    "    print(report)\n",
    "    print(accuracy_score(test.party, predicted))\n",
    "    cnf_matrix = confusion_matrix(test.party, predicted)\n",
    "    plt.figure(figsize=(10, 10))\n",
    "    plot_confusion_matrix(cnf_matrix.astype(int), \\\n",
    "                      classes=sorted(list(train.party.unique())), \\\n",
    "                      title='Confusion matrix best estimator')\n",
    "    if save:\n",
    "        plt.savefig(\"Verslag/Tables/%s.png\" %save)\n",
    "        with open(\"Verslag/Tables/%s.tex\" %save, \"w\") as f:\n",
    "            f.write(report.to_latex())\n",
    "    return pipe"
   ]
  },
  {
   "cell_type": "code",
   "execution_count": null,
   "metadata": {},
   "outputs": [],
   "source": [
    "pipe = traintest5('Scores.xlsx', (df[df.party != '50PLUS'],dfb4), save=\"RutToBal\", stemmed=\"stemmed_withoutnames\", normal=\"normal_withoutnames\",params= {'SGD__max_iter':100})"
   ]
  },
  {
   "cell_type": "code",
   "execution_count": null,
   "metadata": {},
   "outputs": [],
   "source": [
    "pipe = traintest5('Scores.xlsx', (dfb4,df[df.party != '50PLUS']), save=\"BalToRut\", stemmed=\"stemmed_withoutnames\", normal=\"normal_withoutnames\",params= {'SGD__max_iter':100})"
   ]
  },
  {
   "cell_type": "code",
   "execution_count": null,
   "metadata": {},
   "outputs": [],
   "source": [
    "woordenBalk = pd.read_excel('WoordenBalkenende4.xlsx', index_col=0)\n",
    "woordenRut = pd.read_excel('MostImportantWordsWithoutNames.xlsx', index_col=0)\n",
    "commondict = defaultdict(dict)\n",
    "for partyB in [\"PvdA\", \"ChristenUnie\", \"CDA\"]:\n",
    "    for partyR in [\"VVD\", \"PvdA\"]:\n",
    "        commondict[partyB][partyR] = [x for x in set(woordenBalk[partyB])&set(woordenRut[partyR]) - set(woordenBalk[partyR]) - set(woordenRut[partyB])]\n",
    "commondict"
   ]
  },
  {
   "cell_type": "code",
   "execution_count": null,
   "metadata": {},
   "outputs": [],
   "source": [
    "oppositiewoorden = woordenBalk.drop([\"PvdA\", \"ChristenUnie\", \"CDA\"], axis=1).values.flatten()\n",
    "pointlesswords = [\"in\",\"men\",\"de\"]\n",
    "for partyB in [\"PvdA\",\"CDA\", \"ChristenUnie\"]:\n",
    "    for partyR in [\"PvdA\", \"ChristenUnie\", \"CDA\"]:\n",
    "        if partyR!=partyB:\n",
    "            for word in woordenBalk[partyR]:\n",
    "                for word2 in woordenBalk[partyB]:\n",
    "                    if word in word2 and word not in pointlesswords and word2 not in pointlesswords and word not in oppositiewoorden and word2 not in oppositiewoorden:\n",
    "                        #print(partyB, \"->\",partyR,\":\",word,\",\", word2)\n",
    "                        continue"
   ]
  },
  {
   "cell_type": "code",
   "execution_count": null,
   "metadata": {},
   "outputs": [],
   "source": [
    "oppositiewoorden = woordenRut.drop(['VVD', 'PvdA'], axis=1).values.flatten()\n",
    "for partyB in [\"PvdA\", \"VVD\"]:\n",
    "    for partyR in [\"VVD\", \"PvdA\"]:\n",
    "        if partyR!=partyB:\n",
    "            for word in woordenRut[partyR]:\n",
    "                for word2 in woordenRut[partyB]:\n",
    "                    if word in word2 and word not in [\"en\",\"in\",\"men\"] and word2 not in [\"en\",\"in\",\"men\"] and word not in oppositiewoorden and word2 not in oppositiewoorden:\n",
    "                        print(partyB, \"->\",partyR,\":\",word,\",\", word2)"
   ]
  },
  {
   "cell_type": "markdown",
   "metadata": {},
   "source": [
    "# Taalgebruik van sprekers"
   ]
  },
  {
   "cell_type": "code",
   "execution_count": 19,
   "metadata": {},
   "outputs": [],
   "source": [
    "def traintest3(pipe, text, data, save=False):\n",
    "    trainsprekers, testsprekers = train_test_split(data.surname.unique(), test_size=0.2)\n",
    "    train = data[data['surname'].isin(trainsprekers)]\n",
    "    test = data[data['surname'].isin(testsprekers)]\n",
    "     \n",
    "    pipe.fit(train[text], train.party)\n",
    "    predicted = pipe.predict(test[text])\n",
    "    report = classification_report_csv(test.party, predicted)\n",
    "    accuracy = accuracy_score(test.party, predicted)\n",
    "    cnf_matrix = confusion_matrix(test.party, predicted)\n",
    "    indices = np.where(test.party != predicted)\n",
    "    indices = test.iloc[indices].index.values\n",
    "    return pipe, cnf_matrix, report, accuracy, indices\n",
    "    "
   ]
  },
  {
   "cell_type": "code",
   "execution_count": 20,
   "metadata": {},
   "outputs": [
    {
     "name": "stderr",
     "output_type": "stream",
     "text": [
      "  0%|                                                                                            | 0/5 [00:00<?, ?it/s]c:\\users\\m6800\\appdata\\local\\programs\\python\\python36\\lib\\site-packages\\sklearn\\metrics\\classification.py:1137: UndefinedMetricWarning: Recall and F-score are ill-defined and being set to 0.0 in labels with no true samples.\n",
      "  'recall', 'true', average, warn_for)\n",
      " 20%|████████████████▌                                                                  | 1/5 [04:00<16:02, 240.72s/it]c:\\users\\m6800\\appdata\\local\\programs\\python\\python36\\lib\\site-packages\\sklearn\\metrics\\classification.py:1137: UndefinedMetricWarning: Recall and F-score are ill-defined and being set to 0.0 in labels with no true samples.\n",
      "  'recall', 'true', average, warn_for)\n",
      " 60%|█████████████████████████████████████████████████▊                                 | 3/5 [11:56<07:57, 238.85s/it]c:\\users\\m6800\\appdata\\local\\programs\\python\\python36\\lib\\site-packages\\sklearn\\metrics\\classification.py:1137: UndefinedMetricWarning: Recall and F-score are ill-defined and being set to 0.0 in labels with no true samples.\n",
      "  'recall', 'true', average, warn_for)\n",
      " 80%|██████████████████████████████████████████████████████████████████▍                | 4/5 [15:45<03:56, 236.44s/it]c:\\users\\m6800\\appdata\\local\\programs\\python\\python36\\lib\\site-packages\\sklearn\\metrics\\classification.py:1137: UndefinedMetricWarning: Recall and F-score are ill-defined and being set to 0.0 in labels with no true samples.\n",
      "  'recall', 'true', average, warn_for)\n",
      "100%|███████████████████████████████████████████████████████████████████████████████████| 5/5 [19:23<00:00, 232.60s/it]\n"
     ]
    },
    {
     "name": "stdout",
     "output_type": "stream",
     "text": [
      "              Precision  Recall  F1 score  Documenten\n",
      "50PLUS             0.73    0.14      0.22         178\n",
      "CDA                0.10    0.24      0.13         192\n",
      "ChristenUnie       0.12    0.10      0.08         247\n",
      "D66                0.26    0.23      0.22         426\n",
      "GroenLinks         0.34    0.03      0.05         485\n",
      "PVV                0.39    0.52      0.40         323\n",
      "PvdA               0.23    0.18      0.18         428\n",
      "PvdD               0.63    0.28      0.32         169\n",
      "SGP                0.31    0.10      0.15         190\n",
      "SP                 0.15    0.47      0.20         284\n",
      "Totaal             0.32    0.20      0.20        3014\n",
      "VVD                0.27    0.25      0.25         357\n",
      "0.20351635497948478\n"
     ]
    },
    {
     "data": {
      "image/png": "[encoded data removed]",
      "text/plain": [
       "<Figure size 720x720 with 1 Axes>"
      ]
     },
     "metadata": {},
     "output_type": "display_data"
    },
    {
     "data": {
      "text/html": [
       "<div>\n",
       "<style scoped>\n",
       "    .dataframe tbody tr th:only-of-type {\n",
       "        vertical-align: middle;\n",
       "    }\n",
       "\n",
       "    .dataframe tbody tr th {\n",
       "        vertical-align: top;\n",
       "    }\n",
       "\n",
       "    .dataframe thead th {\n",
       "        text-align: right;\n",
       "    }\n",
       "</style>\n",
       "<table border=\"1\" class=\"dataframe\">\n",
       "  <thead>\n",
       "    <tr style=\"text-align: right;\">\n",
       "      <th></th>\n",
       "      <th>50PLUS</th>\n",
       "      <th>CDA</th>\n",
       "      <th>ChristenUnie</th>\n",
       "      <th>D66</th>\n",
       "      <th>GroenLinks</th>\n",
       "      <th>PVV</th>\n",
       "      <th>PvdA</th>\n",
       "      <th>PvdD</th>\n",
       "      <th>SGP</th>\n",
       "      <th>SP</th>\n",
       "      <th>VVD</th>\n",
       "    </tr>\n",
       "  </thead>\n",
       "  <tbody>\n",
       "    <tr>\n",
       "      <th>0</th>\n",
       "      <td>ouderen</td>\n",
       "      <td>PARTIJ fractie</td>\n",
       "      <td>vluchtelingen</td>\n",
       "      <td>mijn fractie</td>\n",
       "      <td>kamer hierover te</td>\n",
       "      <td>islamitische</td>\n",
       "      <td>en</td>\n",
       "      <td>dieren</td>\n",
       "      <td>beantwoording</td>\n",
       "      <td>zegt</td>\n",
       "      <td>volgens mij</td>\n",
       "    </tr>\n",
       "    <tr>\n",
       "      <th>1</th>\n",
       "      <td>gepensioneerden</td>\n",
       "      <td>inwoners</td>\n",
       "      <td>mensenhandel</td>\n",
       "      <td>mijn</td>\n",
       "      <td>schone</td>\n",
       "      <td>miljard</td>\n",
       "      <td>jongeren</td>\n",
       "      <td>natuur</td>\n",
       "      <td>mevrouw de voorzitter</td>\n",
       "      <td>mening dat</td>\n",
       "      <td>aruba</td>\n",
       "    </tr>\n",
       "    <tr>\n",
       "      <th>2</th>\n",
       "      <td>koopkrachtontwikkeling</td>\n",
       "      <td>PARTIJ</td>\n",
       "      <td>19637</td>\n",
       "      <td>natuurlijk</td>\n",
       "      <td>schone energie</td>\n",
       "      <td>islam</td>\n",
       "      <td>sociale</td>\n",
       "      <td>milieu</td>\n",
       "      <td>mevrouw de</td>\n",
       "      <td>van mening dat</td>\n",
       "      <td>PARTIJ fractie</td>\n",
       "    </tr>\n",
       "    <tr>\n",
       "      <th>3</th>\n",
       "      <td>werkenden</td>\n",
       "      <td>regering</td>\n",
       "      <td>kinderen</td>\n",
       "      <td>het kabinet</td>\n",
       "      <td>hierover te</td>\n",
       "      <td>de islam</td>\n",
       "      <td>kinderen</td>\n",
       "      <td>constaterende</td>\n",
       "      <td>punt</td>\n",
       "      <td>bezuinigingen</td>\n",
       "      <td>aangegeven</td>\n",
       "    </tr>\n",
       "    <tr>\n",
       "      <th>4</th>\n",
       "      <td>oudere</td>\n",
       "      <td>wij</td>\n",
       "      <td>rechtsstaat</td>\n",
       "      <td>belangrijk</td>\n",
       "      <td>hierover te informeren</td>\n",
       "      <td>nederland</td>\n",
       "      <td>wij</td>\n",
       "      <td>constaterende dat</td>\n",
       "      <td>voor de beantwoording</td>\n",
       "      <td>bestuurders</td>\n",
       "      <td>essentieel</td>\n",
       "    </tr>\n",
       "    <tr>\n",
       "      <th>5</th>\n",
       "      <td>overwegende</td>\n",
       "      <td>echt</td>\n",
       "      <td>zullen</td>\n",
       "      <td>kabinet</td>\n",
       "      <td>zou</td>\n",
       "      <td>al</td>\n",
       "      <td>mijn</td>\n",
       "      <td>bio</td>\n",
       "      <td>bewindslieden</td>\n",
       "      <td>van mening</td>\n",
       "      <td>uwv</td>\n",
       "    </tr>\n",
       "    <tr>\n",
       "      <th>6</th>\n",
       "      <td>overwegende dat</td>\n",
       "      <td>de regering</td>\n",
       "      <td>inderdaad</td>\n",
       "      <td>daarom</td>\n",
       "      <td>in elk geval</td>\n",
       "      <td>natuurlijk</td>\n",
       "      <td>blij</td>\n",
       "      <td>de bio</td>\n",
       "      <td>de beantwoording</td>\n",
       "      <td>mening</td>\n",
       "      <td>speelveld</td>\n",
       "    </tr>\n",
       "    <tr>\n",
       "      <th>7</th>\n",
       "      <td>PARTIJ</td>\n",
       "      <td>hier</td>\n",
       "      <td>gezinnen</td>\n",
       "      <td>fractie</td>\n",
       "      <td>elk geval</td>\n",
       "      <td>miljarden</td>\n",
       "      <td>de regering tevens</td>\n",
       "      <td>bio industrie</td>\n",
       "      <td>op</td>\n",
       "      <td>huurders</td>\n",
       "      <td>daadwerkelijk</td>\n",
       "    </tr>\n",
       "    <tr>\n",
       "      <th>8</th>\n",
       "      <td>voor gepensioneerden</td>\n",
       "      <td>fractie</td>\n",
       "      <td>inmiddels</td>\n",
       "      <td>vandaag</td>\n",
       "      <td>in elk</td>\n",
       "      <td>beraadslaging verzoekt</td>\n",
       "      <td>regering tevens</td>\n",
       "      <td>industrie</td>\n",
       "      <td>nadrukkelijk</td>\n",
       "      <td>de bevolking</td>\n",
       "      <td>beantwoording</td>\n",
       "    </tr>\n",
       "    <tr>\n",
       "      <th>9</th>\n",
       "      <td>mevrouw de voorzitter</td>\n",
       "      <td>uiteindelijk</td>\n",
       "      <td>christenen</td>\n",
       "      <td>minister</td>\n",
       "      <td>regering om</td>\n",
       "      <td>de beraadslaging verzoekt</td>\n",
       "      <td>tevens</td>\n",
       "      <td>aarde</td>\n",
       "      <td>allereerst</td>\n",
       "      <td>voorstellen</td>\n",
       "      <td>ao</td>\n",
       "    </tr>\n",
       "  </tbody>\n",
       "</table>\n",
       "</div>"
      ],
      "text/plain": [
       "                   50PLUS             CDA   ChristenUnie           D66  \\\n",
       "0                 ouderen  PARTIJ fractie  vluchtelingen  mijn fractie   \n",
       "1         gepensioneerden        inwoners   mensenhandel          mijn   \n",
       "2  koopkrachtontwikkeling          PARTIJ          19637    natuurlijk   \n",
       "3               werkenden        regering       kinderen   het kabinet   \n",
       "4                  oudere             wij    rechtsstaat    belangrijk   \n",
       "5             overwegende            echt         zullen       kabinet   \n",
       "6         overwegende dat     de regering      inderdaad        daarom   \n",
       "7                  PARTIJ            hier       gezinnen       fractie   \n",
       "8    voor gepensioneerden         fractie      inmiddels       vandaag   \n",
       "9   mevrouw de voorzitter    uiteindelijk     christenen      minister   \n",
       "\n",
       "               GroenLinks                        PVV                PvdA  \\\n",
       "0       kamer hierover te               islamitische                  en   \n",
       "1                  schone                    miljard            jongeren   \n",
       "2          schone energie                      islam             sociale   \n",
       "3             hierover te                   de islam            kinderen   \n",
       "4  hierover te informeren                  nederland                 wij   \n",
       "5                     zou                         al                mijn   \n",
       "6            in elk geval                 natuurlijk                blij   \n",
       "7               elk geval                  miljarden  de regering tevens   \n",
       "8                  in elk     beraadslaging verzoekt     regering tevens   \n",
       "9             regering om  de beraadslaging verzoekt              tevens   \n",
       "\n",
       "                PvdD                    SGP              SP             VVD  \n",
       "0             dieren          beantwoording            zegt     volgens mij  \n",
       "1             natuur  mevrouw de voorzitter      mening dat           aruba  \n",
       "2             milieu             mevrouw de  van mening dat  PARTIJ fractie  \n",
       "3      constaterende                   punt   bezuinigingen      aangegeven  \n",
       "4  constaterende dat  voor de beantwoording     bestuurders      essentieel  \n",
       "5                bio          bewindslieden      van mening             uwv  \n",
       "6             de bio       de beantwoording          mening       speelveld  \n",
       "7      bio industrie                     op        huurders   daadwerkelijk  \n",
       "8          industrie           nadrukkelijk    de bevolking   beantwoording  \n",
       "9              aarde             allereerst     voorstellen              ao  "
      ]
     },
     "execution_count": 20,
     "metadata": {},
     "output_type": "execute_result"
    }
   ],
   "source": [
    "pipe, indiceslist = traintest('Scores.xlsx', df ,save=\"taalgebruik\", stemmed='stemmed_withoutnames', normal='normal_withoutnames',params= {'SGD__max_iter':100})\n",
    "mostimportantwords(pipe, countdf, 'taalgebruik')"
   ]
  },
  {
   "cell_type": "code",
   "execution_count": null,
   "metadata": {},
   "outputs": [],
   "source": []
  }
 ],
 "metadata": {
  "kernelspec": {
   "display_name": "Python 3",
   "language": "python",
   "name": "python3"
  },
  "language_info": {
   "codemirror_mode": {
    "name": "ipython",
    "version": 3
   },
   "file_extension": ".py",
   "mimetype": "text/x-python",
   "name": "python",
   "nbconvert_exporter": "python",
   "pygments_lexer": "ipython3",
   "version": "3.6.4"
  }
 },
 "nbformat": 4,
 "nbformat_minor": 2
}
